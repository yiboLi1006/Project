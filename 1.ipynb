{
 "cells": [
  {
   "cell_type": "markdown",
   "source": [
    "#### 计算每个目标星系在随机样本下的近邻（以投影距离计）"
   ],
   "metadata": {
    "collapsed": false,
    "pycharm": {
     "name": "#%% md\n"
    }
   }
  },
  {
   "cell_type": "code",
   "execution_count": 31,
   "outputs": [],
   "source": [
    "import random\n",
    "# import matplotlib as plt\n",
    "import matplotlib.pyplot as plt\n",
    "import time\n",
    "import warnings\n",
    "import numpy as np\n",
    "import pandas as pd\n",
    "\n",
    "\n",
    "def distance(ra1,dec1,ra2,dec2):\n",
    "    return (np.arccos(np.sin(dec1) * np.sin(dec2) + np.cos(dec1) * np.cos(dec2) * np.cos(ra1 - ra2))) * 3600  #output:arcsec\n",
    "\n",
    "\n",
    "data_no_merger = pd.read_csv('D:/COSMOS 2015 cataloge/2/no_merger_info.csv')\n",
    "data_merger = pd.read_csv('D:/COSMOS 2015 cataloge/2/merger_info.csv')\n",
    "data_result = pd.read_csv('D:/COSMOS 2015 cataloge/2/cataloge/table_results_1.csv')\n",
    "\n",
    "ra_max=(data_result['ra'].max())\n",
    "dec_max=(data_result['dec'].max())\n",
    "ra_min=data_result['ra'].min()\n",
    "dec_min=data_result['dec'].min()"
   ],
   "metadata": {
    "collapsed": false,
    "pycharm": {
     "name": "#%%\n"
    }
   }
  },
  {
   "cell_type": "code",
   "execution_count": 32,
   "outputs": [
    {
     "name": "stdout",
     "output_type": "stream",
     "text": [
      "0.5\n",
      "1\n",
      "1.5\n",
      "2\n",
      "2.5\n",
      "3\n",
      "3.5\n",
      "4\n",
      "5\n",
      "7\n",
      "9\n",
      "11\n",
      "time:124.12 min\n"
     ]
    }
   ],
   "source": [
    "np.random.seed(0)\n",
    "ra_random_0=np.random.uniform(ra_min,ra_max,(len(data_result['ra'])))\n",
    "dec_random_0=np.random.uniform(dec_min,dec_max,(len(data_result['ra'])))\n",
    "\n",
    "\n",
    "warnings.filterwarnings(\"ignore\")\n",
    "\n",
    "data_result_ra=data_result['ra']\n",
    "data_result_dec=data_result['dec']\n",
    "\n",
    "t_1=time.time()\n",
    "\n",
    "lim=0.0033333333333     # 矩形采样天区阈值，S=12 arcsec * 12 arcsec\n",
    "count=0\n",
    "P=[0.5,1,1.5,2,2.5,3,3.5,4,5,7,9,11]  # 天球投影距离阈值，arcsec\n",
    "dis_list=list(-99*np.ones((1,len(data_result['ra']))))\n",
    "dis_list__=[]\n",
    "\n",
    "for p in P:\n",
    "    for ra1,dec1 in zip(data_result_ra,data_result_dec):\n",
    "        for ra2,dec2 in zip(ra_random_0,dec_random_0):  # 此循环用于计算单个点的近邻计数count\n",
    "            if (ra1+lim > ra2 > ra1-lim) and (dec1+lim > dec2 > dec1-lim):\n",
    "                if distance(ra1,dec1,ra2,dec2)<=p:\n",
    "                    count+=1\n",
    "        dis_list__.append(count-1)   # 固定阈值时，近邻数的列表\n",
    "        count=0\n",
    "    print(p)\n",
    "    dis_list=np.vstack((dis_list,dis_list__))\n",
    "    dis_list__=[]\n",
    "\n",
    "t_2=time.time()\n",
    "print('time:{:.2f} min'.format((t_2-t_1)/60))\n",
    "\n",
    "stastic = pd.DataFrame(np.array(dis_list)).to_csv('D:/COSMOS 2015 cataloge/stastic_random_0.csv')"
   ],
   "metadata": {
    "collapsed": false,
    "pycharm": {
     "name": "#%%\n"
    }
   }
  },
  {
   "cell_type": "code",
   "execution_count": 33,
   "outputs": [
    {
     "name": "stdout",
     "output_type": "stream",
     "text": [
      "0.5\n",
      "1\n",
      "1.5\n",
      "2\n",
      "2.5\n",
      "3\n",
      "3.5\n",
      "4\n",
      "5\n",
      "7\n",
      "9\n",
      "11\n",
      "time:90.48 min\n"
     ]
    }
   ],
   "source": [
    "np.random.seed(10)\n",
    "ra_random_0=np.random.uniform(ra_min,ra_max,(len(data_result['ra'])))\n",
    "dec_random_0=np.random.uniform(dec_min,dec_max,(len(data_result['ra'])))\n",
    "\n",
    "\n",
    "warnings.filterwarnings(\"ignore\")\n",
    "\n",
    "data_result_ra=data_result['ra']\n",
    "data_result_dec=data_result['dec']\n",
    "\n",
    "t_1=time.time()\n",
    "\n",
    "lim=0.0033333333333     # 矩形采样天区阈值，S=12 arcsec * 12 arcsec\n",
    "count=0\n",
    "P=[0.5,1,1.5,2,2.5,3,3.5,4,5,7,9,11]  # 天球投影距离阈值，arcsec\n",
    "dis_list=list(-99*np.ones((1,len(data_result['ra']))))\n",
    "dis_list__=[]\n",
    "\n",
    "for p in P:\n",
    "    for ra1,dec1 in zip(data_result_ra,data_result_dec):\n",
    "        for ra2,dec2 in zip(ra_random_0,dec_random_0):  # 此循环用于计算单个点的近邻计数count\n",
    "            if (ra1+lim > ra2 > ra1-lim) and (dec1+lim > dec2 > dec1-lim):\n",
    "                if distance(ra1,dec1,ra2,dec2)<=p:\n",
    "                    count+=1\n",
    "        dis_list__.append(count-1)   # 固定阈值时，近邻数的列表\n",
    "        count=0\n",
    "    print(p)\n",
    "    dis_list=np.vstack((dis_list,dis_list__))\n",
    "    dis_list__=[]\n",
    "\n",
    "t_2=time.time()\n",
    "print('time:{:.2f} min'.format((t_2-t_1)/60))\n",
    "\n",
    "stastic = pd.DataFrame(np.array(dis_list)).to_csv('D:/COSMOS 2015 cataloge/stastic_random_10.csv')"
   ],
   "metadata": {
    "collapsed": false,
    "pycharm": {
     "name": "#%%\n"
    }
   }
  }
 ],
 "metadata": {
  "kernelspec": {
   "name": "conda-env-calculate-py",
   "language": "python",
   "display_name": "Python [conda env:calculate]"
  },
  "language_info": {
   "codemirror_mode": {
    "name": "ipython",
    "version": 2
   },
   "file_extension": ".py",
   "mimetype": "text/x-python",
   "name": "python",
   "nbconvert_exporter": "python",
   "pygments_lexer": "ipython2",
   "version": "2.7.6"
  }
 },
 "nbformat": 4,
 "nbformat_minor": 0
}