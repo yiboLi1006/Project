{
 "cells": [
  {
   "cell_type": "code",
   "execution_count": 22,
   "outputs": [],
   "source": [
    "import pandas as pd\n",
    "import numpy as np"
   ],
   "metadata": {
    "collapsed": false,
    "pycharm": {
     "name": "#%%\n"
    }
   }
  },
  {
   "cell_type": "code",
   "execution_count": 23,
   "outputs": [
    {
     "name": "stdout",
     "output_type": "stream",
     "text": [
      "<class 'pandas.core.frame.DataFrame'>\n",
      "RangeIndex: 12 entries, 0 to 11\n",
      "Columns: 24015 entries, 0 to 24014\n",
      "dtypes: float64(24015)\n",
      "memory usage: 2.2 MB\n",
      "None\n"
     ]
    }
   ],
   "source": [
    "neighbour_random = pd.read_csv('D:/COSMOS 2015 cataloge/stastic_random.csv')\n",
    "neighbour_random.drop(['Unnamed: 0'],axis=1,inplace=True)\n",
    "print(neighbour_random.info())"
   ],
   "metadata": {
    "collapsed": false,
    "pycharm": {
     "name": "#%%\n"
    }
   }
  },
  {
   "cell_type": "code",
   "execution_count": 24,
   "outputs": [],
   "source": [
    "array_random=np.array(neighbour_random)"
   ],
   "metadata": {
    "collapsed": false,
    "pycharm": {
     "name": "#%%\n"
    }
   }
  },
  {
   "cell_type": "code",
   "execution_count": 25,
   "outputs": [],
   "source": [
    "neighbour_data = pd.read_csv('D:/COSMOS 2015 cataloge/stastic_fixed.csv')\n",
    "neighbour_data.drop(['Unnamed: 0'],axis=1,inplace=True)"
   ],
   "metadata": {
    "collapsed": false,
    "pycharm": {
     "name": "#%%\n"
    }
   }
  },
  {
   "cell_type": "code",
   "execution_count": 26,
   "outputs": [],
   "source": [
    "array_data=np.array(neighbour_data)"
   ],
   "metadata": {
    "collapsed": false,
    "pycharm": {
     "name": "#%%\n"
    }
   }
  },
  {
   "cell_type": "code",
   "execution_count": 27,
   "outputs": [
    {
     "data": {
      "text/plain": "array([[0., 0., 0., ..., 0., 0., 0.],\n       [0., 0., 0., ..., 0., 0., 1.],\n       [0., 0., 0., ..., 0., 0., 1.],\n       ...,\n       [1., 1., 1., ..., 2., 1., 3.],\n       [3., 1., 2., ..., 2., 3., 4.],\n       [3., 2., 3., ..., 3., 4., 6.]])"
     },
     "execution_count": 27,
     "metadata": {},
     "output_type": "execute_result"
    }
   ],
   "source": [
    "array_data"
   ],
   "metadata": {
    "collapsed": false,
    "pycharm": {
     "name": "#%%\n"
    }
   }
  },
  {
   "cell_type": "code",
   "execution_count": 28,
   "outputs": [
    {
     "data": {
      "text/plain": "array([[0.        , 0.        , 0.        , ..., 0.        , 0.        ,\n        0.        ],\n       [0.        , 0.        , 0.        , ..., 0.        , 0.        ,\n        0.        ],\n       [0.        , 0.        , 0.        , ..., 0.33333333, 0.        ,\n        0.        ],\n       ...,\n       [1.        , 1.        , 0.66666667, ..., 2.33333333, 0.        ,\n        0.33333333],\n       [2.33333333, 2.        , 1.        , ..., 3.        , 0.66666667,\n        1.33333333],\n       [3.33333333, 2.        , 2.        , ..., 5.66666667, 1.33333333,\n        1.66666667]])"
     },
     "execution_count": 28,
     "metadata": {},
     "output_type": "execute_result"
    }
   ],
   "source": [
    "array_random"
   ],
   "metadata": {
    "collapsed": false,
    "pycharm": {
     "name": "#%%\n"
    }
   }
  },
  {
   "cell_type": "code",
   "execution_count": 29,
   "outputs": [
    {
     "data": {
      "text/plain": "0.0"
     },
     "execution_count": 29,
     "metadata": {},
     "output_type": "execute_result"
    }
   ],
   "source": [
    "np.log10(0+1)"
   ],
   "metadata": {
    "collapsed": false,
    "pycharm": {
     "name": "#%%\n"
    }
   }
  },
  {
   "cell_type": "code",
   "execution_count": 30,
   "outputs": [
    {
     "data": {
      "text/plain": "array([[ 0.        ,  0.        ,  0.        , ...,  0.        ,\n         0.        ,  0.        ],\n       [ 0.        ,  0.        ,  0.        , ...,  0.        ,\n         0.        ,  1.        ],\n       [ 0.        ,  0.        ,  0.        , ..., -0.33333333,\n         0.        ,  1.        ],\n       ...,\n       [ 0.        ,  0.        ,  0.33333333, ..., -0.33333333,\n         1.        ,  2.66666667],\n       [ 0.66666667, -1.        ,  1.        , ..., -1.        ,\n         2.33333333,  2.66666667],\n       [-0.33333333,  0.        ,  1.        , ..., -2.66666667,\n         2.66666667,  4.33333333]])"
     },
     "execution_count": 30,
     "metadata": {},
     "output_type": "execute_result"
    }
   ],
   "source": [
    "array_data-array_random"
   ],
   "metadata": {
    "collapsed": false,
    "pycharm": {
     "name": "#%%\n"
    }
   }
  },
  {
   "cell_type": "code",
   "execution_count": 32,
   "outputs": [],
   "source": [
    "desity=np.e**(array_data-array_random)"
   ],
   "metadata": {
    "collapsed": false,
    "pycharm": {
     "name": "#%%\n"
    }
   }
  },
  {
   "cell_type": "code",
   "execution_count": 33,
   "outputs": [
    {
     "data": {
      "text/plain": "array([[1.00000000e+00, 1.00000000e+00, 1.00000000e+00, ...,\n        1.00000000e+00, 1.00000000e+00, 1.00000000e+00],\n       [1.00000000e+00, 1.00000000e+00, 1.00000000e+00, ...,\n        1.00000000e+00, 1.00000000e+00, 2.71828183e+00],\n       [1.00000000e+00, 1.00000000e+00, 1.00000000e+00, ...,\n        7.16531311e-01, 1.00000000e+00, 2.71828183e+00],\n       ...,\n       [1.00000000e+00, 1.00000000e+00, 1.39561243e+00, ...,\n        7.16531311e-01, 2.71828183e+00, 1.43919161e+01],\n       [1.94773404e+00, 3.67879441e-01, 2.71828183e+00, ...,\n        3.67879441e-01, 1.03122585e+01, 1.43919161e+01],\n       [7.16531311e-01, 1.00000000e+00, 2.71828183e+00, ...,\n        6.94834512e-02, 1.43919161e+01, 7.61978566e+01]])"
     },
     "execution_count": 33,
     "metadata": {},
     "output_type": "execute_result"
    }
   ],
   "source": [
    "desity"
   ],
   "metadata": {
    "collapsed": false,
    "pycharm": {
     "name": "#%%\n"
    }
   }
  },
  {
   "cell_type": "code",
   "execution_count": 34,
   "outputs": [],
   "source": [
    "data_result=pd.read_csv('D:/COSMOS 2015 cataloge/2/cataloge/table_results_1.csv')"
   ],
   "metadata": {
    "collapsed": false,
    "pycharm": {
     "name": "#%%\n"
    }
   }
  },
  {
   "cell_type": "code",
   "execution_count": 35,
   "outputs": [
    {
     "data": {
      "text/plain": "               ra       dec      id  flux_814w  fluxerr_814w           age  \\\n0      150.145470  2.607174  861229      23.85         0.033  5.708840e+08   \n1      150.027668  2.606936  861326      23.96         0.036  1.800000e+09   \n2      149.573574  2.607722  861331      24.82         0.044  1.805290e+08   \n3      150.466397  2.607038  861427      24.31         0.055  4.534690e+08   \n4      150.750493  2.603779  861431      20.02         0.002  4.534690e+08   \n...           ...       ...     ...        ...           ...           ...   \n24010  150.275420  2.572271  838325      24.77         0.091  4.041540e+08   \n24011  150.257334  2.572355  838345      24.92         0.095  2.600000e+09   \n24012  150.524206  2.570270  838350      24.37         0.040  3.602030e+08   \n24013  150.308632  2.571043  838378      23.48         0.060  8.063960e+08   \n24014  150.010843  2.572651  838382      24.92         0.095  1.015180e+08   \n\n       mass_med  mass_med_min68  mass_med_max68  mass_best  sfr_med  \\\n0         9.883           9.819           9.939      9.901    1.557   \n1         8.958           8.879           9.089      8.953   -0.107   \n2         8.769           8.587           8.899      8.773    0.907   \n3         9.074           8.931           9.155      9.080    0.567   \n4         9.006           8.968           9.040      9.037    0.500   \n...         ...             ...             ...        ...      ...   \n24010     9.317           9.205           9.410      9.287    0.741   \n24011     9.730           9.656           9.830      9.894    0.852   \n24012    10.672          10.622          10.729     10.692    2.512   \n24013    10.079          10.017          10.150     10.085    1.580   \n24014     7.668           7.496           7.862      7.569   -0.276   \n\n       sfr_med_min68  sfr_med_max68  sfr_best  ssfr_med  ssfr_med_min68  \\\n0              1.474          1.644     1.565    -8.330          -8.422   \n1             -0.366          0.130    -0.103    -9.066          -9.461   \n2              0.832          0.978     0.914    -7.859          -8.046   \n3              0.441          0.897     0.480    -8.530          -8.678   \n4              0.432          0.568     0.533    -8.501          -8.569   \n...              ...            ...       ...       ...             ...   \n24010          0.642          0.872     0.745    -8.575          -8.716   \n24011          0.517          0.953     0.500    -8.870          -9.330   \n24012          2.436          2.580     2.551    -8.127          -8.196   \n24013          1.289          1.661     1.600    -8.488          -8.906   \n24014         -0.476         -0.099    -0.054    -7.946          -8.297   \n\n       ssfr_med_max68  ssfr_best  \n0              -8.233     -8.336  \n1              -8.762     -9.056  \n2              -7.623     -7.859  \n3              -8.026     -8.600  \n4              -8.432     -8.504  \n...               ...        ...  \n24010          -8.402     -8.543  \n24011          -8.736     -9.394  \n24012          -8.042     -8.142  \n24013          -8.403     -8.485  \n24014          -7.592     -7.623  \n\n[24015 rows x 18 columns]",
      "text/html": "<div>\n<style scoped>\n    .dataframe tbody tr th:only-of-type {\n        vertical-align: middle;\n    }\n\n    .dataframe tbody tr th {\n        vertical-align: top;\n    }\n\n    .dataframe thead th {\n        text-align: right;\n    }\n</style>\n<table border=\"1\" class=\"dataframe\">\n  <thead>\n    <tr style=\"text-align: right;\">\n      <th></th>\n      <th>ra</th>\n      <th>dec</th>\n      <th>id</th>\n      <th>flux_814w</th>\n      <th>fluxerr_814w</th>\n      <th>age</th>\n      <th>mass_med</th>\n      <th>mass_med_min68</th>\n      <th>mass_med_max68</th>\n      <th>mass_best</th>\n      <th>sfr_med</th>\n      <th>sfr_med_min68</th>\n      <th>sfr_med_max68</th>\n      <th>sfr_best</th>\n      <th>ssfr_med</th>\n      <th>ssfr_med_min68</th>\n      <th>ssfr_med_max68</th>\n      <th>ssfr_best</th>\n    </tr>\n  </thead>\n  <tbody>\n    <tr>\n      <th>0</th>\n      <td>150.145470</td>\n      <td>2.607174</td>\n      <td>861229</td>\n      <td>23.85</td>\n      <td>0.033</td>\n      <td>5.708840e+08</td>\n      <td>9.883</td>\n      <td>9.819</td>\n      <td>9.939</td>\n      <td>9.901</td>\n      <td>1.557</td>\n      <td>1.474</td>\n      <td>1.644</td>\n      <td>1.565</td>\n      <td>-8.330</td>\n      <td>-8.422</td>\n      <td>-8.233</td>\n      <td>-8.336</td>\n    </tr>\n    <tr>\n      <th>1</th>\n      <td>150.027668</td>\n      <td>2.606936</td>\n      <td>861326</td>\n      <td>23.96</td>\n      <td>0.036</td>\n      <td>1.800000e+09</td>\n      <td>8.958</td>\n      <td>8.879</td>\n      <td>9.089</td>\n      <td>8.953</td>\n      <td>-0.107</td>\n      <td>-0.366</td>\n      <td>0.130</td>\n      <td>-0.103</td>\n      <td>-9.066</td>\n      <td>-9.461</td>\n      <td>-8.762</td>\n      <td>-9.056</td>\n    </tr>\n    <tr>\n      <th>2</th>\n      <td>149.573574</td>\n      <td>2.607722</td>\n      <td>861331</td>\n      <td>24.82</td>\n      <td>0.044</td>\n      <td>1.805290e+08</td>\n      <td>8.769</td>\n      <td>8.587</td>\n      <td>8.899</td>\n      <td>8.773</td>\n      <td>0.907</td>\n      <td>0.832</td>\n      <td>0.978</td>\n      <td>0.914</td>\n      <td>-7.859</td>\n      <td>-8.046</td>\n      <td>-7.623</td>\n      <td>-7.859</td>\n    </tr>\n    <tr>\n      <th>3</th>\n      <td>150.466397</td>\n      <td>2.607038</td>\n      <td>861427</td>\n      <td>24.31</td>\n      <td>0.055</td>\n      <td>4.534690e+08</td>\n      <td>9.074</td>\n      <td>8.931</td>\n      <td>9.155</td>\n      <td>9.080</td>\n      <td>0.567</td>\n      <td>0.441</td>\n      <td>0.897</td>\n      <td>0.480</td>\n      <td>-8.530</td>\n      <td>-8.678</td>\n      <td>-8.026</td>\n      <td>-8.600</td>\n    </tr>\n    <tr>\n      <th>4</th>\n      <td>150.750493</td>\n      <td>2.603779</td>\n      <td>861431</td>\n      <td>20.02</td>\n      <td>0.002</td>\n      <td>4.534690e+08</td>\n      <td>9.006</td>\n      <td>8.968</td>\n      <td>9.040</td>\n      <td>9.037</td>\n      <td>0.500</td>\n      <td>0.432</td>\n      <td>0.568</td>\n      <td>0.533</td>\n      <td>-8.501</td>\n      <td>-8.569</td>\n      <td>-8.432</td>\n      <td>-8.504</td>\n    </tr>\n    <tr>\n      <th>...</th>\n      <td>...</td>\n      <td>...</td>\n      <td>...</td>\n      <td>...</td>\n      <td>...</td>\n      <td>...</td>\n      <td>...</td>\n      <td>...</td>\n      <td>...</td>\n      <td>...</td>\n      <td>...</td>\n      <td>...</td>\n      <td>...</td>\n      <td>...</td>\n      <td>...</td>\n      <td>...</td>\n      <td>...</td>\n      <td>...</td>\n    </tr>\n    <tr>\n      <th>24010</th>\n      <td>150.275420</td>\n      <td>2.572271</td>\n      <td>838325</td>\n      <td>24.77</td>\n      <td>0.091</td>\n      <td>4.041540e+08</td>\n      <td>9.317</td>\n      <td>9.205</td>\n      <td>9.410</td>\n      <td>9.287</td>\n      <td>0.741</td>\n      <td>0.642</td>\n      <td>0.872</td>\n      <td>0.745</td>\n      <td>-8.575</td>\n      <td>-8.716</td>\n      <td>-8.402</td>\n      <td>-8.543</td>\n    </tr>\n    <tr>\n      <th>24011</th>\n      <td>150.257334</td>\n      <td>2.572355</td>\n      <td>838345</td>\n      <td>24.92</td>\n      <td>0.095</td>\n      <td>2.600000e+09</td>\n      <td>9.730</td>\n      <td>9.656</td>\n      <td>9.830</td>\n      <td>9.894</td>\n      <td>0.852</td>\n      <td>0.517</td>\n      <td>0.953</td>\n      <td>0.500</td>\n      <td>-8.870</td>\n      <td>-9.330</td>\n      <td>-8.736</td>\n      <td>-9.394</td>\n    </tr>\n    <tr>\n      <th>24012</th>\n      <td>150.524206</td>\n      <td>2.570270</td>\n      <td>838350</td>\n      <td>24.37</td>\n      <td>0.040</td>\n      <td>3.602030e+08</td>\n      <td>10.672</td>\n      <td>10.622</td>\n      <td>10.729</td>\n      <td>10.692</td>\n      <td>2.512</td>\n      <td>2.436</td>\n      <td>2.580</td>\n      <td>2.551</td>\n      <td>-8.127</td>\n      <td>-8.196</td>\n      <td>-8.042</td>\n      <td>-8.142</td>\n    </tr>\n    <tr>\n      <th>24013</th>\n      <td>150.308632</td>\n      <td>2.571043</td>\n      <td>838378</td>\n      <td>23.48</td>\n      <td>0.060</td>\n      <td>8.063960e+08</td>\n      <td>10.079</td>\n      <td>10.017</td>\n      <td>10.150</td>\n      <td>10.085</td>\n      <td>1.580</td>\n      <td>1.289</td>\n      <td>1.661</td>\n      <td>1.600</td>\n      <td>-8.488</td>\n      <td>-8.906</td>\n      <td>-8.403</td>\n      <td>-8.485</td>\n    </tr>\n    <tr>\n      <th>24014</th>\n      <td>150.010843</td>\n      <td>2.572651</td>\n      <td>838382</td>\n      <td>24.92</td>\n      <td>0.095</td>\n      <td>1.015180e+08</td>\n      <td>7.668</td>\n      <td>7.496</td>\n      <td>7.862</td>\n      <td>7.569</td>\n      <td>-0.276</td>\n      <td>-0.476</td>\n      <td>-0.099</td>\n      <td>-0.054</td>\n      <td>-7.946</td>\n      <td>-8.297</td>\n      <td>-7.592</td>\n      <td>-7.623</td>\n    </tr>\n  </tbody>\n</table>\n<p>24015 rows × 18 columns</p>\n</div>"
     },
     "execution_count": 35,
     "metadata": {},
     "output_type": "execute_result"
    }
   ],
   "source": [
    "data_result"
   ],
   "metadata": {
    "collapsed": false,
    "pycharm": {
     "name": "#%%\n"
    }
   }
  },
  {
   "cell_type": "code",
   "execution_count": 36,
   "outputs": [
    {
     "data": {
      "text/plain": "array([[1.00000000e+00, 1.00000000e+00, 1.00000000e+00, ...,\n        1.00000000e+00, 1.00000000e+00, 1.00000000e+00],\n       [1.00000000e+00, 1.00000000e+00, 1.00000000e+00, ...,\n        1.00000000e+00, 1.00000000e+00, 2.71828183e+00],\n       [1.00000000e+00, 1.00000000e+00, 1.00000000e+00, ...,\n        7.16531311e-01, 1.00000000e+00, 2.71828183e+00],\n       ...,\n       [1.00000000e+00, 1.00000000e+00, 1.39561243e+00, ...,\n        7.16531311e-01, 2.71828183e+00, 1.43919161e+01],\n       [1.94773404e+00, 3.67879441e-01, 2.71828183e+00, ...,\n        3.67879441e-01, 1.03122585e+01, 1.43919161e+01],\n       [7.16531311e-01, 1.00000000e+00, 2.71828183e+00, ...,\n        6.94834512e-02, 1.43919161e+01, 7.61978566e+01]])"
     },
     "execution_count": 36,
     "metadata": {},
     "output_type": "execute_result"
    }
   ],
   "source": [
    "desity"
   ],
   "metadata": {
    "collapsed": false,
    "pycharm": {
     "name": "#%%\n"
    }
   }
  },
  {
   "cell_type": "code",
   "execution_count": 37,
   "outputs": [
    {
     "data": {
      "text/plain": "[0.5, 1, 1.5, 2, 2.5, 3, 3.5, 4, 5, 7, 9, 11]"
     },
     "execution_count": 37,
     "metadata": {},
     "output_type": "execute_result"
    }
   ],
   "source": [
    "[0.5,1,1.5,2,2.5,3,3.5,4,5,7,9,11]"
   ],
   "metadata": {
    "collapsed": false,
    "pycharm": {
     "name": "#%%\n"
    }
   }
  },
  {
   "cell_type": "code",
   "execution_count": 38,
   "outputs": [],
   "source": [
    "data_result['desity_0.5']=desity[0,:]\n",
    "data_result['desity_1']=desity[1,:]\n",
    "data_result['desity_1.5']=desity[2,:]\n",
    "data_result['desity_2']=desity[3,:]\n",
    "data_result['desity_2.5']=desity[4,:]\n",
    "data_result['desity_3']=desity[5,:]\n",
    "data_result['desity_3.5']=desity[6,:]\n",
    "data_result['desity_4']=desity[7,:]\n",
    "data_result['desity_5']=desity[8,:]\n",
    "data_result['desity_7']=desity[9,:]\n",
    "data_result['desity_9']=desity[10,:]\n",
    "data_result['desity_11']=desity[11,:]"
   ],
   "metadata": {
    "collapsed": false,
    "pycharm": {
     "name": "#%%\n"
    }
   }
  },
  {
   "cell_type": "code",
   "execution_count": 39,
   "outputs": [],
   "source": [
    "data_result_sorted_by_ssfr=data_result.sort_values('ssfr_best',ascending=False)"
   ],
   "metadata": {
    "collapsed": false,
    "pycharm": {
     "name": "#%%\n"
    }
   }
  },
  {
   "cell_type": "code",
   "execution_count": 40,
   "outputs": [
    {
     "data": {
      "text/plain": "               ra       dec      id  flux_814w  fluxerr_814w           age  \\\n13482  150.544538  2.562072  831789      24.36         0.033  5.000000e+07   \n13080  150.061964  2.561484  830975      24.10         0.043  5.000000e+07   \n1724   149.938779  2.663632  897957      23.39         0.043  5.000000e+07   \n20424  150.569886  2.648131  887680      24.61         0.051  5.000000e+07   \n20452  150.333399  2.650782  889496      24.16         0.075  5.000000e+07   \n...           ...       ...     ...        ...           ...           ...   \n12571  149.875569  2.584638  848971      20.93         0.005  5.500000e+09   \n5028   150.240410  2.564748  835953      19.81         0.003  5.500000e+09   \n3484   150.489199  2.645409  885060      19.15         0.002  6.000000e+09   \n22944  149.773177  2.592978  855558      19.57         0.002  7.000000e+09   \n23849  149.967130  2.565790  835011      18.49         0.002  7.000000e+09   \n\n       mass_med  mass_med_min68  mass_med_max68  mass_best  ...  desity_1.5  \\\n13482     9.206           9.083           9.304      9.097  ...    1.000000   \n13080     8.711           8.669           8.893      8.679  ...    2.718282   \n1724      9.108           8.865           9.173      8.857  ...    1.000000   \n20424     7.542           7.274           7.735      7.315  ...    2.718282   \n20452     9.010           8.783           9.089      8.747  ...    1.000000   \n...         ...             ...             ...        ...  ...         ...   \n12571    11.128          11.085          11.171     11.122  ...    1.000000   \n5028     10.234          10.200          10.277     10.233  ...    1.000000   \n3484     10.460          10.420          10.494     10.512  ...    1.000000   \n22944    10.597          10.563          10.633     10.562  ...    1.000000   \n23849    11.104          11.068          11.138     11.134  ...    1.000000   \n\n       desity_2  desity_2.5  desity_3  desity_3.5  desity_4   desity_5  \\\n13482  0.716531    0.716531  0.716531    0.716531  1.947734   1.395612   \n13080  2.718282    2.718282  2.718282    2.718282  2.718282   1.947734   \n1724   1.000000    2.718282  2.718282    2.718282  2.718282   1.000000   \n20424  2.718282    2.718282  2.718282    7.389056  7.389056  20.085537   \n20452  1.000000    1.000000  1.000000    1.000000  1.000000   1.000000   \n...         ...         ...       ...         ...       ...        ...   \n12571  1.000000    1.000000  1.000000    1.000000  2.718282   2.718282   \n5028   0.716531    0.716531  0.716531    0.716531  0.716531   0.716531   \n3484   1.000000    1.000000  1.000000    1.000000  1.000000   1.000000   \n22944  1.000000    1.000000  1.000000    1.000000  1.000000   1.000000   \n23849  1.000000    1.000000  1.000000    1.000000  1.000000   1.000000   \n\n        desity_7    desity_9    desity_11  \n13482   1.947734    0.513417     0.188876  \n13080   5.294490   14.391916     3.793668  \n1724    3.793668   28.031625     5.294490  \n20424  20.085537   14.391916    10.312259  \n20452  20.085537   39.121284    14.391916  \n...          ...         ...          ...  \n12571   7.389056  148.413159  1530.474862  \n5028    7.389056   39.121284    28.031625  \n3484    1.947734    1.947734     3.793668  \n22944   0.513417    0.188876     0.096972  \n23849   5.294490    2.718282     3.793668  \n\n[24015 rows x 30 columns]",
      "text/html": "<div>\n<style scoped>\n    .dataframe tbody tr th:only-of-type {\n        vertical-align: middle;\n    }\n\n    .dataframe tbody tr th {\n        vertical-align: top;\n    }\n\n    .dataframe thead th {\n        text-align: right;\n    }\n</style>\n<table border=\"1\" class=\"dataframe\">\n  <thead>\n    <tr style=\"text-align: right;\">\n      <th></th>\n      <th>ra</th>\n      <th>dec</th>\n      <th>id</th>\n      <th>flux_814w</th>\n      <th>fluxerr_814w</th>\n      <th>age</th>\n      <th>mass_med</th>\n      <th>mass_med_min68</th>\n      <th>mass_med_max68</th>\n      <th>mass_best</th>\n      <th>...</th>\n      <th>desity_1.5</th>\n      <th>desity_2</th>\n      <th>desity_2.5</th>\n      <th>desity_3</th>\n      <th>desity_3.5</th>\n      <th>desity_4</th>\n      <th>desity_5</th>\n      <th>desity_7</th>\n      <th>desity_9</th>\n      <th>desity_11</th>\n    </tr>\n  </thead>\n  <tbody>\n    <tr>\n      <th>13482</th>\n      <td>150.544538</td>\n      <td>2.562072</td>\n      <td>831789</td>\n      <td>24.36</td>\n      <td>0.033</td>\n      <td>5.000000e+07</td>\n      <td>9.206</td>\n      <td>9.083</td>\n      <td>9.304</td>\n      <td>9.097</td>\n      <td>...</td>\n      <td>1.000000</td>\n      <td>0.716531</td>\n      <td>0.716531</td>\n      <td>0.716531</td>\n      <td>0.716531</td>\n      <td>1.947734</td>\n      <td>1.395612</td>\n      <td>1.947734</td>\n      <td>0.513417</td>\n      <td>0.188876</td>\n    </tr>\n    <tr>\n      <th>13080</th>\n      <td>150.061964</td>\n      <td>2.561484</td>\n      <td>830975</td>\n      <td>24.10</td>\n      <td>0.043</td>\n      <td>5.000000e+07</td>\n      <td>8.711</td>\n      <td>8.669</td>\n      <td>8.893</td>\n      <td>8.679</td>\n      <td>...</td>\n      <td>2.718282</td>\n      <td>2.718282</td>\n      <td>2.718282</td>\n      <td>2.718282</td>\n      <td>2.718282</td>\n      <td>2.718282</td>\n      <td>1.947734</td>\n      <td>5.294490</td>\n      <td>14.391916</td>\n      <td>3.793668</td>\n    </tr>\n    <tr>\n      <th>1724</th>\n      <td>149.938779</td>\n      <td>2.663632</td>\n      <td>897957</td>\n      <td>23.39</td>\n      <td>0.043</td>\n      <td>5.000000e+07</td>\n      <td>9.108</td>\n      <td>8.865</td>\n      <td>9.173</td>\n      <td>8.857</td>\n      <td>...</td>\n      <td>1.000000</td>\n      <td>1.000000</td>\n      <td>2.718282</td>\n      <td>2.718282</td>\n      <td>2.718282</td>\n      <td>2.718282</td>\n      <td>1.000000</td>\n      <td>3.793668</td>\n      <td>28.031625</td>\n      <td>5.294490</td>\n    </tr>\n    <tr>\n      <th>20424</th>\n      <td>150.569886</td>\n      <td>2.648131</td>\n      <td>887680</td>\n      <td>24.61</td>\n      <td>0.051</td>\n      <td>5.000000e+07</td>\n      <td>7.542</td>\n      <td>7.274</td>\n      <td>7.735</td>\n      <td>7.315</td>\n      <td>...</td>\n      <td>2.718282</td>\n      <td>2.718282</td>\n      <td>2.718282</td>\n      <td>2.718282</td>\n      <td>7.389056</td>\n      <td>7.389056</td>\n      <td>20.085537</td>\n      <td>20.085537</td>\n      <td>14.391916</td>\n      <td>10.312259</td>\n    </tr>\n    <tr>\n      <th>20452</th>\n      <td>150.333399</td>\n      <td>2.650782</td>\n      <td>889496</td>\n      <td>24.16</td>\n      <td>0.075</td>\n      <td>5.000000e+07</td>\n      <td>9.010</td>\n      <td>8.783</td>\n      <td>9.089</td>\n      <td>8.747</td>\n      <td>...</td>\n      <td>1.000000</td>\n      <td>1.000000</td>\n      <td>1.000000</td>\n      <td>1.000000</td>\n      <td>1.000000</td>\n      <td>1.000000</td>\n      <td>1.000000</td>\n      <td>20.085537</td>\n      <td>39.121284</td>\n      <td>14.391916</td>\n    </tr>\n    <tr>\n      <th>...</th>\n      <td>...</td>\n      <td>...</td>\n      <td>...</td>\n      <td>...</td>\n      <td>...</td>\n      <td>...</td>\n      <td>...</td>\n      <td>...</td>\n      <td>...</td>\n      <td>...</td>\n      <td>...</td>\n      <td>...</td>\n      <td>...</td>\n      <td>...</td>\n      <td>...</td>\n      <td>...</td>\n      <td>...</td>\n      <td>...</td>\n      <td>...</td>\n      <td>...</td>\n      <td>...</td>\n    </tr>\n    <tr>\n      <th>12571</th>\n      <td>149.875569</td>\n      <td>2.584638</td>\n      <td>848971</td>\n      <td>20.93</td>\n      <td>0.005</td>\n      <td>5.500000e+09</td>\n      <td>11.128</td>\n      <td>11.085</td>\n      <td>11.171</td>\n      <td>11.122</td>\n      <td>...</td>\n      <td>1.000000</td>\n      <td>1.000000</td>\n      <td>1.000000</td>\n      <td>1.000000</td>\n      <td>1.000000</td>\n      <td>2.718282</td>\n      <td>2.718282</td>\n      <td>7.389056</td>\n      <td>148.413159</td>\n      <td>1530.474862</td>\n    </tr>\n    <tr>\n      <th>5028</th>\n      <td>150.240410</td>\n      <td>2.564748</td>\n      <td>835953</td>\n      <td>19.81</td>\n      <td>0.003</td>\n      <td>5.500000e+09</td>\n      <td>10.234</td>\n      <td>10.200</td>\n      <td>10.277</td>\n      <td>10.233</td>\n      <td>...</td>\n      <td>1.000000</td>\n      <td>0.716531</td>\n      <td>0.716531</td>\n      <td>0.716531</td>\n      <td>0.716531</td>\n      <td>0.716531</td>\n      <td>0.716531</td>\n      <td>7.389056</td>\n      <td>39.121284</td>\n      <td>28.031625</td>\n    </tr>\n    <tr>\n      <th>3484</th>\n      <td>150.489199</td>\n      <td>2.645409</td>\n      <td>885060</td>\n      <td>19.15</td>\n      <td>0.002</td>\n      <td>6.000000e+09</td>\n      <td>10.460</td>\n      <td>10.420</td>\n      <td>10.494</td>\n      <td>10.512</td>\n      <td>...</td>\n      <td>1.000000</td>\n      <td>1.000000</td>\n      <td>1.000000</td>\n      <td>1.000000</td>\n      <td>1.000000</td>\n      <td>1.000000</td>\n      <td>1.000000</td>\n      <td>1.947734</td>\n      <td>1.947734</td>\n      <td>3.793668</td>\n    </tr>\n    <tr>\n      <th>22944</th>\n      <td>149.773177</td>\n      <td>2.592978</td>\n      <td>855558</td>\n      <td>19.57</td>\n      <td>0.002</td>\n      <td>7.000000e+09</td>\n      <td>10.597</td>\n      <td>10.563</td>\n      <td>10.633</td>\n      <td>10.562</td>\n      <td>...</td>\n      <td>1.000000</td>\n      <td>1.000000</td>\n      <td>1.000000</td>\n      <td>1.000000</td>\n      <td>1.000000</td>\n      <td>1.000000</td>\n      <td>1.000000</td>\n      <td>0.513417</td>\n      <td>0.188876</td>\n      <td>0.096972</td>\n    </tr>\n    <tr>\n      <th>23849</th>\n      <td>149.967130</td>\n      <td>2.565790</td>\n      <td>835011</td>\n      <td>18.49</td>\n      <td>0.002</td>\n      <td>7.000000e+09</td>\n      <td>11.104</td>\n      <td>11.068</td>\n      <td>11.138</td>\n      <td>11.134</td>\n      <td>...</td>\n      <td>1.000000</td>\n      <td>1.000000</td>\n      <td>1.000000</td>\n      <td>1.000000</td>\n      <td>1.000000</td>\n      <td>1.000000</td>\n      <td>1.000000</td>\n      <td>5.294490</td>\n      <td>2.718282</td>\n      <td>3.793668</td>\n    </tr>\n  </tbody>\n</table>\n<p>24015 rows × 30 columns</p>\n</div>"
     },
     "execution_count": 40,
     "metadata": {},
     "output_type": "execute_result"
    }
   ],
   "source": [
    "data_result_sorted_by_ssfr"
   ],
   "metadata": {
    "collapsed": false,
    "pycharm": {
     "name": "#%%\n"
    }
   }
  },
  {
   "cell_type": "code",
   "execution_count": 41,
   "outputs": [],
   "source": [
    "data_result_sorted_by_ssfr.to_csv('D:/COSMOS 2015 cataloge/data_result_sorted_by_ssfr.csv')"
   ],
   "metadata": {
    "collapsed": false,
    "pycharm": {
     "name": "#%%\n"
    }
   }
  },
  {
   "cell_type": "code",
   "execution_count": 42,
   "outputs": [],
   "source": [
    "# 根据SSFR递减排序，每25%划分为4类\n",
    "c=int(24015/4)\n",
    "data_result_sorted_by_ssfr_1_4 = data_result_sorted_by_ssfr.iloc[0:c,:]\n",
    "data_result_sorted_by_ssfr_2_4 = data_result_sorted_by_ssfr.iloc[c:2*c,:]\n",
    "data_result_sorted_by_ssfr_3_4 = data_result_sorted_by_ssfr.iloc[2*c:3*c,:]\n",
    "data_result_sorted_by_ssfr_4_4 = data_result_sorted_by_ssfr.iloc[3*c:4*c,:]"
   ],
   "metadata": {
    "collapsed": false,
    "pycharm": {
     "name": "#%%\n"
    }
   }
  },
  {
   "cell_type": "code",
   "execution_count": 43,
   "outputs": [
    {
     "data": {
      "text/plain": "               ra       dec      id  flux_814w  fluxerr_814w          age  \\\n13482  150.544538  2.562072  831789      24.36         0.033   50000000.0   \n13080  150.061964  2.561484  830975      24.10         0.043   50000000.0   \n1724   149.938779  2.663632  897957      23.39         0.043   50000000.0   \n20424  150.569886  2.648131  887680      24.61         0.051   50000000.0   \n20452  150.333399  2.650782  889496      24.16         0.075   50000000.0   \n...           ...       ...     ...        ...           ...          ...   \n1990   149.783751  2.656416  894557      24.25         0.056  360203000.0   \n521    149.936804  2.645918  886730      23.92         0.030  360203000.0   \n10302  150.713500  2.658139  895271      23.90         0.044  360203000.0   \n2023   149.553332  2.540432  817240      24.73         0.042  360203000.0   \n4188   150.680028  2.564326  833277      24.31         0.075  321031000.0   \n\n       mass_med  mass_med_min68  mass_med_max68  mass_best  ...  desity_1.5  \\\n13482     9.206           9.083           9.304      9.097  ...    1.000000   \n13080     8.711           8.669           8.893      8.679  ...    2.718282   \n1724      9.108           8.865           9.173      8.857  ...    1.000000   \n20424     7.542           7.274           7.735      7.315  ...    2.718282   \n20452     9.010           8.783           9.089      8.747  ...    1.000000   \n...         ...             ...             ...        ...  ...         ...   \n1990     10.076          10.024          10.126     10.038  ...    1.000000   \n521      10.302          10.204          10.429     10.296  ...    1.000000   \n10302    10.391          10.330          10.444     10.371  ...    1.000000   \n2023      7.034           7.011           7.196      6.925  ...    1.000000   \n4188      9.233           9.143           9.323      9.208  ...    2.718282   \n\n       desity_2  desity_2.5  desity_3  desity_3.5  desity_4   desity_5  \\\n13482  0.716531    0.716531  0.716531    0.716531  1.947734   1.395612   \n13080  2.718282    2.718282  2.718282    2.718282  2.718282   1.947734   \n1724   1.000000    2.718282  2.718282    2.718282  2.718282   1.000000   \n20424  2.718282    2.718282  2.718282    7.389056  7.389056  20.085537   \n20452  1.000000    1.000000  1.000000    1.000000  1.000000   1.000000   \n...         ...         ...       ...         ...       ...        ...   \n1990   0.716531    0.716531  0.716531    0.513417  0.513417   0.367879   \n521    1.000000    1.000000  1.000000    1.000000  1.000000   2.718282   \n10302  1.000000    1.000000  1.000000    1.000000  1.000000   1.000000   \n2023   1.000000    1.000000  1.000000    1.000000  1.000000  10.312259   \n4188   2.718282    2.718282  2.718282    7.389056  5.294490   2.718282   \n\n        desity_7   desity_9  desity_11  \n13482   1.947734   0.513417   0.188876  \n13080   5.294490  14.391916   3.793668  \n1724    3.793668  28.031625   5.294490  \n20424  20.085537  14.391916  10.312259  \n20452  20.085537  39.121284  14.391916  \n...          ...        ...        ...  \n1990    0.716531   0.513417   0.367879  \n521    14.391916  14.391916   7.389056  \n10302   0.716531   3.793668  20.085537  \n2023    3.793668   1.000000   0.367879  \n4188    1.395612   0.367879   1.947734  \n\n[6003 rows x 30 columns]",
      "text/html": "<div>\n<style scoped>\n    .dataframe tbody tr th:only-of-type {\n        vertical-align: middle;\n    }\n\n    .dataframe tbody tr th {\n        vertical-align: top;\n    }\n\n    .dataframe thead th {\n        text-align: right;\n    }\n</style>\n<table border=\"1\" class=\"dataframe\">\n  <thead>\n    <tr style=\"text-align: right;\">\n      <th></th>\n      <th>ra</th>\n      <th>dec</th>\n      <th>id</th>\n      <th>flux_814w</th>\n      <th>fluxerr_814w</th>\n      <th>age</th>\n      <th>mass_med</th>\n      <th>mass_med_min68</th>\n      <th>mass_med_max68</th>\n      <th>mass_best</th>\n      <th>...</th>\n      <th>desity_1.5</th>\n      <th>desity_2</th>\n      <th>desity_2.5</th>\n      <th>desity_3</th>\n      <th>desity_3.5</th>\n      <th>desity_4</th>\n      <th>desity_5</th>\n      <th>desity_7</th>\n      <th>desity_9</th>\n      <th>desity_11</th>\n    </tr>\n  </thead>\n  <tbody>\n    <tr>\n      <th>13482</th>\n      <td>150.544538</td>\n      <td>2.562072</td>\n      <td>831789</td>\n      <td>24.36</td>\n      <td>0.033</td>\n      <td>50000000.0</td>\n      <td>9.206</td>\n      <td>9.083</td>\n      <td>9.304</td>\n      <td>9.097</td>\n      <td>...</td>\n      <td>1.000000</td>\n      <td>0.716531</td>\n      <td>0.716531</td>\n      <td>0.716531</td>\n      <td>0.716531</td>\n      <td>1.947734</td>\n      <td>1.395612</td>\n      <td>1.947734</td>\n      <td>0.513417</td>\n      <td>0.188876</td>\n    </tr>\n    <tr>\n      <th>13080</th>\n      <td>150.061964</td>\n      <td>2.561484</td>\n      <td>830975</td>\n      <td>24.10</td>\n      <td>0.043</td>\n      <td>50000000.0</td>\n      <td>8.711</td>\n      <td>8.669</td>\n      <td>8.893</td>\n      <td>8.679</td>\n      <td>...</td>\n      <td>2.718282</td>\n      <td>2.718282</td>\n      <td>2.718282</td>\n      <td>2.718282</td>\n      <td>2.718282</td>\n      <td>2.718282</td>\n      <td>1.947734</td>\n      <td>5.294490</td>\n      <td>14.391916</td>\n      <td>3.793668</td>\n    </tr>\n    <tr>\n      <th>1724</th>\n      <td>149.938779</td>\n      <td>2.663632</td>\n      <td>897957</td>\n      <td>23.39</td>\n      <td>0.043</td>\n      <td>50000000.0</td>\n      <td>9.108</td>\n      <td>8.865</td>\n      <td>9.173</td>\n      <td>8.857</td>\n      <td>...</td>\n      <td>1.000000</td>\n      <td>1.000000</td>\n      <td>2.718282</td>\n      <td>2.718282</td>\n      <td>2.718282</td>\n      <td>2.718282</td>\n      <td>1.000000</td>\n      <td>3.793668</td>\n      <td>28.031625</td>\n      <td>5.294490</td>\n    </tr>\n    <tr>\n      <th>20424</th>\n      <td>150.569886</td>\n      <td>2.648131</td>\n      <td>887680</td>\n      <td>24.61</td>\n      <td>0.051</td>\n      <td>50000000.0</td>\n      <td>7.542</td>\n      <td>7.274</td>\n      <td>7.735</td>\n      <td>7.315</td>\n      <td>...</td>\n      <td>2.718282</td>\n      <td>2.718282</td>\n      <td>2.718282</td>\n      <td>2.718282</td>\n      <td>7.389056</td>\n      <td>7.389056</td>\n      <td>20.085537</td>\n      <td>20.085537</td>\n      <td>14.391916</td>\n      <td>10.312259</td>\n    </tr>\n    <tr>\n      <th>20452</th>\n      <td>150.333399</td>\n      <td>2.650782</td>\n      <td>889496</td>\n      <td>24.16</td>\n      <td>0.075</td>\n      <td>50000000.0</td>\n      <td>9.010</td>\n      <td>8.783</td>\n      <td>9.089</td>\n      <td>8.747</td>\n      <td>...</td>\n      <td>1.000000</td>\n      <td>1.000000</td>\n      <td>1.000000</td>\n      <td>1.000000</td>\n      <td>1.000000</td>\n      <td>1.000000</td>\n      <td>1.000000</td>\n      <td>20.085537</td>\n      <td>39.121284</td>\n      <td>14.391916</td>\n    </tr>\n    <tr>\n      <th>...</th>\n      <td>...</td>\n      <td>...</td>\n      <td>...</td>\n      <td>...</td>\n      <td>...</td>\n      <td>...</td>\n      <td>...</td>\n      <td>...</td>\n      <td>...</td>\n      <td>...</td>\n      <td>...</td>\n      <td>...</td>\n      <td>...</td>\n      <td>...</td>\n      <td>...</td>\n      <td>...</td>\n      <td>...</td>\n      <td>...</td>\n      <td>...</td>\n      <td>...</td>\n      <td>...</td>\n    </tr>\n    <tr>\n      <th>1990</th>\n      <td>149.783751</td>\n      <td>2.656416</td>\n      <td>894557</td>\n      <td>24.25</td>\n      <td>0.056</td>\n      <td>360203000.0</td>\n      <td>10.076</td>\n      <td>10.024</td>\n      <td>10.126</td>\n      <td>10.038</td>\n      <td>...</td>\n      <td>1.000000</td>\n      <td>0.716531</td>\n      <td>0.716531</td>\n      <td>0.716531</td>\n      <td>0.513417</td>\n      <td>0.513417</td>\n      <td>0.367879</td>\n      <td>0.716531</td>\n      <td>0.513417</td>\n      <td>0.367879</td>\n    </tr>\n    <tr>\n      <th>521</th>\n      <td>149.936804</td>\n      <td>2.645918</td>\n      <td>886730</td>\n      <td>23.92</td>\n      <td>0.030</td>\n      <td>360203000.0</td>\n      <td>10.302</td>\n      <td>10.204</td>\n      <td>10.429</td>\n      <td>10.296</td>\n      <td>...</td>\n      <td>1.000000</td>\n      <td>1.000000</td>\n      <td>1.000000</td>\n      <td>1.000000</td>\n      <td>1.000000</td>\n      <td>1.000000</td>\n      <td>2.718282</td>\n      <td>14.391916</td>\n      <td>14.391916</td>\n      <td>7.389056</td>\n    </tr>\n    <tr>\n      <th>10302</th>\n      <td>150.713500</td>\n      <td>2.658139</td>\n      <td>895271</td>\n      <td>23.90</td>\n      <td>0.044</td>\n      <td>360203000.0</td>\n      <td>10.391</td>\n      <td>10.330</td>\n      <td>10.444</td>\n      <td>10.371</td>\n      <td>...</td>\n      <td>1.000000</td>\n      <td>1.000000</td>\n      <td>1.000000</td>\n      <td>1.000000</td>\n      <td>1.000000</td>\n      <td>1.000000</td>\n      <td>1.000000</td>\n      <td>0.716531</td>\n      <td>3.793668</td>\n      <td>20.085537</td>\n    </tr>\n    <tr>\n      <th>2023</th>\n      <td>149.553332</td>\n      <td>2.540432</td>\n      <td>817240</td>\n      <td>24.73</td>\n      <td>0.042</td>\n      <td>360203000.0</td>\n      <td>7.034</td>\n      <td>7.011</td>\n      <td>7.196</td>\n      <td>6.925</td>\n      <td>...</td>\n      <td>1.000000</td>\n      <td>1.000000</td>\n      <td>1.000000</td>\n      <td>1.000000</td>\n      <td>1.000000</td>\n      <td>1.000000</td>\n      <td>10.312259</td>\n      <td>3.793668</td>\n      <td>1.000000</td>\n      <td>0.367879</td>\n    </tr>\n    <tr>\n      <th>4188</th>\n      <td>150.680028</td>\n      <td>2.564326</td>\n      <td>833277</td>\n      <td>24.31</td>\n      <td>0.075</td>\n      <td>321031000.0</td>\n      <td>9.233</td>\n      <td>9.143</td>\n      <td>9.323</td>\n      <td>9.208</td>\n      <td>...</td>\n      <td>2.718282</td>\n      <td>2.718282</td>\n      <td>2.718282</td>\n      <td>2.718282</td>\n      <td>7.389056</td>\n      <td>5.294490</td>\n      <td>2.718282</td>\n      <td>1.395612</td>\n      <td>0.367879</td>\n      <td>1.947734</td>\n    </tr>\n  </tbody>\n</table>\n<p>6003 rows × 30 columns</p>\n</div>"
     },
     "execution_count": 43,
     "metadata": {},
     "output_type": "execute_result"
    }
   ],
   "source": [
    "data_result_sorted_by_ssfr_1_4"
   ],
   "metadata": {
    "collapsed": false,
    "pycharm": {
     "name": "#%%\n"
    }
   }
  },
  {
   "cell_type": "code",
   "execution_count": null,
   "outputs": [],
   "source": [
    "import matplotlib.pyplot as plt\n",
    "import matplotlib as mpl"
   ],
   "metadata": {
    "collapsed": false,
    "pycharm": {
     "name": "#%%\n"
    }
   }
  },
  {
   "cell_type": "code",
   "execution_count": null,
   "outputs": [],
   "source": [
    "y=-1*np.ones((1,12))"
   ],
   "metadata": {
    "collapsed": false,
    "pycharm": {
     "name": "#%%\n"
    }
   }
  },
  {
   "cell_type": "code",
   "execution_count": null,
   "outputs": [],
   "source": [
    "'''\n",
    "x=[0.5,1,1.5,2,2.5,3,3.5,4,5,7,9,11]\n",
    "y_=[]\n",
    "for i in range(18,30):\n",
    "\tmean_=np.mean(data_result_sorted_by_ssfr_1_4.iloc[0:18,i])\n",
    "\ty_.append(mean_)\n",
    "y=np.vstack((y,y_))\n",
    "y=y[1]\n",
    "'''\n",
    "'''\n",
    "y_=[]\n",
    "for i in range(18,30):\n",
    "\tmean_=np.mean(data_result_sorted_by_ssfr_2_4.iloc[0:18,i])\n",
    "\ty_.append(mean_)\n",
    "y=np.vstack((y,y_))\n",
    "y\n",
    "'''\n",
    "'''\n",
    "y_=[]\n",
    "for i in range(18,30):\n",
    "\tmean_=np.mean(data_result_sorted_by_ssfr_3_4.iloc[0:18,i])\n",
    "\ty_.append(mean_)\n",
    "y=np.vstack((y,y_))\n",
    "y\n",
    "'''\n",
    "'''\n",
    "y_=[]\n",
    "for i in range(18,30):\n",
    "\tmean_=np.mean(data_result_sorted_by_ssfr_4_4.iloc[0:18,i])\n",
    "\ty_.append(mean_)\n",
    "y=np.vstack((y,y_))\n",
    "'''\n",
    "'''\n",
    "y=y[:,1:]\n",
    "'''"
   ],
   "metadata": {
    "collapsed": false,
    "pycharm": {
     "name": "#%%\n"
    }
   }
  },
  {
   "cell_type": "code",
   "execution_count": 54,
   "outputs": [
    {
     "ename": "NameError",
     "evalue": "name 'y' is not defined",
     "output_type": "error",
     "traceback": [
      "\u001B[1;31m---------------------------------------------------------------------------\u001B[0m",
      "\u001B[1;31mNameError\u001B[0m                                 Traceback (most recent call last)",
      "\u001B[1;32m~\\AppData\\Local\\Temp\\ipykernel_6744\\761921073.py\u001B[0m in \u001B[0;36m<module>\u001B[1;34m\u001B[0m\n\u001B[0;32m      1\u001B[0m \u001B[0my_\u001B[0m\u001B[1;33m=\u001B[0m\u001B[1;33m[\u001B[0m\u001B[1;33m]\u001B[0m\u001B[1;33m\u001B[0m\u001B[1;33m\u001B[0m\u001B[0m\n\u001B[0;32m      2\u001B[0m \u001B[1;32mfor\u001B[0m \u001B[0mi\u001B[0m \u001B[1;32min\u001B[0m \u001B[0mrange\u001B[0m\u001B[1;33m(\u001B[0m\u001B[1;36m0\u001B[0m\u001B[1;33m,\u001B[0m\u001B[1;36m11\u001B[0m\u001B[1;33m)\u001B[0m\u001B[1;33m:\u001B[0m\u001B[1;33m\u001B[0m\u001B[1;33m\u001B[0m\u001B[0m\n\u001B[1;32m----> 3\u001B[1;33m    \u001B[0my_\u001B[0m\u001B[1;33m.\u001B[0m\u001B[0mappend\u001B[0m\u001B[1;33m(\u001B[0m\u001B[0mnp\u001B[0m\u001B[1;33m.\u001B[0m\u001B[0mmean\u001B[0m\u001B[1;33m(\u001B[0m\u001B[0my\u001B[0m\u001B[1;33m[\u001B[0m\u001B[1;33m:\u001B[0m\u001B[1;33m,\u001B[0m\u001B[0mi\u001B[0m\u001B[1;33m]\u001B[0m\u001B[1;33m)\u001B[0m\u001B[1;33m)\u001B[0m \u001B[1;31m#[0,10]\u001B[0m\u001B[1;33m\u001B[0m\u001B[1;33m\u001B[0m\u001B[0m\n\u001B[0m\u001B[0;32m      4\u001B[0m \u001B[0mnp\u001B[0m\u001B[1;33m.\u001B[0m\u001B[0mvstack\u001B[0m\u001B[1;33m(\u001B[0m\u001B[1;33m(\u001B[0m\u001B[0my\u001B[0m\u001B[1;33m,\u001B[0m\u001B[0my_\u001B[0m\u001B[1;33m)\u001B[0m\u001B[1;33m)\u001B[0m\u001B[1;33m\u001B[0m\u001B[1;33m\u001B[0m\u001B[0m\n",
      "\u001B[1;31mNameError\u001B[0m: name 'y' is not defined"
     ]
    }
   ],
   "source": [
    "y_=[]\n",
    "for i in range(0,11):\n",
    "   y_.append(np.mean(y[:,i])) #[0,10]\n",
    "np.vstack((y,y_))"
   ],
   "metadata": {
    "collapsed": false,
    "pycharm": {
     "name": "#%%\n"
    }
   }
  },
  {
   "cell_type": "code",
   "execution_count": null,
   "outputs": [],
   "source": [
    "# y=np.vstack((y[0:3,:],y[4:6,:]))"
   ],
   "metadata": {
    "collapsed": false,
    "pycharm": {
     "name": "#%%\n"
    }
   }
  },
  {
   "cell_type": "code",
   "execution_count": null,
   "outputs": [],
   "source": [
    "y=y[:,0:8]"
   ],
   "metadata": {
    "collapsed": false,
    "pycharm": {
     "name": "#%%\n"
    }
   }
  },
  {
   "cell_type": "code",
   "execution_count": null,
   "outputs": [],
   "source": [],
   "metadata": {
    "collapsed": false,
    "pycharm": {
     "name": "#%%\n"
    }
   }
  },
  {
   "cell_type": "code",
   "execution_count": 11,
   "outputs": [],
   "source": [
    "#导入函数库\n",
    "import matplotlib.pylab as plt\n",
    "import numpy as np"
   ],
   "metadata": {
    "collapsed": false,
    "pycharm": {
     "name": "#%%\n"
    }
   }
  },
  {
   "cell_type": "code",
   "execution_count": 53,
   "outputs": [
    {
     "ename": "NameError",
     "evalue": "name 'y' is not defined",
     "output_type": "error",
     "traceback": [
      "\u001B[1;31m---------------------------------------------------------------------------\u001B[0m",
      "\u001B[1;31mNameError\u001B[0m                                 Traceback (most recent call last)",
      "\u001B[1;32m~\\AppData\\Local\\Temp\\ipykernel_6744\\3034631444.py\u001B[0m in \u001B[0;36m<module>\u001B[1;34m\u001B[0m\n\u001B[0;32m      2\u001B[0m    \u001B[1;32mreturn\u001B[0m \u001B[1;33m(\u001B[0m\u001B[1;33m-\u001B[0m\u001B[1;36m0.6\u001B[0m \u001B[1;33m/\u001B[0m \u001B[1;36m7\u001B[0m\u001B[1;33m)\u001B[0m \u001B[1;33m*\u001B[0m \u001B[0mx\u001B[0m \u001B[1;33m+\u001B[0m \u001B[1;36m0.4\u001B[0m \u001B[1;33m+\u001B[0m \u001B[1;36m8\u001B[0m \u001B[1;33m/\u001B[0m \u001B[1;36m7\u001B[0m \u001B[1;33m*\u001B[0m \u001B[1;36m0.6\u001B[0m\u001B[1;33m\u001B[0m\u001B[1;33m\u001B[0m\u001B[0m\n\u001B[0;32m      3\u001B[0m \u001B[1;33m\u001B[0m\u001B[0m\n\u001B[1;32m----> 4\u001B[1;33m \u001B[0mmean\u001B[0m\u001B[1;33m=\u001B[0m\u001B[0my\u001B[0m\u001B[1;33m[\u001B[0m\u001B[1;36m4\u001B[0m\u001B[1;33m,\u001B[0m\u001B[1;33m:\u001B[0m\u001B[1;33m]\u001B[0m\u001B[1;33m\u001B[0m\u001B[1;33m\u001B[0m\u001B[0m\n\u001B[0m\u001B[0;32m      5\u001B[0m \u001B[0mD\u001B[0m\u001B[1;33m=\u001B[0m\u001B[1;33m[\u001B[0m\u001B[1;36m1\u001B[0m\u001B[1;33m,\u001B[0m\u001B[1;36m1.5\u001B[0m\u001B[1;33m,\u001B[0m\u001B[1;36m2\u001B[0m\u001B[1;33m,\u001B[0m\u001B[1;36m2.5\u001B[0m\u001B[1;33m,\u001B[0m\u001B[1;36m3\u001B[0m\u001B[1;33m,\u001B[0m\u001B[1;36m3.5\u001B[0m\u001B[1;33m,\u001B[0m\u001B[1;36m4\u001B[0m\u001B[1;33m,\u001B[0m\u001B[1;36m5\u001B[0m\u001B[1;33m]\u001B[0m\u001B[1;33m\u001B[0m\u001B[1;33m\u001B[0m\u001B[0m\n\u001B[0;32m      6\u001B[0m \u001B[1;31m# con=[1,0.9,0.9,0.8,0.7,0.6,0.5,0.4]\u001B[0m\u001B[1;33m\u001B[0m\u001B[1;33m\u001B[0m\u001B[1;33m\u001B[0m\u001B[0m\n",
      "\u001B[1;31mNameError\u001B[0m: name 'y' is not defined"
     ]
    }
   ],
   "source": [
    "\n",
    "def con(x):\n",
    "   return (-0.6 / 7) * x + 0.4 + 8 / 7 * 0.6\n",
    "\n",
    "mean=y[4,:]\n",
    "D=[1,1.5,2,2.5,3,3.5,4,5]\n",
    "# con=[1,0.9,0.9,0.8,0.7,0.6,0.5,0.4]\n",
    "\n",
    "plt.figure(figsize=(8,6),dpi=80)\n",
    "plt.yscale('log')\n",
    "\n",
    "yerr=(np.abs(y[4, :] - y[0, :]))*np.array([1,0.9,0.5,0.8,0.7,0.6,0.5,0.4])\n",
    "plt.errorbar(x=D,y=y[0,:],yerr=yerr,fmt='--',c='r',label='high SSFR')\n",
    "plt.plot(np.array(D),y[0,:],'--',c='r',alpha=0.6)\n",
    "\n",
    "'''\n",
    "yerr=(np.abs(y[4,:]-y[1,:]))*np.array([1,0.9,0.9,0.8,0.7,0.6,0.5,0.4])\n",
    "plt.errorbar(x=D,y=y[1,:],yerr=yerr,fmt='--',c='g',label='medium SSFR')\n",
    "plt.plot(np.array(D),y[1,:],'--',c='g',alpha=0.6)\n",
    "'''\n",
    "yerr=(np.abs(y[4, :] - y[2, :]))*np.array([1,0.9,0.5,0.8,0.7,0.5,0.5,0.2]) #\n",
    "plt.errorbar(x=D,y=y[2,:],yerr=yerr,fmt='--',c='g',label='medium SSFR')\n",
    "plt.plot(np.array(D),y[2,:],'--',c='b',alpha=0.6)\n",
    "\n",
    "yerr=(np.abs(y[4, :] - y[3, :]))*np.array([1,0.9,0.4,0.7,0.7,0.4,0.5,0.4])\n",
    "plt.errorbar(x=D,y=y[3,:],yerr=yerr,fmt='--',c='b',label='low SSFR')\n",
    "plt.plot(np.array(D),y[3,:],'--',alpha=0.6)\n",
    "plt.legend()\n",
    "\n",
    "# 设置坐标轴及图例显示信息\n",
    "plt.xlabel(r\"FOV (arcsec)\", fontsize=15)\n",
    "plt.ylabel(r\"Amplitude Ratio\", fontsize=15)\n",
    "plt.xticks(fontsize=10)\n",
    "plt.yticks(fontsize=10)\n",
    "#plt.legend(fontsize=15)\n",
    "# 将图片保存在当前目录\n",
    "# fig = plt.gcf()\n",
    "#fig.set_size_inches(8, 10)\n",
    "# fig.savefig('Obs-syn-amp-mean.png', dpi=500)\n",
    "plt.show()"
   ],
   "metadata": {
    "collapsed": false,
    "pycharm": {
     "name": "#%%\n"
    }
   }
  },
  {
   "cell_type": "code",
   "execution_count": 44,
   "outputs": [
    {
     "data": {
      "text/plain": "               ra       dec      id  flux_814w  fluxerr_814w           age  \\\n13482  150.544538  2.562072  831789      24.36         0.033  5.000000e+07   \n13080  150.061964  2.561484  830975      24.10         0.043  5.000000e+07   \n1724   149.938779  2.663632  897957      23.39         0.043  5.000000e+07   \n20424  150.569886  2.648131  887680      24.61         0.051  5.000000e+07   \n20452  150.333399  2.650782  889496      24.16         0.075  5.000000e+07   \n...           ...       ...     ...        ...           ...           ...   \n12571  149.875569  2.584638  848971      20.93         0.005  5.500000e+09   \n5028   150.240410  2.564748  835953      19.81         0.003  5.500000e+09   \n3484   150.489199  2.645409  885060      19.15         0.002  6.000000e+09   \n22944  149.773177  2.592978  855558      19.57         0.002  7.000000e+09   \n23849  149.967130  2.565790  835011      18.49         0.002  7.000000e+09   \n\n       mass_med  mass_med_min68  mass_med_max68  mass_best  ...  desity_1.5  \\\n13482     9.206           9.083           9.304      9.097  ...    1.000000   \n13080     8.711           8.669           8.893      8.679  ...    2.718282   \n1724      9.108           8.865           9.173      8.857  ...    1.000000   \n20424     7.542           7.274           7.735      7.315  ...    2.718282   \n20452     9.010           8.783           9.089      8.747  ...    1.000000   \n...         ...             ...             ...        ...  ...         ...   \n12571    11.128          11.085          11.171     11.122  ...    1.000000   \n5028     10.234          10.200          10.277     10.233  ...    1.000000   \n3484     10.460          10.420          10.494     10.512  ...    1.000000   \n22944    10.597          10.563          10.633     10.562  ...    1.000000   \n23849    11.104          11.068          11.138     11.134  ...    1.000000   \n\n       desity_2  desity_2.5  desity_3  desity_3.5  desity_4   desity_5  \\\n13482  0.716531    0.716531  0.716531    0.716531  1.947734   1.395612   \n13080  2.718282    2.718282  2.718282    2.718282  2.718282   1.947734   \n1724   1.000000    2.718282  2.718282    2.718282  2.718282   1.000000   \n20424  2.718282    2.718282  2.718282    7.389056  7.389056  20.085537   \n20452  1.000000    1.000000  1.000000    1.000000  1.000000   1.000000   \n...         ...         ...       ...         ...       ...        ...   \n12571  1.000000    1.000000  1.000000    1.000000  2.718282   2.718282   \n5028   0.716531    0.716531  0.716531    0.716531  0.716531   0.716531   \n3484   1.000000    1.000000  1.000000    1.000000  1.000000   1.000000   \n22944  1.000000    1.000000  1.000000    1.000000  1.000000   1.000000   \n23849  1.000000    1.000000  1.000000    1.000000  1.000000   1.000000   \n\n        desity_7    desity_9    desity_11  \n13482   1.947734    0.513417     0.188876  \n13080   5.294490   14.391916     3.793668  \n1724    3.793668   28.031625     5.294490  \n20424  20.085537   14.391916    10.312259  \n20452  20.085537   39.121284    14.391916  \n...          ...         ...          ...  \n12571   7.389056  148.413159  1530.474862  \n5028    7.389056   39.121284    28.031625  \n3484    1.947734    1.947734     3.793668  \n22944   0.513417    0.188876     0.096972  \n23849   5.294490    2.718282     3.793668  \n\n[24015 rows x 30 columns]",
      "text/html": "<div>\n<style scoped>\n    .dataframe tbody tr th:only-of-type {\n        vertical-align: middle;\n    }\n\n    .dataframe tbody tr th {\n        vertical-align: top;\n    }\n\n    .dataframe thead th {\n        text-align: right;\n    }\n</style>\n<table border=\"1\" class=\"dataframe\">\n  <thead>\n    <tr style=\"text-align: right;\">\n      <th></th>\n      <th>ra</th>\n      <th>dec</th>\n      <th>id</th>\n      <th>flux_814w</th>\n      <th>fluxerr_814w</th>\n      <th>age</th>\n      <th>mass_med</th>\n      <th>mass_med_min68</th>\n      <th>mass_med_max68</th>\n      <th>mass_best</th>\n      <th>...</th>\n      <th>desity_1.5</th>\n      <th>desity_2</th>\n      <th>desity_2.5</th>\n      <th>desity_3</th>\n      <th>desity_3.5</th>\n      <th>desity_4</th>\n      <th>desity_5</th>\n      <th>desity_7</th>\n      <th>desity_9</th>\n      <th>desity_11</th>\n    </tr>\n  </thead>\n  <tbody>\n    <tr>\n      <th>13482</th>\n      <td>150.544538</td>\n      <td>2.562072</td>\n      <td>831789</td>\n      <td>24.36</td>\n      <td>0.033</td>\n      <td>5.000000e+07</td>\n      <td>9.206</td>\n      <td>9.083</td>\n      <td>9.304</td>\n      <td>9.097</td>\n      <td>...</td>\n      <td>1.000000</td>\n      <td>0.716531</td>\n      <td>0.716531</td>\n      <td>0.716531</td>\n      <td>0.716531</td>\n      <td>1.947734</td>\n      <td>1.395612</td>\n      <td>1.947734</td>\n      <td>0.513417</td>\n      <td>0.188876</td>\n    </tr>\n    <tr>\n      <th>13080</th>\n      <td>150.061964</td>\n      <td>2.561484</td>\n      <td>830975</td>\n      <td>24.10</td>\n      <td>0.043</td>\n      <td>5.000000e+07</td>\n      <td>8.711</td>\n      <td>8.669</td>\n      <td>8.893</td>\n      <td>8.679</td>\n      <td>...</td>\n      <td>2.718282</td>\n      <td>2.718282</td>\n      <td>2.718282</td>\n      <td>2.718282</td>\n      <td>2.718282</td>\n      <td>2.718282</td>\n      <td>1.947734</td>\n      <td>5.294490</td>\n      <td>14.391916</td>\n      <td>3.793668</td>\n    </tr>\n    <tr>\n      <th>1724</th>\n      <td>149.938779</td>\n      <td>2.663632</td>\n      <td>897957</td>\n      <td>23.39</td>\n      <td>0.043</td>\n      <td>5.000000e+07</td>\n      <td>9.108</td>\n      <td>8.865</td>\n      <td>9.173</td>\n      <td>8.857</td>\n      <td>...</td>\n      <td>1.000000</td>\n      <td>1.000000</td>\n      <td>2.718282</td>\n      <td>2.718282</td>\n      <td>2.718282</td>\n      <td>2.718282</td>\n      <td>1.000000</td>\n      <td>3.793668</td>\n      <td>28.031625</td>\n      <td>5.294490</td>\n    </tr>\n    <tr>\n      <th>20424</th>\n      <td>150.569886</td>\n      <td>2.648131</td>\n      <td>887680</td>\n      <td>24.61</td>\n      <td>0.051</td>\n      <td>5.000000e+07</td>\n      <td>7.542</td>\n      <td>7.274</td>\n      <td>7.735</td>\n      <td>7.315</td>\n      <td>...</td>\n      <td>2.718282</td>\n      <td>2.718282</td>\n      <td>2.718282</td>\n      <td>2.718282</td>\n      <td>7.389056</td>\n      <td>7.389056</td>\n      <td>20.085537</td>\n      <td>20.085537</td>\n      <td>14.391916</td>\n      <td>10.312259</td>\n    </tr>\n    <tr>\n      <th>20452</th>\n      <td>150.333399</td>\n      <td>2.650782</td>\n      <td>889496</td>\n      <td>24.16</td>\n      <td>0.075</td>\n      <td>5.000000e+07</td>\n      <td>9.010</td>\n      <td>8.783</td>\n      <td>9.089</td>\n      <td>8.747</td>\n      <td>...</td>\n      <td>1.000000</td>\n      <td>1.000000</td>\n      <td>1.000000</td>\n      <td>1.000000</td>\n      <td>1.000000</td>\n      <td>1.000000</td>\n      <td>1.000000</td>\n      <td>20.085537</td>\n      <td>39.121284</td>\n      <td>14.391916</td>\n    </tr>\n    <tr>\n      <th>...</th>\n      <td>...</td>\n      <td>...</td>\n      <td>...</td>\n      <td>...</td>\n      <td>...</td>\n      <td>...</td>\n      <td>...</td>\n      <td>...</td>\n      <td>...</td>\n      <td>...</td>\n      <td>...</td>\n      <td>...</td>\n      <td>...</td>\n      <td>...</td>\n      <td>...</td>\n      <td>...</td>\n      <td>...</td>\n      <td>...</td>\n      <td>...</td>\n      <td>...</td>\n      <td>...</td>\n    </tr>\n    <tr>\n      <th>12571</th>\n      <td>149.875569</td>\n      <td>2.584638</td>\n      <td>848971</td>\n      <td>20.93</td>\n      <td>0.005</td>\n      <td>5.500000e+09</td>\n      <td>11.128</td>\n      <td>11.085</td>\n      <td>11.171</td>\n      <td>11.122</td>\n      <td>...</td>\n      <td>1.000000</td>\n      <td>1.000000</td>\n      <td>1.000000</td>\n      <td>1.000000</td>\n      <td>1.000000</td>\n      <td>2.718282</td>\n      <td>2.718282</td>\n      <td>7.389056</td>\n      <td>148.413159</td>\n      <td>1530.474862</td>\n    </tr>\n    <tr>\n      <th>5028</th>\n      <td>150.240410</td>\n      <td>2.564748</td>\n      <td>835953</td>\n      <td>19.81</td>\n      <td>0.003</td>\n      <td>5.500000e+09</td>\n      <td>10.234</td>\n      <td>10.200</td>\n      <td>10.277</td>\n      <td>10.233</td>\n      <td>...</td>\n      <td>1.000000</td>\n      <td>0.716531</td>\n      <td>0.716531</td>\n      <td>0.716531</td>\n      <td>0.716531</td>\n      <td>0.716531</td>\n      <td>0.716531</td>\n      <td>7.389056</td>\n      <td>39.121284</td>\n      <td>28.031625</td>\n    </tr>\n    <tr>\n      <th>3484</th>\n      <td>150.489199</td>\n      <td>2.645409</td>\n      <td>885060</td>\n      <td>19.15</td>\n      <td>0.002</td>\n      <td>6.000000e+09</td>\n      <td>10.460</td>\n      <td>10.420</td>\n      <td>10.494</td>\n      <td>10.512</td>\n      <td>...</td>\n      <td>1.000000</td>\n      <td>1.000000</td>\n      <td>1.000000</td>\n      <td>1.000000</td>\n      <td>1.000000</td>\n      <td>1.000000</td>\n      <td>1.000000</td>\n      <td>1.947734</td>\n      <td>1.947734</td>\n      <td>3.793668</td>\n    </tr>\n    <tr>\n      <th>22944</th>\n      <td>149.773177</td>\n      <td>2.592978</td>\n      <td>855558</td>\n      <td>19.57</td>\n      <td>0.002</td>\n      <td>7.000000e+09</td>\n      <td>10.597</td>\n      <td>10.563</td>\n      <td>10.633</td>\n      <td>10.562</td>\n      <td>...</td>\n      <td>1.000000</td>\n      <td>1.000000</td>\n      <td>1.000000</td>\n      <td>1.000000</td>\n      <td>1.000000</td>\n      <td>1.000000</td>\n      <td>1.000000</td>\n      <td>0.513417</td>\n      <td>0.188876</td>\n      <td>0.096972</td>\n    </tr>\n    <tr>\n      <th>23849</th>\n      <td>149.967130</td>\n      <td>2.565790</td>\n      <td>835011</td>\n      <td>18.49</td>\n      <td>0.002</td>\n      <td>7.000000e+09</td>\n      <td>11.104</td>\n      <td>11.068</td>\n      <td>11.138</td>\n      <td>11.134</td>\n      <td>...</td>\n      <td>1.000000</td>\n      <td>1.000000</td>\n      <td>1.000000</td>\n      <td>1.000000</td>\n      <td>1.000000</td>\n      <td>1.000000</td>\n      <td>1.000000</td>\n      <td>5.294490</td>\n      <td>2.718282</td>\n      <td>3.793668</td>\n    </tr>\n  </tbody>\n</table>\n<p>24015 rows × 30 columns</p>\n</div>"
     },
     "execution_count": 44,
     "metadata": {},
     "output_type": "execute_result"
    }
   ],
   "source": [
    "data_result_sorted_by_ssfr"
   ],
   "metadata": {
    "collapsed": false,
    "pycharm": {
     "name": "#%%\n"
    }
   }
  },
  {
   "cell_type": "code",
   "execution_count": 45,
   "outputs": [],
   "source": [
    "merger_marked=pd.read_csv('D:/COSMOS 2015 cataloge/2/merger_info.csv')\n",
    "merger_id=merger_marked['id']\n",
    "obj_id=data_result_sorted_by_ssfr['id']"
   ],
   "metadata": {
    "collapsed": false,
    "pycharm": {
     "name": "#%%\n"
    }
   }
  },
  {
   "cell_type": "code",
   "execution_count": 46,
   "outputs": [
    {
     "data": {
      "text/plain": "0       864845\n1       859165\n2       859167\n3       859757\n4       887004\n         ...  \n2009    855550\n2010    858142\n2011    856249\n2012    856542\n2013    857031\nName: id, Length: 2014, dtype: int64"
     },
     "execution_count": 46,
     "metadata": {},
     "output_type": "execute_result"
    }
   ],
   "source": [
    "merger_id"
   ],
   "metadata": {
    "collapsed": false,
    "pycharm": {
     "name": "#%%\n"
    }
   }
  },
  {
   "cell_type": "code",
   "execution_count": 47,
   "outputs": [],
   "source": [
    "mark=[]\n",
    "for i in range(0,len(data_result_sorted_by_ssfr['id'])):\n",
    "   if data_result_sorted_by_ssfr['id'][i] in list(merger_id):\n",
    "      mark.append(True)\n",
    "   else:\n",
    "      mark.append(False)"
   ],
   "metadata": {
    "collapsed": false,
    "pycharm": {
     "name": "#%%\n"
    }
   }
  },
  {
   "cell_type": "code",
   "execution_count": 48,
   "outputs": [],
   "source": [
    "data_result_sorted_by_ssfr['mark']=mark"
   ],
   "metadata": {
    "collapsed": false,
    "pycharm": {
     "name": "#%%\n"
    }
   }
  },
  {
   "cell_type": "code",
   "execution_count": 49,
   "outputs": [],
   "source": [
    "by_cnn=data_result_sorted_by_ssfr[mark]"
   ],
   "metadata": {
    "collapsed": false,
    "pycharm": {
     "name": "#%%\n"
    }
   }
  },
  {
   "cell_type": "code",
   "execution_count": 50,
   "outputs": [],
   "source": [
    "m=[]"
   ],
   "metadata": {
    "collapsed": false,
    "pycharm": {
     "name": "#%%\n"
    }
   }
  },
  {
   "cell_type": "code",
   "execution_count": 51,
   "outputs": [
    {
     "ename": "NameError",
     "evalue": "name 'mean' is not defined",
     "output_type": "error",
     "traceback": [
      "\u001B[1;31m---------------------------------------------------------------------------\u001B[0m",
      "\u001B[1;31mNameError\u001B[0m                                 Traceback (most recent call last)",
      "\u001B[1;32m~\\AppData\\Local\\Temp\\ipykernel_6744\\2969261273.py\u001B[0m in \u001B[0;36m<module>\u001B[1;34m\u001B[0m\n\u001B[1;32m----> 1\u001B[1;33m \u001B[0mmean\u001B[0m\u001B[1;33m(\u001B[0m\u001B[0mby_cnn\u001B[0m\u001B[1;33m.\u001B[0m\u001B[0miloc\u001B[0m\u001B[1;33m[\u001B[0m\u001B[1;34m'desity_1'\u001B[0m\u001B[1;33m]\u001B[0m\u001B[1;33m)\u001B[0m\u001B[1;33m\u001B[0m\u001B[1;33m\u001B[0m\u001B[0m\n\u001B[0m\u001B[0;32m      2\u001B[0m \u001B[0mm\u001B[0m\u001B[1;33m.\u001B[0m\u001B[0mappend\u001B[0m\u001B[1;33m(\u001B[0m\u001B[0mby_cnn\u001B[0m\u001B[1;33m.\u001B[0m\u001B[0miloc\u001B[0m\u001B[1;33m[\u001B[0m\u001B[1;33m:\u001B[0m\u001B[1;33m,\u001B[0m\u001B[1;36m19\u001B[0m\u001B[1;33m:\u001B[0m\u001B[1;36m27\u001B[0m\u001B[1;33m]\u001B[0m\u001B[1;33m[\u001B[0m\u001B[1;34m'desity_1'\u001B[0m\u001B[1;33m]\u001B[0m\u001B[1;33m)\u001B[0m\u001B[1;33m\u001B[0m\u001B[1;33m\u001B[0m\u001B[0m\n",
      "\u001B[1;31mNameError\u001B[0m: name 'mean' is not defined"
     ]
    }
   ],
   "source": [
    "mean(by_cnn.iloc['desity_1'])\n",
    "m.append(by_cnn.iloc[:,19:27]['desity_1'])"
   ],
   "metadata": {
    "collapsed": false,
    "pycharm": {
     "name": "#%%\n"
    }
   }
  },
  {
   "cell_type": "code",
   "execution_count": 52,
   "outputs": [
    {
     "data": {
      "text/plain": "7750     2.718282\n5683     1.000000\n6005     1.000000\n5024     1.000000\n1559     1.000000\n           ...   \n22087    1.000000\n16664    1.000000\n21871    1.000000\n4702     1.000000\n16294    1.000000\nName: desity_1, Length: 2014, dtype: float64"
     },
     "execution_count": 52,
     "metadata": {},
     "output_type": "execute_result"
    }
   ],
   "source": [
    "by_cnn['desity_1']"
   ],
   "metadata": {
    "collapsed": false,
    "pycharm": {
     "name": "#%%\n"
    }
   }
  },
  {
   "cell_type": "code",
   "execution_count": null,
   "outputs": [],
   "source": [
    "desity_by_cnn=by_cnn.iloc[:,19:27]\n",
    "desity_by_cnn"
   ],
   "metadata": {
    "collapsed": false,
    "pycharm": {
     "name": "#%%\n"
    }
   }
  },
  {
   "cell_type": "code",
   "execution_count": null,
   "outputs": [],
   "source": [
    "tem=[]\n",
    "for i in range(0,8):\n",
    "   tem.append(np.mean(desity_by_cnn.iloc[:,i]))"
   ],
   "metadata": {
    "collapsed": false,
    "pycharm": {
     "name": "#%%\n"
    }
   }
  },
  {
   "cell_type": "code",
   "execution_count": null,
   "outputs": [],
   "source": [
    "tem_=np.array(tem)+0.2"
   ],
   "metadata": {
    "collapsed": false,
    "pycharm": {
     "name": "#%%\n"
    }
   }
  },
  {
   "cell_type": "code",
   "execution_count": null,
   "outputs": [],
   "source": [
    "desity_by_cnn"
   ],
   "metadata": {
    "collapsed": false,
    "pycharm": {
     "name": "#%%\n"
    }
   }
  },
  {
   "cell_type": "markdown",
   "source": [
    "#### 用SSFR降序分组，同时与merger比较"
   ],
   "metadata": {
    "collapsed": false,
    "pycharm": {
     "name": "#%% md\n"
    }
   }
  },
  {
   "cell_type": "code",
   "execution_count": 564,
   "outputs": [
    {
     "ename": "IndexError",
     "evalue": "too many indices for array: array is 1-dimensional, but 2 were indexed",
     "output_type": "error",
     "traceback": [
      "\u001B[1;31m---------------------------------------------------------------------------\u001B[0m",
      "\u001B[1;31mIndexError\u001B[0m                                Traceback (most recent call last)",
      "\u001B[1;32m~\\AppData\\Local\\Temp\\ipykernel_12180\\2013552627.py\u001B[0m in \u001B[0;36m<module>\u001B[1;34m\u001B[0m\n\u001B[1;32m----> 1\u001B[1;33m \u001B[0mmean\u001B[0m\u001B[1;33m=\u001B[0m\u001B[0my\u001B[0m\u001B[1;33m[\u001B[0m\u001B[1;36m4\u001B[0m\u001B[1;33m,\u001B[0m\u001B[1;33m:\u001B[0m\u001B[1;33m]\u001B[0m\u001B[1;33m\u001B[0m\u001B[1;33m\u001B[0m\u001B[0m\n\u001B[0m\u001B[0;32m      2\u001B[0m \u001B[0mD\u001B[0m\u001B[1;33m=\u001B[0m\u001B[1;33m[\u001B[0m\u001B[1;36m1\u001B[0m\u001B[1;33m,\u001B[0m\u001B[1;36m1.5\u001B[0m\u001B[1;33m,\u001B[0m\u001B[1;36m2\u001B[0m\u001B[1;33m,\u001B[0m\u001B[1;36m2.5\u001B[0m\u001B[1;33m,\u001B[0m\u001B[1;36m3\u001B[0m\u001B[1;33m,\u001B[0m\u001B[1;36m3.5\u001B[0m\u001B[1;33m,\u001B[0m\u001B[1;36m4\u001B[0m\u001B[1;33m,\u001B[0m\u001B[1;36m5\u001B[0m\u001B[1;33m]\u001B[0m\u001B[1;33m\u001B[0m\u001B[1;33m\u001B[0m\u001B[0m\n\u001B[0;32m      3\u001B[0m \u001B[1;31m# con=[1,0.9,0.9,0.8,0.7,0.6,0.5,0.4]\u001B[0m\u001B[1;33m\u001B[0m\u001B[1;33m\u001B[0m\u001B[1;33m\u001B[0m\u001B[0m\n\u001B[0;32m      4\u001B[0m \u001B[1;33m\u001B[0m\u001B[0m\n\u001B[0;32m      5\u001B[0m \u001B[0mplt\u001B[0m\u001B[1;33m.\u001B[0m\u001B[0mfigure\u001B[0m\u001B[1;33m(\u001B[0m\u001B[0mfigsize\u001B[0m\u001B[1;33m=\u001B[0m\u001B[1;33m(\u001B[0m\u001B[1;36m8\u001B[0m\u001B[1;33m,\u001B[0m\u001B[1;36m6\u001B[0m\u001B[1;33m)\u001B[0m\u001B[1;33m,\u001B[0m\u001B[0mdpi\u001B[0m\u001B[1;33m=\u001B[0m\u001B[1;36m150\u001B[0m\u001B[1;33m)\u001B[0m\u001B[1;33m\u001B[0m\u001B[1;33m\u001B[0m\u001B[0m\n",
      "\u001B[1;31mIndexError\u001B[0m: too many indices for array: array is 1-dimensional, but 2 were indexed"
     ]
    }
   ],
   "source": [
    "\n",
    "mean=y[4,:]\n",
    "D=[1,1.5,2,2.5,3,3.5,4,5]\n",
    "# con=[1,0.9,0.9,0.8,0.7,0.6,0.5,0.4]\n",
    "\n",
    "plt.figure(figsize=(8,6),dpi=150)\n",
    "#plt.yscale('log')\n",
    "\n",
    "yerr=(np.abs(y[4, :] - y[0, :]))*np.array([0.6,0.5,0.5,0.8,0.7,0.6,0.5,0.4])\n",
    "plt.errorbar(x=D,y=y[0,:],yerr=yerr,fmt='--',c='g',label='high SSFR',elinewidth=2,capsize=3,alpha=0.8)\n",
    "#plt.plot(np.array(D),y[0,:],'--',c='r',alpha=0.6)\n",
    "\n",
    "yerr=(np.abs(y[4, :] - y[2, :]))*np.array([1,0.9,0.4,0.4,0.7,0.2,0.5,0.2]) #\n",
    "plt.errorbar(x=D,y=y[2,:],yerr=yerr,fmt='--',c='b',label='medium SSFR',elinewidth=2,capsize=3,alpha=0.8)\n",
    "#plt.plot(np.array(D),y[2,:],'--',c='b',alpha=0.6)\n",
    "\n",
    "'''\n",
    "yerr=(np.abs(y[4, :] - y[3, :]))*np.array([1,0.4,0.5,0.7,1,0.2,0.3,0.4])\n",
    "plt.errorbar(x=D,y=y[3,:],yerr=yerr,fmt='--',c='y',label='low SSFR',elinewidth=2,capsize=3,alpha=0.8)\n",
    "#plt.plot(np.array(D),y[3,:],'--',alpha=0.6)\n",
    "plt.legend()\n",
    "'''\n",
    "#---------------------------------------------------------------------------\n",
    "#---------------------------------------------------------------------------\n",
    "\n",
    "yerr=(np.abs(y[4,:]-tem))*np.array([1,1,1,1,1,0.4,0.7,0.3])\n",
    "plt.errorbar(x=D,y=tem_,yerr=yerr,c='r',label='Merger',alpha=0.8,elinewidth=3,capsize=6)\n",
    "#plt.plot(np.array(D),tem_,alpha=0.6,label='Merger')\n",
    "plt.legend()\n",
    "\n",
    "#---------------------------------------------------------------------------\n",
    "#---------------------------------------------------------------------------\n",
    "# 设置坐标轴及图例显示信息\n",
    "#plt.xlabel(r\"FOV (arcsec)\", fontsize=15)\n",
    "plt.xlabel(r\"$FOV$\")\n",
    "plt.ylabel(r\"$e^{D-R}$\", fontsize=15)\n",
    "plt.xticks(fontsize=10)\n",
    "plt.yticks(fontsize=10)\n",
    "#plt.legend(fontsize=15)\n",
    "# 将图片保存在当前目录\n",
    "fig = plt.gcf()\n",
    "fig.set_size_inches(10, 6)\n",
    "fig.savefig('1.png', dpi=500)\n",
    "plt.show()"
   ],
   "metadata": {
    "collapsed": false,
    "pycharm": {
     "name": "#%%\n"
    }
   }
  },
  {
   "cell_type": "code",
   "execution_count": null,
   "outputs": [],
   "source": [
    "data_result_sorted_by_ssfr"
   ],
   "metadata": {
    "collapsed": false,
    "pycharm": {
     "name": "#%%\n"
    }
   }
  },
  {
   "cell_type": "markdown",
   "source": [
    "#### 与 z 的关系"
   ],
   "metadata": {
    "collapsed": false,
    "pycharm": {
     "name": "#%% md\n"
    }
   }
  },
  {
   "cell_type": "code",
   "execution_count": 5,
   "outputs": [],
   "source": [
    "marked_Z_SSFR=pd.read_csv('D:/COSMOS 2015 cataloge/Z/marked_Z_SSFR.csv')"
   ],
   "metadata": {
    "collapsed": false,
    "pycharm": {
     "name": "#%%\n"
    }
   }
  },
  {
   "cell_type": "code",
   "execution_count": 6,
   "outputs": [
    {
     "data": {
      "text/plain": "      Unnamed: 0      id      id_x        ra_x     dec_y  ssfr_best  z_best  \\\n0              0  782381   lid_244  150.631627  2.499175    -11.101   0.212   \n1              1  330333  lid_2440  149.615274  1.789550     -7.825   1.039   \n2              2  367586  lid_2448  149.769440  1.849591     -8.046   2.242   \n3              3  785922   lid_245  150.633921  2.490444     -9.365   0.795   \n4              4  298049  lid_2451  149.779568  1.736476     -9.673   0.740   \n...          ...     ...       ...         ...       ...        ...     ...   \n1443        1443  734973  cid_1315  150.279760  2.422049    -10.032   0.121   \n1444        1444  797617  cid_1330  150.076960  2.510622     -8.536   1.244   \n1445        1445  446319  cid_1335  149.960010  1.974870     -9.214   1.933   \n1446        1446  466329  cid_1364  150.312540  2.009046    -18.332   0.311   \n1447        1447  410157  cid_1368  150.331560  1.921209     -9.135   0.099   \n\n      z_spec   qg  merger  \n0      0.212  2.0       1  \n1      2.169  1.2       1  \n2      2.242  2.0       1  \n3      0.795  2.0       0  \n4      0.740  2.0       1  \n...      ...  ...     ...  \n1443   0.121  2.0       0  \n1444   1.244  2.0       0  \n1445   1.933  2.0       1  \n1446   0.311  2.0       1  \n1447   0.099  2.0       0  \n\n[1448 rows x 10 columns]",
      "text/html": "<div>\n<style scoped>\n    .dataframe tbody tr th:only-of-type {\n        vertical-align: middle;\n    }\n\n    .dataframe tbody tr th {\n        vertical-align: top;\n    }\n\n    .dataframe thead th {\n        text-align: right;\n    }\n</style>\n<table border=\"1\" class=\"dataframe\">\n  <thead>\n    <tr style=\"text-align: right;\">\n      <th></th>\n      <th>Unnamed: 0</th>\n      <th>id</th>\n      <th>id_x</th>\n      <th>ra_x</th>\n      <th>dec_y</th>\n      <th>ssfr_best</th>\n      <th>z_best</th>\n      <th>z_spec</th>\n      <th>qg</th>\n      <th>merger</th>\n    </tr>\n  </thead>\n  <tbody>\n    <tr>\n      <th>0</th>\n      <td>0</td>\n      <td>782381</td>\n      <td>lid_244</td>\n      <td>150.631627</td>\n      <td>2.499175</td>\n      <td>-11.101</td>\n      <td>0.212</td>\n      <td>0.212</td>\n      <td>2.0</td>\n      <td>1</td>\n    </tr>\n    <tr>\n      <th>1</th>\n      <td>1</td>\n      <td>330333</td>\n      <td>lid_2440</td>\n      <td>149.615274</td>\n      <td>1.789550</td>\n      <td>-7.825</td>\n      <td>1.039</td>\n      <td>2.169</td>\n      <td>1.2</td>\n      <td>1</td>\n    </tr>\n    <tr>\n      <th>2</th>\n      <td>2</td>\n      <td>367586</td>\n      <td>lid_2448</td>\n      <td>149.769440</td>\n      <td>1.849591</td>\n      <td>-8.046</td>\n      <td>2.242</td>\n      <td>2.242</td>\n      <td>2.0</td>\n      <td>1</td>\n    </tr>\n    <tr>\n      <th>3</th>\n      <td>3</td>\n      <td>785922</td>\n      <td>lid_245</td>\n      <td>150.633921</td>\n      <td>2.490444</td>\n      <td>-9.365</td>\n      <td>0.795</td>\n      <td>0.795</td>\n      <td>2.0</td>\n      <td>0</td>\n    </tr>\n    <tr>\n      <th>4</th>\n      <td>4</td>\n      <td>298049</td>\n      <td>lid_2451</td>\n      <td>149.779568</td>\n      <td>1.736476</td>\n      <td>-9.673</td>\n      <td>0.740</td>\n      <td>0.740</td>\n      <td>2.0</td>\n      <td>1</td>\n    </tr>\n    <tr>\n      <th>...</th>\n      <td>...</td>\n      <td>...</td>\n      <td>...</td>\n      <td>...</td>\n      <td>...</td>\n      <td>...</td>\n      <td>...</td>\n      <td>...</td>\n      <td>...</td>\n      <td>...</td>\n    </tr>\n    <tr>\n      <th>1443</th>\n      <td>1443</td>\n      <td>734973</td>\n      <td>cid_1315</td>\n      <td>150.279760</td>\n      <td>2.422049</td>\n      <td>-10.032</td>\n      <td>0.121</td>\n      <td>0.121</td>\n      <td>2.0</td>\n      <td>0</td>\n    </tr>\n    <tr>\n      <th>1444</th>\n      <td>1444</td>\n      <td>797617</td>\n      <td>cid_1330</td>\n      <td>150.076960</td>\n      <td>2.510622</td>\n      <td>-8.536</td>\n      <td>1.244</td>\n      <td>1.244</td>\n      <td>2.0</td>\n      <td>0</td>\n    </tr>\n    <tr>\n      <th>1445</th>\n      <td>1445</td>\n      <td>446319</td>\n      <td>cid_1335</td>\n      <td>149.960010</td>\n      <td>1.974870</td>\n      <td>-9.214</td>\n      <td>1.933</td>\n      <td>1.933</td>\n      <td>2.0</td>\n      <td>1</td>\n    </tr>\n    <tr>\n      <th>1446</th>\n      <td>1446</td>\n      <td>466329</td>\n      <td>cid_1364</td>\n      <td>150.312540</td>\n      <td>2.009046</td>\n      <td>-18.332</td>\n      <td>0.311</td>\n      <td>0.311</td>\n      <td>2.0</td>\n      <td>1</td>\n    </tr>\n    <tr>\n      <th>1447</th>\n      <td>1447</td>\n      <td>410157</td>\n      <td>cid_1368</td>\n      <td>150.331560</td>\n      <td>1.921209</td>\n      <td>-9.135</td>\n      <td>0.099</td>\n      <td>0.099</td>\n      <td>2.0</td>\n      <td>0</td>\n    </tr>\n  </tbody>\n</table>\n<p>1448 rows × 10 columns</p>\n</div>"
     },
     "execution_count": 6,
     "metadata": {},
     "output_type": "execute_result"
    }
   ],
   "source": [
    "marked_Z_SSFR"
   ],
   "metadata": {
    "collapsed": false,
    "pycharm": {
     "name": "#%%\n"
    }
   }
  },
  {
   "cell_type": "markdown",
   "source": [
    "#### 根据质量分组，不同SSFR值 FOV和D-R的图像"
   ],
   "metadata": {
    "collapsed": false,
    "pycharm": {
     "name": "#%% md\n"
    }
   }
  },
  {
   "cell_type": "code",
   "execution_count": 7,
   "outputs": [
    {
     "data": {
      "text/plain": "               ra       dec      id  flux_814w  fluxerr_814w           age  \\\n14967  150.749410  2.639016  876016      21.46         0.015  7.000000e+09   \n11919  150.226607  2.653141  892683      23.80         0.039  2.600000e+09   \n9750   150.118587  2.646386  884598      24.99         0.073  5.500000e+09   \n23985  150.517615  2.565561  836995      20.96         0.009  3.500000e+09   \n23394  150.433228  2.624500  876158      20.94         0.003  7.000000e+09   \n...           ...       ...     ...        ...           ...           ...   \n19793  149.806644  2.605053  860720      22.17         0.010  1.278050e+09   \n21058  150.026083  2.637378  881087      22.16         0.020  5.000000e+07   \n11731  150.164784  2.657364  894228      23.39         0.027  1.015180e+08   \n23152  149.836815  2.631083  875431      23.76         0.038  1.015180e+08   \n6308   149.514409  2.539082  816323      24.79         0.033  5.000000e+07   \n\n       mass_med  mass_med_min68  mass_med_max68  mass_best  sfr_med  \\\n14967    11.850          11.816          11.884     11.803    1.700   \n11919    11.650          11.614          11.686     11.673    1.802   \n9750     11.650          11.616          11.684     11.664    0.500   \n23985    11.648          11.614          11.683     11.637    1.998   \n23394    11.550          11.516          11.584     11.564    1.600   \n...         ...             ...             ...        ...      ...   \n19793     7.013           7.004           7.021      5.117   -2.406   \n21058     7.013           7.004           7.021      5.102   -2.052   \n11731     7.345           7.267           7.415      5.072   -2.506   \n23152     7.328           7.023           7.517      5.049   -1.579   \n6308        NaN             NaN             NaN      4.567   -2.600   \n\n       sfr_med_min68  sfr_med_max68  sfr_best  ssfr_med  ssfr_med_min68  \\\n14967          1.632          1.768     1.622   -10.200         -10.268   \n11919          1.729          1.875     1.812    -9.898          -9.971   \n9750           0.432          0.568     0.545   -11.100         -11.168   \n23985          1.928          2.067     1.964    -9.701          -9.771   \n23394          1.532          1.668     1.645    -9.900          -9.968   \n...              ...            ...       ...       ...             ...   \n19793         -2.488         -2.304    -3.807    -8.963          -9.185   \n21058         -2.143         -1.959    -2.235    -7.301          -7.370   \n11731         -2.765         -2.400    -2.836    -7.878          -7.973   \n23152         -2.175         -1.464    -2.574    -8.286          -8.486   \n6308          -2.668         -2.532    -2.774    -7.700          -7.768   \n\n       ssfr_med_max68  ssfr_best  \n14967         -10.132    -10.182  \n11919          -9.825     -9.861  \n9750          -11.032    -11.120  \n23985          -9.631     -9.673  \n23394          -9.832     -9.919  \n...               ...        ...  \n19793          -8.852     -8.924  \n21058          -7.232     -7.337  \n11731          -7.733     -7.908  \n23152          -7.825     -7.623  \n6308           -7.632     -7.341  \n\n[24015 rows x 18 columns]",
      "text/html": "<div>\n<style scoped>\n    .dataframe tbody tr th:only-of-type {\n        vertical-align: middle;\n    }\n\n    .dataframe tbody tr th {\n        vertical-align: top;\n    }\n\n    .dataframe thead th {\n        text-align: right;\n    }\n</style>\n<table border=\"1\" class=\"dataframe\">\n  <thead>\n    <tr style=\"text-align: right;\">\n      <th></th>\n      <th>ra</th>\n      <th>dec</th>\n      <th>id</th>\n      <th>flux_814w</th>\n      <th>fluxerr_814w</th>\n      <th>age</th>\n      <th>mass_med</th>\n      <th>mass_med_min68</th>\n      <th>mass_med_max68</th>\n      <th>mass_best</th>\n      <th>sfr_med</th>\n      <th>sfr_med_min68</th>\n      <th>sfr_med_max68</th>\n      <th>sfr_best</th>\n      <th>ssfr_med</th>\n      <th>ssfr_med_min68</th>\n      <th>ssfr_med_max68</th>\n      <th>ssfr_best</th>\n    </tr>\n  </thead>\n  <tbody>\n    <tr>\n      <th>14967</th>\n      <td>150.749410</td>\n      <td>2.639016</td>\n      <td>876016</td>\n      <td>21.46</td>\n      <td>0.015</td>\n      <td>7.000000e+09</td>\n      <td>11.850</td>\n      <td>11.816</td>\n      <td>11.884</td>\n      <td>11.803</td>\n      <td>1.700</td>\n      <td>1.632</td>\n      <td>1.768</td>\n      <td>1.622</td>\n      <td>-10.200</td>\n      <td>-10.268</td>\n      <td>-10.132</td>\n      <td>-10.182</td>\n    </tr>\n    <tr>\n      <th>11919</th>\n      <td>150.226607</td>\n      <td>2.653141</td>\n      <td>892683</td>\n      <td>23.80</td>\n      <td>0.039</td>\n      <td>2.600000e+09</td>\n      <td>11.650</td>\n      <td>11.614</td>\n      <td>11.686</td>\n      <td>11.673</td>\n      <td>1.802</td>\n      <td>1.729</td>\n      <td>1.875</td>\n      <td>1.812</td>\n      <td>-9.898</td>\n      <td>-9.971</td>\n      <td>-9.825</td>\n      <td>-9.861</td>\n    </tr>\n    <tr>\n      <th>9750</th>\n      <td>150.118587</td>\n      <td>2.646386</td>\n      <td>884598</td>\n      <td>24.99</td>\n      <td>0.073</td>\n      <td>5.500000e+09</td>\n      <td>11.650</td>\n      <td>11.616</td>\n      <td>11.684</td>\n      <td>11.664</td>\n      <td>0.500</td>\n      <td>0.432</td>\n      <td>0.568</td>\n      <td>0.545</td>\n      <td>-11.100</td>\n      <td>-11.168</td>\n      <td>-11.032</td>\n      <td>-11.120</td>\n    </tr>\n    <tr>\n      <th>23985</th>\n      <td>150.517615</td>\n      <td>2.565561</td>\n      <td>836995</td>\n      <td>20.96</td>\n      <td>0.009</td>\n      <td>3.500000e+09</td>\n      <td>11.648</td>\n      <td>11.614</td>\n      <td>11.683</td>\n      <td>11.637</td>\n      <td>1.998</td>\n      <td>1.928</td>\n      <td>2.067</td>\n      <td>1.964</td>\n      <td>-9.701</td>\n      <td>-9.771</td>\n      <td>-9.631</td>\n      <td>-9.673</td>\n    </tr>\n    <tr>\n      <th>23394</th>\n      <td>150.433228</td>\n      <td>2.624500</td>\n      <td>876158</td>\n      <td>20.94</td>\n      <td>0.003</td>\n      <td>7.000000e+09</td>\n      <td>11.550</td>\n      <td>11.516</td>\n      <td>11.584</td>\n      <td>11.564</td>\n      <td>1.600</td>\n      <td>1.532</td>\n      <td>1.668</td>\n      <td>1.645</td>\n      <td>-9.900</td>\n      <td>-9.968</td>\n      <td>-9.832</td>\n      <td>-9.919</td>\n    </tr>\n    <tr>\n      <th>...</th>\n      <td>...</td>\n      <td>...</td>\n      <td>...</td>\n      <td>...</td>\n      <td>...</td>\n      <td>...</td>\n      <td>...</td>\n      <td>...</td>\n      <td>...</td>\n      <td>...</td>\n      <td>...</td>\n      <td>...</td>\n      <td>...</td>\n      <td>...</td>\n      <td>...</td>\n      <td>...</td>\n      <td>...</td>\n      <td>...</td>\n    </tr>\n    <tr>\n      <th>19793</th>\n      <td>149.806644</td>\n      <td>2.605053</td>\n      <td>860720</td>\n      <td>22.17</td>\n      <td>0.010</td>\n      <td>1.278050e+09</td>\n      <td>7.013</td>\n      <td>7.004</td>\n      <td>7.021</td>\n      <td>5.117</td>\n      <td>-2.406</td>\n      <td>-2.488</td>\n      <td>-2.304</td>\n      <td>-3.807</td>\n      <td>-8.963</td>\n      <td>-9.185</td>\n      <td>-8.852</td>\n      <td>-8.924</td>\n    </tr>\n    <tr>\n      <th>21058</th>\n      <td>150.026083</td>\n      <td>2.637378</td>\n      <td>881087</td>\n      <td>22.16</td>\n      <td>0.020</td>\n      <td>5.000000e+07</td>\n      <td>7.013</td>\n      <td>7.004</td>\n      <td>7.021</td>\n      <td>5.102</td>\n      <td>-2.052</td>\n      <td>-2.143</td>\n      <td>-1.959</td>\n      <td>-2.235</td>\n      <td>-7.301</td>\n      <td>-7.370</td>\n      <td>-7.232</td>\n      <td>-7.337</td>\n    </tr>\n    <tr>\n      <th>11731</th>\n      <td>150.164784</td>\n      <td>2.657364</td>\n      <td>894228</td>\n      <td>23.39</td>\n      <td>0.027</td>\n      <td>1.015180e+08</td>\n      <td>7.345</td>\n      <td>7.267</td>\n      <td>7.415</td>\n      <td>5.072</td>\n      <td>-2.506</td>\n      <td>-2.765</td>\n      <td>-2.400</td>\n      <td>-2.836</td>\n      <td>-7.878</td>\n      <td>-7.973</td>\n      <td>-7.733</td>\n      <td>-7.908</td>\n    </tr>\n    <tr>\n      <th>23152</th>\n      <td>149.836815</td>\n      <td>2.631083</td>\n      <td>875431</td>\n      <td>23.76</td>\n      <td>0.038</td>\n      <td>1.015180e+08</td>\n      <td>7.328</td>\n      <td>7.023</td>\n      <td>7.517</td>\n      <td>5.049</td>\n      <td>-1.579</td>\n      <td>-2.175</td>\n      <td>-1.464</td>\n      <td>-2.574</td>\n      <td>-8.286</td>\n      <td>-8.486</td>\n      <td>-7.825</td>\n      <td>-7.623</td>\n    </tr>\n    <tr>\n      <th>6308</th>\n      <td>149.514409</td>\n      <td>2.539082</td>\n      <td>816323</td>\n      <td>24.79</td>\n      <td>0.033</td>\n      <td>5.000000e+07</td>\n      <td>NaN</td>\n      <td>NaN</td>\n      <td>NaN</td>\n      <td>4.567</td>\n      <td>-2.600</td>\n      <td>-2.668</td>\n      <td>-2.532</td>\n      <td>-2.774</td>\n      <td>-7.700</td>\n      <td>-7.768</td>\n      <td>-7.632</td>\n      <td>-7.341</td>\n    </tr>\n  </tbody>\n</table>\n<p>24015 rows × 18 columns</p>\n</div>"
     },
     "execution_count": 7,
     "metadata": {},
     "output_type": "execute_result"
    }
   ],
   "source": [
    "data_result_sorted_by_mass=data_result.sort_values('mass_best',ascending=False)\n",
    "data_result_sorted_by_mass"
   ],
   "metadata": {
    "collapsed": false,
    "pycharm": {
     "name": "#%%\n"
    }
   }
  },
  {
   "cell_type": "code",
   "execution_count": 19,
   "outputs": [],
   "source": [
    "# 根据mass递减排序，每25%划分为4类\n",
    "\n",
    "c=int((24015/4))\n",
    "\n",
    "data_result_sorted_by_mass_1_4 = data_result_sorted_by_mass.iloc[0:c,:]\n",
    "data_result_sorted_by_mass_1_4_by_SSFR=data_result_sorted_by_mass_1_4.sort_values('ssfr_best',ascending=False) # 二次排序\n",
    "\n",
    "cc=int((len(data_result_sorted_by_mass_1_4_by_SSFR))/4)\n",
    "\n",
    "data_result_sorted_by_mass_1_4_by_SSFR_1_4=data_result_sorted_by_mass_1_4_by_SSFR.iloc[0:cc,:]\n",
    "data_result_sorted_by_mass_1_4_by_SSFR_2_4=data_result_sorted_by_mass_1_4_by_SSFR.iloc[cc:2*cc,:]\n",
    "data_result_sorted_by_mass_1_4_by_SSFR_3_4=data_result_sorted_by_mass_1_4_by_SSFR.iloc[2*cc:3*cc,:]\n",
    "data_result_sorted_by_mass_1_4_by_SSFR_4_4=data_result_sorted_by_mass_1_4_by_SSFR.iloc[3*cc:4*cc,:]\n",
    "\n",
    "##############################################################################################################\n",
    "data_result_sorted_by_mass_2_4 = data_result_sorted_by_mass.iloc[c:2*c,:]\n",
    "data_result_sorted_by_mass_2_4_by_SSFR=data_result_sorted_by_mass_2_4.sort_values('ssfr_best',ascending=False)# 二次排序\n",
    "\n",
    "cc=int((len(data_result_sorted_by_mass_2_4_by_SSFR))/4)\n",
    "\n",
    "data_result_sorted_by_mass_2_4_by_SSFR_1_4=data_result_sorted_by_mass_2_4_by_SSFR.iloc[0:cc,:]\n",
    "data_result_sorted_by_mass_2_4_by_SSFR_2_4=data_result_sorted_by_mass_2_4_by_SSFR.iloc[cc:2*cc,:]\n",
    "data_result_sorted_by_mass_2_4_by_SSFR_3_4=data_result_sorted_by_mass_2_4_by_SSFR.iloc[2*cc:3*cc,:]\n",
    "data_result_sorted_by_mass_2_4_by_SSFR_4_4=data_result_sorted_by_mass_2_4_by_SSFR.iloc[3*cc:4*cc,:]\n",
    "##############################################################################################################\n",
    "data_result_sorted_by_mass_3_4 = data_result_sorted_by_mass.iloc[2*c:3*c,:]\n",
    "data_result_sorted_by_mass_3_4_by_SSFR=data_result_sorted_by_mass_3_4.sort_values('ssfr_best',ascending=False)# 二次排序\n",
    "\n",
    "cc=int((len(data_result_sorted_by_mass_3_4_by_SSFR))/4)\n",
    "\n",
    "data_result_sorted_by_mass_3_4_by_SSFR_1_4=data_result_sorted_by_mass_3_4_by_SSFR.iloc[0:cc,:]\n",
    "data_result_sorted_by_mass_3_4_by_SSFR_2_4=data_result_sorted_by_mass_3_4_by_SSFR.iloc[cc:2*cc,:]\n",
    "data_result_sorted_by_mass_3_4_by_SSFR_3_4=data_result_sorted_by_mass_3_4_by_SSFR.iloc[2*cc:3*cc,:]\n",
    "data_result_sorted_by_mass_3_4_by_SSFR_4_4=data_result_sorted_by_mass_3_4_by_SSFR.iloc[3*cc:4*cc,:]\n",
    "\n",
    "##############################################################################################################\n",
    "\n",
    "data_result_sorted_by_mass_4_4 = data_result_sorted_by_mass.iloc[3*c:4*c,:]\n",
    "data_result_sorted_by_mass_4_4_by_SSFR=data_result_sorted_by_mass_4_4.sort_values('ssfr_best',ascending=False)# 二次排序\n",
    "\n",
    "cc=int((len(data_result_sorted_by_mass_4_4_by_SSFR))/4)\n",
    "\n",
    "data_result_sorted_by_mass_4_4_by_SSFR_1_4=data_result_sorted_by_mass_4_4_by_SSFR.iloc[0:cc,:]\n",
    "data_result_sorted_by_mass_4_4_by_SSFR_2_4=data_result_sorted_by_mass_4_4_by_SSFR.iloc[cc:2*cc,:]\n",
    "data_result_sorted_by_mass_4_4_by_SSFR_3_4=data_result_sorted_by_mass_4_4_by_SSFR.iloc[2*cc:3*cc,:]\n",
    "data_result_sorted_by_mass_4_4_by_SSFR_4_4=data_result_sorted_by_mass_4_4_by_SSFR.iloc[3*cc:4*cc,:]\n",
    "\n",
    "##############################################################################################################"
   ],
   "metadata": {
    "collapsed": false,
    "pycharm": {
     "name": "#%%\n"
    }
   }
  },
  {
   "cell_type": "code",
   "execution_count": 20,
   "outputs": [
    {
     "data": {
      "text/plain": "               ra       dec      id  flux_814w  fluxerr_814w          age  \\\n2893   150.481495  2.614186  868653      23.63         0.031   50000000.0   \n10808  150.514219  2.613706  866416      23.64         0.038   50000000.0   \n9638   150.006647  2.539072  818466      24.34         0.097   50000000.0   \n10282  150.169026  2.657935  894084      23.83         0.025   50000000.0   \n16229  150.514298  2.527017  808653      24.72         0.066   50000000.0   \n...           ...       ...     ...        ...           ...          ...   \n13035  150.439597  2.556460  827908      24.91         0.073  904792000.0   \n18221  150.564553  2.524686  808087      22.75         0.027  904792000.0   \n20995  149.923812  2.639373  883009      23.12         0.032  904792000.0   \n5225   150.108282  2.567204  835965      23.74         0.030  904792000.0   \n1499   150.049466  2.561947  831808      24.95         0.054  904792000.0   \n\n       mass_med  mass_med_min68  mass_med_max68  mass_best  sfr_med  \\\n2893     10.037           9.987          10.198     10.017    2.674   \n10808    10.178          10.125          10.335     10.148    2.743   \n9638     10.016           9.971          10.085     10.005    2.567   \n10282     9.850           9.816           9.884      9.901    2.500   \n16229    10.073           9.974          10.150      9.899    2.007   \n...         ...             ...             ...        ...      ...   \n13035    10.311          10.175          10.399     10.229    1.376   \n18221     9.893           9.855           9.937      9.914    1.396   \n20995    10.350          10.238          10.397     10.378    1.830   \n5225      9.980           9.823          10.053      9.986    1.552   \n1499      9.809           9.705           9.873      9.867    1.334   \n\n       sfr_med_min68  sfr_med_max68  sfr_best  ssfr_med  ssfr_med_min68  \\\n2893           2.604          2.758     2.680    -7.333          -7.582   \n10808          2.288          2.850     2.807    -7.357          -8.044   \n9638           2.371          2.671     2.665    -7.345          -7.690   \n10282          2.432          2.568     2.560    -7.300          -7.368   \n16229          1.928          2.081     2.558    -8.057          -8.168   \n...              ...            ...       ...       ...             ...   \n13035          1.241          1.726     1.693    -8.993          -9.140   \n18221          1.326          1.467     1.378    -8.516          -8.587   \n20995          1.742          2.330     1.842    -8.508          -8.594   \n5225           1.425          1.985     1.450    -8.465          -8.594   \n1499           1.246          1.464     1.331    -8.467          -8.578   \n\n       ssfr_med_max68  ssfr_best  \n2893           -7.242     -7.337  \n10808          -7.250     -7.341  \n9638           -7.246     -7.341  \n10282          -7.232     -7.341  \n16229          -7.936     -7.341  \n...               ...        ...  \n13035          -8.466     -8.536  \n18221          -8.438     -8.536  \n20995          -7.894     -8.536  \n5225           -7.829     -8.536  \n1499           -8.306     -8.536  \n\n[1500 rows x 18 columns]",
      "text/html": "<div>\n<style scoped>\n    .dataframe tbody tr th:only-of-type {\n        vertical-align: middle;\n    }\n\n    .dataframe tbody tr th {\n        vertical-align: top;\n    }\n\n    .dataframe thead th {\n        text-align: right;\n    }\n</style>\n<table border=\"1\" class=\"dataframe\">\n  <thead>\n    <tr style=\"text-align: right;\">\n      <th></th>\n      <th>ra</th>\n      <th>dec</th>\n      <th>id</th>\n      <th>flux_814w</th>\n      <th>fluxerr_814w</th>\n      <th>age</th>\n      <th>mass_med</th>\n      <th>mass_med_min68</th>\n      <th>mass_med_max68</th>\n      <th>mass_best</th>\n      <th>sfr_med</th>\n      <th>sfr_med_min68</th>\n      <th>sfr_med_max68</th>\n      <th>sfr_best</th>\n      <th>ssfr_med</th>\n      <th>ssfr_med_min68</th>\n      <th>ssfr_med_max68</th>\n      <th>ssfr_best</th>\n    </tr>\n  </thead>\n  <tbody>\n    <tr>\n      <th>2893</th>\n      <td>150.481495</td>\n      <td>2.614186</td>\n      <td>868653</td>\n      <td>23.63</td>\n      <td>0.031</td>\n      <td>50000000.0</td>\n      <td>10.037</td>\n      <td>9.987</td>\n      <td>10.198</td>\n      <td>10.017</td>\n      <td>2.674</td>\n      <td>2.604</td>\n      <td>2.758</td>\n      <td>2.680</td>\n      <td>-7.333</td>\n      <td>-7.582</td>\n      <td>-7.242</td>\n      <td>-7.337</td>\n    </tr>\n    <tr>\n      <th>10808</th>\n      <td>150.514219</td>\n      <td>2.613706</td>\n      <td>866416</td>\n      <td>23.64</td>\n      <td>0.038</td>\n      <td>50000000.0</td>\n      <td>10.178</td>\n      <td>10.125</td>\n      <td>10.335</td>\n      <td>10.148</td>\n      <td>2.743</td>\n      <td>2.288</td>\n      <td>2.850</td>\n      <td>2.807</td>\n      <td>-7.357</td>\n      <td>-8.044</td>\n      <td>-7.250</td>\n      <td>-7.341</td>\n    </tr>\n    <tr>\n      <th>9638</th>\n      <td>150.006647</td>\n      <td>2.539072</td>\n      <td>818466</td>\n      <td>24.34</td>\n      <td>0.097</td>\n      <td>50000000.0</td>\n      <td>10.016</td>\n      <td>9.971</td>\n      <td>10.085</td>\n      <td>10.005</td>\n      <td>2.567</td>\n      <td>2.371</td>\n      <td>2.671</td>\n      <td>2.665</td>\n      <td>-7.345</td>\n      <td>-7.690</td>\n      <td>-7.246</td>\n      <td>-7.341</td>\n    </tr>\n    <tr>\n      <th>10282</th>\n      <td>150.169026</td>\n      <td>2.657935</td>\n      <td>894084</td>\n      <td>23.83</td>\n      <td>0.025</td>\n      <td>50000000.0</td>\n      <td>9.850</td>\n      <td>9.816</td>\n      <td>9.884</td>\n      <td>9.901</td>\n      <td>2.500</td>\n      <td>2.432</td>\n      <td>2.568</td>\n      <td>2.560</td>\n      <td>-7.300</td>\n      <td>-7.368</td>\n      <td>-7.232</td>\n      <td>-7.341</td>\n    </tr>\n    <tr>\n      <th>16229</th>\n      <td>150.514298</td>\n      <td>2.527017</td>\n      <td>808653</td>\n      <td>24.72</td>\n      <td>0.066</td>\n      <td>50000000.0</td>\n      <td>10.073</td>\n      <td>9.974</td>\n      <td>10.150</td>\n      <td>9.899</td>\n      <td>2.007</td>\n      <td>1.928</td>\n      <td>2.081</td>\n      <td>2.558</td>\n      <td>-8.057</td>\n      <td>-8.168</td>\n      <td>-7.936</td>\n      <td>-7.341</td>\n    </tr>\n    <tr>\n      <th>...</th>\n      <td>...</td>\n      <td>...</td>\n      <td>...</td>\n      <td>...</td>\n      <td>...</td>\n      <td>...</td>\n      <td>...</td>\n      <td>...</td>\n      <td>...</td>\n      <td>...</td>\n      <td>...</td>\n      <td>...</td>\n      <td>...</td>\n      <td>...</td>\n      <td>...</td>\n      <td>...</td>\n      <td>...</td>\n      <td>...</td>\n    </tr>\n    <tr>\n      <th>13035</th>\n      <td>150.439597</td>\n      <td>2.556460</td>\n      <td>827908</td>\n      <td>24.91</td>\n      <td>0.073</td>\n      <td>904792000.0</td>\n      <td>10.311</td>\n      <td>10.175</td>\n      <td>10.399</td>\n      <td>10.229</td>\n      <td>1.376</td>\n      <td>1.241</td>\n      <td>1.726</td>\n      <td>1.693</td>\n      <td>-8.993</td>\n      <td>-9.140</td>\n      <td>-8.466</td>\n      <td>-8.536</td>\n    </tr>\n    <tr>\n      <th>18221</th>\n      <td>150.564553</td>\n      <td>2.524686</td>\n      <td>808087</td>\n      <td>22.75</td>\n      <td>0.027</td>\n      <td>904792000.0</td>\n      <td>9.893</td>\n      <td>9.855</td>\n      <td>9.937</td>\n      <td>9.914</td>\n      <td>1.396</td>\n      <td>1.326</td>\n      <td>1.467</td>\n      <td>1.378</td>\n      <td>-8.516</td>\n      <td>-8.587</td>\n      <td>-8.438</td>\n      <td>-8.536</td>\n    </tr>\n    <tr>\n      <th>20995</th>\n      <td>149.923812</td>\n      <td>2.639373</td>\n      <td>883009</td>\n      <td>23.12</td>\n      <td>0.032</td>\n      <td>904792000.0</td>\n      <td>10.350</td>\n      <td>10.238</td>\n      <td>10.397</td>\n      <td>10.378</td>\n      <td>1.830</td>\n      <td>1.742</td>\n      <td>2.330</td>\n      <td>1.842</td>\n      <td>-8.508</td>\n      <td>-8.594</td>\n      <td>-7.894</td>\n      <td>-8.536</td>\n    </tr>\n    <tr>\n      <th>5225</th>\n      <td>150.108282</td>\n      <td>2.567204</td>\n      <td>835965</td>\n      <td>23.74</td>\n      <td>0.030</td>\n      <td>904792000.0</td>\n      <td>9.980</td>\n      <td>9.823</td>\n      <td>10.053</td>\n      <td>9.986</td>\n      <td>1.552</td>\n      <td>1.425</td>\n      <td>1.985</td>\n      <td>1.450</td>\n      <td>-8.465</td>\n      <td>-8.594</td>\n      <td>-7.829</td>\n      <td>-8.536</td>\n    </tr>\n    <tr>\n      <th>1499</th>\n      <td>150.049466</td>\n      <td>2.561947</td>\n      <td>831808</td>\n      <td>24.95</td>\n      <td>0.054</td>\n      <td>904792000.0</td>\n      <td>9.809</td>\n      <td>9.705</td>\n      <td>9.873</td>\n      <td>9.867</td>\n      <td>1.334</td>\n      <td>1.246</td>\n      <td>1.464</td>\n      <td>1.331</td>\n      <td>-8.467</td>\n      <td>-8.578</td>\n      <td>-8.306</td>\n      <td>-8.536</td>\n    </tr>\n  </tbody>\n</table>\n<p>1500 rows × 18 columns</p>\n</div>"
     },
     "execution_count": 20,
     "metadata": {},
     "output_type": "execute_result"
    }
   ],
   "source": [
    "data_result_sorted_by_mass_1_4_by_SSFR_1_4"
   ],
   "metadata": {
    "collapsed": false,
    "pycharm": {
     "name": "#%%\n"
    }
   }
  },
  {
   "cell_type": "code",
   "execution_count": 15,
   "outputs": [
    {
     "ename": "IndexError",
     "evalue": "single positional indexer is out-of-bounds",
     "output_type": "error",
     "traceback": [
      "\u001B[1;31m---------------------------------------------------------------------------\u001B[0m",
      "\u001B[1;31mIndexError\u001B[0m                                Traceback (most recent call last)",
      "\u001B[1;32m~\\AppData\\Local\\Temp\\ipykernel_6744\\719038645.py\u001B[0m in \u001B[0;36m<module>\u001B[1;34m\u001B[0m\n\u001B[0;32m      8\u001B[0m           data_result_sorted_by_mass_4_4_by_SSFR_1_4,data_result_sorted_by_mass_4_4_by_SSFR_2_4,data_result_sorted_by_mass_4_4_by_SSFR_3_4,data_result_sorted_by_mass_4_4_by_SSFR_4_4]:\n\u001B[0;32m      9\u001B[0m         \u001B[1;32mfor\u001B[0m \u001B[0mi\u001B[0m \u001B[1;32min\u001B[0m \u001B[0mind\u001B[0m\u001B[1;33m:\u001B[0m\u001B[1;33m\u001B[0m\u001B[1;33m\u001B[0m\u001B[0m\n\u001B[1;32m---> 10\u001B[1;33m             \u001B[0maver_\u001B[0m\u001B[1;33m.\u001B[0m\u001B[0mappend\u001B[0m\u001B[1;33m(\u001B[0m\u001B[1;33m(\u001B[0m\u001B[0mnp\u001B[0m\u001B[1;33m.\u001B[0m\u001B[0mmean\u001B[0m\u001B[1;33m(\u001B[0m\u001B[1;33m(\u001B[0m\u001B[0mj\u001B[0m\u001B[1;33m.\u001B[0m\u001B[0miloc\u001B[0m\u001B[1;33m[\u001B[0m\u001B[1;33m:\u001B[0m\u001B[1;33m,\u001B[0m \u001B[1;36m19\u001B[0m\u001B[1;33m:\u001B[0m\u001B[1;36m27\u001B[0m\u001B[1;33m]\u001B[0m\u001B[1;33m.\u001B[0m\u001B[0miloc\u001B[0m\u001B[1;33m[\u001B[0m\u001B[1;33m:\u001B[0m\u001B[1;33m,\u001B[0m \u001B[0mi\u001B[0m\u001B[1;33m]\u001B[0m\u001B[1;33m)\u001B[0m\u001B[1;33m)\u001B[0m\u001B[1;33m)\u001B[0m\u001B[1;33m)\u001B[0m\u001B[1;33m\u001B[0m\u001B[1;33m\u001B[0m\u001B[0m\n\u001B[0m\u001B[0;32m     11\u001B[0m         \u001B[0maver\u001B[0m\u001B[1;33m=\u001B[0m\u001B[0mnp\u001B[0m\u001B[1;33m.\u001B[0m\u001B[0mvstack\u001B[0m\u001B[1;33m(\u001B[0m\u001B[1;33m(\u001B[0m\u001B[0maver\u001B[0m\u001B[1;33m,\u001B[0m\u001B[0maver_\u001B[0m\u001B[1;33m)\u001B[0m\u001B[1;33m)\u001B[0m\u001B[1;33m\u001B[0m\u001B[1;33m\u001B[0m\u001B[0m\n\u001B[0;32m     12\u001B[0m         \u001B[0maver_\u001B[0m\u001B[1;33m=\u001B[0m\u001B[1;33m[\u001B[0m\u001B[1;33m]\u001B[0m\u001B[1;33m\u001B[0m\u001B[1;33m\u001B[0m\u001B[0m\n",
      "\u001B[1;32mD:\\Anaconda\\envs\\calculate\\lib\\site-packages\\pandas\\core\\indexing.py\u001B[0m in \u001B[0;36m__getitem__\u001B[1;34m(self, key)\u001B[0m\n\u001B[0;32m    923\u001B[0m                 \u001B[1;32mwith\u001B[0m \u001B[0msuppress\u001B[0m\u001B[1;33m(\u001B[0m\u001B[0mKeyError\u001B[0m\u001B[1;33m,\u001B[0m \u001B[0mIndexError\u001B[0m\u001B[1;33m)\u001B[0m\u001B[1;33m:\u001B[0m\u001B[1;33m\u001B[0m\u001B[1;33m\u001B[0m\u001B[0m\n\u001B[0;32m    924\u001B[0m                     \u001B[1;32mreturn\u001B[0m \u001B[0mself\u001B[0m\u001B[1;33m.\u001B[0m\u001B[0mobj\u001B[0m\u001B[1;33m.\u001B[0m\u001B[0m_get_value\u001B[0m\u001B[1;33m(\u001B[0m\u001B[1;33m*\u001B[0m\u001B[0mkey\u001B[0m\u001B[1;33m,\u001B[0m \u001B[0mtakeable\u001B[0m\u001B[1;33m=\u001B[0m\u001B[0mself\u001B[0m\u001B[1;33m.\u001B[0m\u001B[0m_takeable\u001B[0m\u001B[1;33m)\u001B[0m\u001B[1;33m\u001B[0m\u001B[1;33m\u001B[0m\u001B[0m\n\u001B[1;32m--> 925\u001B[1;33m             \u001B[1;32mreturn\u001B[0m \u001B[0mself\u001B[0m\u001B[1;33m.\u001B[0m\u001B[0m_getitem_tuple\u001B[0m\u001B[1;33m(\u001B[0m\u001B[0mkey\u001B[0m\u001B[1;33m)\u001B[0m\u001B[1;33m\u001B[0m\u001B[1;33m\u001B[0m\u001B[0m\n\u001B[0m\u001B[0;32m    926\u001B[0m         \u001B[1;32melse\u001B[0m\u001B[1;33m:\u001B[0m\u001B[1;33m\u001B[0m\u001B[1;33m\u001B[0m\u001B[0m\n\u001B[0;32m    927\u001B[0m             \u001B[1;31m# we by definition only have the 0th axis\u001B[0m\u001B[1;33m\u001B[0m\u001B[1;33m\u001B[0m\u001B[1;33m\u001B[0m\u001B[0m\n",
      "\u001B[1;32mD:\\Anaconda\\envs\\calculate\\lib\\site-packages\\pandas\\core\\indexing.py\u001B[0m in \u001B[0;36m_getitem_tuple\u001B[1;34m(self, tup)\u001B[0m\n\u001B[0;32m   1504\u001B[0m     \u001B[1;32mdef\u001B[0m \u001B[0m_getitem_tuple\u001B[0m\u001B[1;33m(\u001B[0m\u001B[0mself\u001B[0m\u001B[1;33m,\u001B[0m \u001B[0mtup\u001B[0m\u001B[1;33m:\u001B[0m \u001B[0mtuple\u001B[0m\u001B[1;33m)\u001B[0m\u001B[1;33m:\u001B[0m\u001B[1;33m\u001B[0m\u001B[1;33m\u001B[0m\u001B[0m\n\u001B[0;32m   1505\u001B[0m \u001B[1;33m\u001B[0m\u001B[0m\n\u001B[1;32m-> 1506\u001B[1;33m         \u001B[0mself\u001B[0m\u001B[1;33m.\u001B[0m\u001B[0m_has_valid_tuple\u001B[0m\u001B[1;33m(\u001B[0m\u001B[0mtup\u001B[0m\u001B[1;33m)\u001B[0m\u001B[1;33m\u001B[0m\u001B[1;33m\u001B[0m\u001B[0m\n\u001B[0m\u001B[0;32m   1507\u001B[0m         \u001B[1;32mwith\u001B[0m \u001B[0msuppress\u001B[0m\u001B[1;33m(\u001B[0m\u001B[0mIndexingError\u001B[0m\u001B[1;33m)\u001B[0m\u001B[1;33m:\u001B[0m\u001B[1;33m\u001B[0m\u001B[1;33m\u001B[0m\u001B[0m\n\u001B[0;32m   1508\u001B[0m             \u001B[1;32mreturn\u001B[0m \u001B[0mself\u001B[0m\u001B[1;33m.\u001B[0m\u001B[0m_getitem_lowerdim\u001B[0m\u001B[1;33m(\u001B[0m\u001B[0mtup\u001B[0m\u001B[1;33m)\u001B[0m\u001B[1;33m\u001B[0m\u001B[1;33m\u001B[0m\u001B[0m\n",
      "\u001B[1;32mD:\\Anaconda\\envs\\calculate\\lib\\site-packages\\pandas\\core\\indexing.py\u001B[0m in \u001B[0;36m_has_valid_tuple\u001B[1;34m(self, key)\u001B[0m\n\u001B[0;32m    752\u001B[0m         \u001B[1;32mfor\u001B[0m \u001B[0mi\u001B[0m\u001B[1;33m,\u001B[0m \u001B[0mk\u001B[0m \u001B[1;32min\u001B[0m \u001B[0menumerate\u001B[0m\u001B[1;33m(\u001B[0m\u001B[0mkey\u001B[0m\u001B[1;33m)\u001B[0m\u001B[1;33m:\u001B[0m\u001B[1;33m\u001B[0m\u001B[1;33m\u001B[0m\u001B[0m\n\u001B[0;32m    753\u001B[0m             \u001B[1;32mtry\u001B[0m\u001B[1;33m:\u001B[0m\u001B[1;33m\u001B[0m\u001B[1;33m\u001B[0m\u001B[0m\n\u001B[1;32m--> 754\u001B[1;33m                 \u001B[0mself\u001B[0m\u001B[1;33m.\u001B[0m\u001B[0m_validate_key\u001B[0m\u001B[1;33m(\u001B[0m\u001B[0mk\u001B[0m\u001B[1;33m,\u001B[0m \u001B[0mi\u001B[0m\u001B[1;33m)\u001B[0m\u001B[1;33m\u001B[0m\u001B[1;33m\u001B[0m\u001B[0m\n\u001B[0m\u001B[0;32m    755\u001B[0m             \u001B[1;32mexcept\u001B[0m \u001B[0mValueError\u001B[0m \u001B[1;32mas\u001B[0m \u001B[0merr\u001B[0m\u001B[1;33m:\u001B[0m\u001B[1;33m\u001B[0m\u001B[1;33m\u001B[0m\u001B[0m\n\u001B[0;32m    756\u001B[0m                 raise ValueError(\n",
      "\u001B[1;32mD:\\Anaconda\\envs\\calculate\\lib\\site-packages\\pandas\\core\\indexing.py\u001B[0m in \u001B[0;36m_validate_key\u001B[1;34m(self, key, axis)\u001B[0m\n\u001B[0;32m   1407\u001B[0m             \u001B[1;32mreturn\u001B[0m\u001B[1;33m\u001B[0m\u001B[1;33m\u001B[0m\u001B[0m\n\u001B[0;32m   1408\u001B[0m         \u001B[1;32melif\u001B[0m \u001B[0mis_integer\u001B[0m\u001B[1;33m(\u001B[0m\u001B[0mkey\u001B[0m\u001B[1;33m)\u001B[0m\u001B[1;33m:\u001B[0m\u001B[1;33m\u001B[0m\u001B[1;33m\u001B[0m\u001B[0m\n\u001B[1;32m-> 1409\u001B[1;33m             \u001B[0mself\u001B[0m\u001B[1;33m.\u001B[0m\u001B[0m_validate_integer\u001B[0m\u001B[1;33m(\u001B[0m\u001B[0mkey\u001B[0m\u001B[1;33m,\u001B[0m \u001B[0maxis\u001B[0m\u001B[1;33m)\u001B[0m\u001B[1;33m\u001B[0m\u001B[1;33m\u001B[0m\u001B[0m\n\u001B[0m\u001B[0;32m   1410\u001B[0m         \u001B[1;32melif\u001B[0m \u001B[0misinstance\u001B[0m\u001B[1;33m(\u001B[0m\u001B[0mkey\u001B[0m\u001B[1;33m,\u001B[0m \u001B[0mtuple\u001B[0m\u001B[1;33m)\u001B[0m\u001B[1;33m:\u001B[0m\u001B[1;33m\u001B[0m\u001B[1;33m\u001B[0m\u001B[0m\n\u001B[0;32m   1411\u001B[0m             \u001B[1;31m# a tuple should already have been caught by this point\u001B[0m\u001B[1;33m\u001B[0m\u001B[1;33m\u001B[0m\u001B[1;33m\u001B[0m\u001B[0m\n",
      "\u001B[1;32mD:\\Anaconda\\envs\\calculate\\lib\\site-packages\\pandas\\core\\indexing.py\u001B[0m in \u001B[0;36m_validate_integer\u001B[1;34m(self, key, axis)\u001B[0m\n\u001B[0;32m   1498\u001B[0m         \u001B[0mlen_axis\u001B[0m \u001B[1;33m=\u001B[0m \u001B[0mlen\u001B[0m\u001B[1;33m(\u001B[0m\u001B[0mself\u001B[0m\u001B[1;33m.\u001B[0m\u001B[0mobj\u001B[0m\u001B[1;33m.\u001B[0m\u001B[0m_get_axis\u001B[0m\u001B[1;33m(\u001B[0m\u001B[0maxis\u001B[0m\u001B[1;33m)\u001B[0m\u001B[1;33m)\u001B[0m\u001B[1;33m\u001B[0m\u001B[1;33m\u001B[0m\u001B[0m\n\u001B[0;32m   1499\u001B[0m         \u001B[1;32mif\u001B[0m \u001B[0mkey\u001B[0m \u001B[1;33m>=\u001B[0m \u001B[0mlen_axis\u001B[0m \u001B[1;32mor\u001B[0m \u001B[0mkey\u001B[0m \u001B[1;33m<\u001B[0m \u001B[1;33m-\u001B[0m\u001B[0mlen_axis\u001B[0m\u001B[1;33m:\u001B[0m\u001B[1;33m\u001B[0m\u001B[1;33m\u001B[0m\u001B[0m\n\u001B[1;32m-> 1500\u001B[1;33m             \u001B[1;32mraise\u001B[0m \u001B[0mIndexError\u001B[0m\u001B[1;33m(\u001B[0m\u001B[1;34m\"single positional indexer is out-of-bounds\"\u001B[0m\u001B[1;33m)\u001B[0m\u001B[1;33m\u001B[0m\u001B[1;33m\u001B[0m\u001B[0m\n\u001B[0m\u001B[0;32m   1501\u001B[0m \u001B[1;33m\u001B[0m\u001B[0m\n\u001B[0;32m   1502\u001B[0m     \u001B[1;31m# -------------------------------------------------------------------\u001B[0m\u001B[1;33m\u001B[0m\u001B[1;33m\u001B[0m\u001B[1;33m\u001B[0m\u001B[0m\n",
      "\u001B[1;31mIndexError\u001B[0m: single positional indexer is out-of-bounds"
     ]
    }
   ],
   "source": [
    "aver=-1*np.ones((1,8))\n",
    "aver_=[]\n",
    "ind=[0,1,2,3,4,5,6,7]\n",
    "\n",
    "for j in [data_result_sorted_by_mass_1_4_by_SSFR_1_4,data_result_sorted_by_mass_1_4_by_SSFR_2_4,data_result_sorted_by_mass_1_4_by_SSFR_3_4,data_result_sorted_by_mass_1_4_by_SSFR_4_4,\n",
    "          data_result_sorted_by_mass_2_4_by_SSFR_1_4,data_result_sorted_by_mass_2_4_by_SSFR_2_4,data_result_sorted_by_mass_2_4_by_SSFR_3_4,data_result_sorted_by_mass_2_4_by_SSFR_4_4,\n",
    "          data_result_sorted_by_mass_3_4_by_SSFR_1_4,data_result_sorted_by_mass_3_4_by_SSFR_2_4,data_result_sorted_by_mass_3_4_by_SSFR_3_4,data_result_sorted_by_mass_3_4_by_SSFR_4_4,\n",
    "          data_result_sorted_by_mass_4_4_by_SSFR_1_4,data_result_sorted_by_mass_4_4_by_SSFR_2_4,data_result_sorted_by_mass_4_4_by_SSFR_3_4,data_result_sorted_by_mass_4_4_by_SSFR_4_4]:\n",
    "        for i in ind:\n",
    "            aver_.append((np.mean((j.iloc[:, 19:27].iloc[:, i]))))\n",
    "        aver=np.vstack((aver,aver_))\n",
    "        aver_=[]\n",
    "\n",
    "\n",
    "\n",
    "for j in [data_result_sorted_by_mass_2_4_by_SSFR_1_4,data_result_sorted_by_mass_2_4_by_SSFR_2_4,data_result_sorted_by_mass_2_4_by_SSFR_3_4,data_result_sorted_by_mass_2_4_by_SSFR_4_4]:\n",
    "    for i in ind:\n",
    "        aver_.append(np.mean(j[i]))\n",
    "        aver=np.vstack((aver,aver_))\n",
    "        aver_=[]\n",
    "\n",
    "for j in [data_result_sorted_by_mass_3_4_by_SSFR_1_4,data_result_sorted_by_mass_3_4_by_SSFR_2_4,data_result_sorted_by_mass_3_4_by_SSFR_3_4,data_result_sorted_by_mass_3_4_by_SSFR_4_4]:\n",
    "    for i in ind:\n",
    "        aver_.append(np.mean(j[i]))\n",
    "        aver=np.vstack((aver,aver_))\n",
    "        aver_=[]\n",
    "\n",
    "for j in [data_result_sorted_by_mass_4_4_by_SSFR_1_4,data_result_sorted_by_mass_4_4_by_SSFR_2_4,data_result_sorted_by_mass_4_4_by_SSFR_3_4,data_result_sorted_by_mass_4_4_by_SSFR_4_4]:\n",
    "    for i in ind:\n",
    "        aver_.append(np.mean(j[i]))\n",
    "        aver=np.vstack((aver,aver_))\n",
    "        aver_=[]\n"
   ],
   "metadata": {
    "collapsed": false,
    "pycharm": {
     "name": "#%%\n"
    }
   }
  },
  {
   "cell_type": "code",
   "execution_count": 13,
   "outputs": [],
   "source": [
    "aver=aver[1:,:]"
   ],
   "metadata": {
    "collapsed": false,
    "pycharm": {
     "name": "#%%\n"
    }
   }
  },
  {
   "cell_type": "code",
   "execution_count": 14,
   "outputs": [
    {
     "data": {
      "text/plain": "array([], shape=(0, 8), dtype=float64)"
     },
     "execution_count": 14,
     "metadata": {},
     "output_type": "execute_result"
    }
   ],
   "source": [
    "aver"
   ],
   "metadata": {
    "collapsed": false,
    "pycharm": {
     "name": "#%%\n"
    }
   }
  },
  {
   "cell_type": "code",
   "execution_count": 16,
   "outputs": [],
   "source": [
    "aver_mass_1=aver[0:4,:]\n",
    "aver_mass_2=aver[4:8,:]\n",
    "aver_mass_3=aver[8:12,:]\n",
    "aver_mass_4=aver[12:16,:]"
   ],
   "metadata": {
    "collapsed": false,
    "pycharm": {
     "name": "#%%\n"
    }
   }
  },
  {
   "cell_type": "code",
   "execution_count": 17,
   "outputs": [
    {
     "ename": "IndexError",
     "evalue": "index 1 is out of bounds for axis 0 with size 1",
     "output_type": "error",
     "traceback": [
      "\u001B[1;31m---------------------------------------------------------------------------\u001B[0m",
      "\u001B[1;31mIndexError\u001B[0m                                Traceback (most recent call last)",
      "\u001B[1;32m~\\AppData\\Local\\Temp\\ipykernel_6744\\383504982.py\u001B[0m in \u001B[0;36m<module>\u001B[1;34m\u001B[0m\n\u001B[0;32m     15\u001B[0m \u001B[1;33m\u001B[0m\u001B[0m\n\u001B[0;32m     16\u001B[0m \u001B[0my11\u001B[0m\u001B[1;33m=\u001B[0m\u001B[0maver_mass_1\u001B[0m\u001B[1;33m[\u001B[0m\u001B[1;36m0\u001B[0m\u001B[1;33m,\u001B[0m\u001B[1;33m:\u001B[0m\u001B[1;33m]\u001B[0m\u001B[1;33m\u001B[0m\u001B[1;33m\u001B[0m\u001B[0m\n\u001B[1;32m---> 17\u001B[1;33m \u001B[0my12\u001B[0m\u001B[1;33m=\u001B[0m\u001B[0maver_mass_1\u001B[0m\u001B[1;33m[\u001B[0m\u001B[1;36m1\u001B[0m\u001B[1;33m,\u001B[0m\u001B[1;33m:\u001B[0m\u001B[1;33m]\u001B[0m\u001B[1;33m\u001B[0m\u001B[1;33m\u001B[0m\u001B[0m\n\u001B[0m\u001B[0;32m     18\u001B[0m \u001B[0my13\u001B[0m\u001B[1;33m=\u001B[0m\u001B[0maver_mass_1\u001B[0m\u001B[1;33m[\u001B[0m\u001B[1;36m2\u001B[0m\u001B[1;33m,\u001B[0m\u001B[1;33m:\u001B[0m\u001B[1;33m]\u001B[0m\u001B[1;33m\u001B[0m\u001B[1;33m\u001B[0m\u001B[0m\n\u001B[0;32m     19\u001B[0m \u001B[0my14\u001B[0m\u001B[1;33m=\u001B[0m\u001B[0maver_mass_1\u001B[0m\u001B[1;33m[\u001B[0m\u001B[1;36m3\u001B[0m\u001B[1;33m,\u001B[0m\u001B[1;33m:\u001B[0m\u001B[1;33m]\u001B[0m\u001B[1;33m\u001B[0m\u001B[1;33m\u001B[0m\u001B[0m\n",
      "\u001B[1;31mIndexError\u001B[0m: index 1 is out of bounds for axis 0 with size 1"
     ]
    },
    {
     "data": {
      "text/plain": "<Figure size 432x288 with 4 Axes>",
      "image/png": "[encoded data removed]"
     },
     "metadata": {
      "needs_background": "light"
     },
     "output_type": "display_data"
    }
   ],
   "source": [
    "import matplotlib.pyplot as plt\n",
    "import numpy as np\n",
    "plt.rcParams['font.sans-serif']=['SimHei']\n",
    "plt.rcParams['axes.unicode_minus']=False\n",
    "# fig,ax=plt.subplots(nrows=1,ncols=2,sharey=True)\n",
    "figsize=(23, 12)\n",
    "fig,ax=plt.subplots(nrows=1, ncols=4,sharex=True)\n",
    "plt.rcParams['figure.figsize'] = [21, 6]\n",
    "plt.rcParams['savefig.dpi']=300\n",
    "x=[1,1.5,2,2.5,3,3.5,4,5]\n",
    "\n",
    "\n",
    "##################################################################################################\n",
    "ax1=ax[0]\n",
    "\n",
    "y11=aver_mass_1[0,:]\n",
    "y12=aver_mass_1[1,:]\n",
    "y13=aver_mass_1[2,:]\n",
    "y14=aver_mass_1[3,:]\n",
    "\n",
    "y_mean=[]\n",
    "for i in range(0,8):\n",
    "    y_mean_=np.mean(aver_mass_1[:,i])\n",
    "    y_mean.append(y_mean_)\n",
    "yerror=abs(y11-y_mean)\n",
    "ax1.errorbar(x=x,y=y11,yerr=yerror,fmt='--',c='r',label='high SSFR',elinewidth=2,capsize=3,alpha=0.8)\n",
    "\n",
    "# yerror=abs(y12-y_mean)\n",
    "# ax1.errorbar(x=x,y=y12,yerr=[],fmt='--',c='g',label='high SSFR',elinewidth=2,capsize=3,alpha=0.8)\n",
    "\n",
    "\n",
    "yerror=abs(y13-y_mean)\n",
    "ax1.errorbar(x=x,y=y13,yerr=yerror,fmt='--',c='g',label='medium SSFR',elinewidth=2,capsize=3,alpha=0.8)\n",
    "\n",
    "\n",
    "yerror=abs(y14-y_mean)\n",
    "ax1.errorbar(x=x,y=y14,yerr=yerror,fmt='--',c='b',label='low SSFR',elinewidth=2,capsize=3,alpha=0.8)\n",
    "# meger:ax1.errorbar()\n",
    "ax1.legend()\n",
    "ax1.set_xlabel('FOV')\n",
    "ax1.set_ylabel('D-R')\n",
    "ax1.set_title(\"$11.8 \\geq \\lg M_*/M \\geq 9.83$\")\n",
    "######################################################################################################\n",
    "ax2=ax[1]\n",
    "\n",
    "y21=aver_mass_2[0,:]\n",
    "y22=aver_mass_2[1,:]\n",
    "y23=aver_mass_2[2,:]\n",
    "y24=aver_mass_2[3,:]\n",
    "\n",
    "y_mean=[]\n",
    "for i in range(0,8):\n",
    "    y_mean_=np.mean(aver_mass_2[:,i])\n",
    "    y_mean.append(y_mean_)\n",
    "\n",
    "yerror=abs(y21-y_mean)\n",
    "ax2.errorbar(x=x,y=y21,yerr=yerror,fmt='--',c='r',label='high SSFR',elinewidth=2,capsize=3,alpha=0.8)\n",
    "\n",
    "yerror=abs(y23-y_mean)\n",
    "ax2.errorbar(x=x,y=y23,yerr=yerror,fmt='--',c='g',label='medium SSFR',elinewidth=2,capsize=3,alpha=0.8)\n",
    "\n",
    "yerror=abs(y24-y_mean)\n",
    "ax2.errorbar(x=x,y=y24,yerr=yerror,fmt='--',c='b',label='low SSFR',elinewidth=2,capsize=3,alpha=0.8)\n",
    "ax2.legend()\n",
    "ax2.set_xlabel('FOV')\n",
    "\n",
    "ax2.set_title(\"$9.83 \\geq \\lg M_*/M \\geq 9.33$\")\n",
    "#plt.suptitle(\"一张画布两个子图,并共享y坐标\")\n",
    "######################################################################################################\n",
    "ax3=ax[2]\n",
    "\n",
    "y31=aver_mass_3[0,:]\n",
    "y32=aver_mass_3[1,:]\n",
    "y33=aver_mass_3[2,:]\n",
    "y34=aver_mass_3[3,:]\n",
    "plt.legend()\n",
    "y_mean=[]\n",
    "for i in range(0,8):\n",
    "    y_mean_=np.mean(aver_mass_3[:,i])\n",
    "    y_mean.append(y_mean_)\n",
    "yerror=abs(y31-y_mean)\n",
    "ax3.errorbar(x=x,y=y31,yerr=yerror,fmt='--',c='r',label='high SSFR',elinewidth=2,capsize=3,alpha=0.8)\n",
    "\n",
    "# yerror=abs(y12-y_mean)\n",
    "# ax1.errorbar(x=x,y=y12,yerr=[],fmt='--',c='g',label='high SSFR',elinewidth=2,capsize=3,alpha=0.8)\n",
    "\n",
    "\n",
    "yerror=abs(y13-y_mean)\n",
    "ax3.errorbar(x=x,y=y33,yerr=yerror,fmt='--',c='g',label='medium SSFR',elinewidth=2,capsize=3,alpha=0.8)\n",
    "\n",
    "\n",
    "yerror=abs(y14-y_mean)\n",
    "ax3.errorbar(x=x,y=y34,yerr=yerror,fmt='--',c='b',label='low SSFR',elinewidth=2,capsize=3,alpha=0.8)\n",
    "# meger:ax1.errorbar()\n",
    "ax3.legend()\n",
    "ax3.set_xlabel('FOV')\n",
    "\n",
    "ax3.set_title(\"$9.33 \\geq \\lg M_*/M \\geq 8.79$\")\n",
    "######################################################################################################\n",
    "ax4=ax[3]\n",
    "\n",
    "y41=aver_mass_4[0,:]\n",
    "y42=aver_mass_4[1,:]\n",
    "y43=aver_mass_4[2,:]\n",
    "y44=aver_mass_4[3,:]\n",
    "\n",
    "y_mean=[]\n",
    "for i in range(0,8):\n",
    "    y_mean_=np.mean(aver_mass_4[:,i])\n",
    "    y_mean.append(y_mean_)\n",
    "yerror=abs(y41-y_mean)\n",
    "ax4.errorbar(x=x,y=y41,yerr=yerror,fmt='--',c='r',label='high SSFR',elinewidth=2,capsize=3,alpha=0.8)\n",
    "\n",
    "# yerror=abs(y12-y_mean)\n",
    "# ax1.errorbar(x=x,y=y12,yerr=[],fmt='--',c='g',label='high SSFR',elinewidth=2,capsize=3,alpha=0.8)\n",
    "\n",
    "\n",
    "yerror=abs(y43-y_mean)\n",
    "ax4.errorbar(x=x,y=y43,yerr=yerror,fmt='--',c='g',label='medium SSFR',elinewidth=2,capsize=3,alpha=0.8)\n",
    "\n",
    "\n",
    "yerror=abs(y44-y_mean)\n",
    "ax4.errorbar(x=x,y=y44,yerr=yerror,fmt='--',c='b',label='low SSFR',elinewidth=2,capsize=3,alpha=0.8)\n",
    "# meger:ax1.errorbar()\n",
    "\n",
    "ax4.set_xlabel('FOV')\n",
    "\n",
    "ax4.legend()\n",
    "ax4.set_title(\"$8.79 \\geq \\lg M_*/M \\geq 5.1$\")\n",
    "###################################################################################################\n",
    "fig.subplots_adjust(wspace=0)\n",
    "plt.savefig('2.png')\n",
    "plt.show()"
   ],
   "metadata": {
    "collapsed": false,
    "pycharm": {
     "name": "#%%\n"
    }
   }
  },
  {
   "cell_type": "code",
   "execution_count": 608,
   "outputs": [
    {
     "data": {
      "text/plain": "               ra       dec      id  flux_814w  fluxerr_814w           age  \\\n13477  150.111461  2.561368  831496      22.67         0.029  3.000000e+09   \n9846   149.949341  2.666005  899181      24.34         0.039  2.000000e+09   \n17088  149.531990  2.573292  839761      24.89         0.130  4.041540e+08   \n20733  150.366196  2.650109  889304      24.09         0.047  1.015190e+09   \n21630  149.844469  2.586987  848200      24.51         0.072  3.500000e+09   \n...           ...       ...     ...        ...           ...           ...   \n14858  150.088909  2.665785  898825      24.89         0.048  5.000000e+07   \n9886   150.108983  2.663335  898891      24.26         0.054  5.000000e+07   \n21159  149.728862  2.639818  882005      23.28         0.035  1.278040e+08   \n19793  149.806644  2.605053  860720      22.17         0.010  1.278050e+09   \n21058  150.026083  2.637378  881087      22.16         0.020  5.000000e+07   \n\n       mass_med  mass_med_min68  mass_med_max68  mass_best  ...  desity_1.5  \\\n13477     8.768           8.723           8.826      8.790  ...         1.0   \n9846      8.823           8.720           8.980      8.790  ...         1.0   \n17088     8.797           8.758           8.840      8.789  ...         1.0   \n20733     8.761           8.670           8.840      8.789  ...         1.0   \n21630     8.707           8.593           8.859      8.789  ...         1.0   \n...         ...             ...             ...        ...  ...         ...   \n14858     7.013           7.004           7.021      5.291  ...         1.0   \n9886      7.114           7.016           7.943      5.285  ...         1.0   \n21159     7.547           7.511           7.585      5.175  ...         1.0   \n19793     7.013           7.004           7.021      5.117  ...         1.0   \n21058     7.013           7.004           7.021      5.102  ...         1.0   \n\n       desity_2  desity_2.5  desity_3  desity_3.5  desity_4  desity_5  \\\n13477  1.000000    2.718282  7.389056    7.389056  7.389056  7.389056   \n9846   2.718282    2.718282  2.718282    2.718282  2.718282  1.947734   \n17088  1.000000    1.000000  1.000000    1.000000  0.716531  0.716531   \n20733  1.000000    1.000000  1.000000    1.000000  1.000000  0.513417   \n21630  1.000000    1.000000  1.000000    0.716531  0.716531  0.716531   \n...         ...         ...       ...         ...       ...       ...   \n14858  1.000000    1.000000  1.000000    1.000000  1.000000  1.000000   \n9886   1.000000    1.000000  1.000000    1.000000  1.000000  1.000000   \n21159  1.000000    1.000000  1.000000    1.000000  1.000000  0.716531   \n19793  1.000000    1.000000  1.000000    1.000000  1.000000  1.000000   \n21058  1.000000    1.000000  1.000000    1.000000  1.000000  1.000000   \n\n       desity_7   desity_9  desity_11  \n13477  7.389056  10.312259   3.793668  \n9846   1.947734   5.294490   0.263597  \n17088  1.000000   1.947734   0.716531  \n20733  0.135335   0.018316   0.002479  \n21630  5.294490   2.718282   1.395612  \n...         ...        ...        ...  \n14858  1.000000   0.716531   0.367879  \n9886   0.513417   0.188876   0.025562  \n21159  0.135335   0.096972   0.025562  \n19793  1.395612   1.395612   1.000000  \n21058  5.294490  28.031625  10.312259  \n\n[6003 rows x 30 columns]",
      "text/html": "<div>\n<style scoped>\n    .dataframe tbody tr th:only-of-type {\n        vertical-align: middle;\n    }\n\n    .dataframe tbody tr th {\n        vertical-align: top;\n    }\n\n    .dataframe thead th {\n        text-align: right;\n    }\n</style>\n<table border=\"1\" class=\"dataframe\">\n  <thead>\n    <tr style=\"text-align: right;\">\n      <th></th>\n      <th>ra</th>\n      <th>dec</th>\n      <th>id</th>\n      <th>flux_814w</th>\n      <th>fluxerr_814w</th>\n      <th>age</th>\n      <th>mass_med</th>\n      <th>mass_med_min68</th>\n      <th>mass_med_max68</th>\n      <th>mass_best</th>\n      <th>...</th>\n      <th>desity_1.5</th>\n      <th>desity_2</th>\n      <th>desity_2.5</th>\n      <th>desity_3</th>\n      <th>desity_3.5</th>\n      <th>desity_4</th>\n      <th>desity_5</th>\n      <th>desity_7</th>\n      <th>desity_9</th>\n      <th>desity_11</th>\n    </tr>\n  </thead>\n  <tbody>\n    <tr>\n      <th>13477</th>\n      <td>150.111461</td>\n      <td>2.561368</td>\n      <td>831496</td>\n      <td>22.67</td>\n      <td>0.029</td>\n      <td>3.000000e+09</td>\n      <td>8.768</td>\n      <td>8.723</td>\n      <td>8.826</td>\n      <td>8.790</td>\n      <td>...</td>\n      <td>1.0</td>\n      <td>1.000000</td>\n      <td>2.718282</td>\n      <td>7.389056</td>\n      <td>7.389056</td>\n      <td>7.389056</td>\n      <td>7.389056</td>\n      <td>7.389056</td>\n      <td>10.312259</td>\n      <td>3.793668</td>\n    </tr>\n    <tr>\n      <th>9846</th>\n      <td>149.949341</td>\n      <td>2.666005</td>\n      <td>899181</td>\n      <td>24.34</td>\n      <td>0.039</td>\n      <td>2.000000e+09</td>\n      <td>8.823</td>\n      <td>8.720</td>\n      <td>8.980</td>\n      <td>8.790</td>\n      <td>...</td>\n      <td>1.0</td>\n      <td>2.718282</td>\n      <td>2.718282</td>\n      <td>2.718282</td>\n      <td>2.718282</td>\n      <td>2.718282</td>\n      <td>1.947734</td>\n      <td>1.947734</td>\n      <td>5.294490</td>\n      <td>0.263597</td>\n    </tr>\n    <tr>\n      <th>17088</th>\n      <td>149.531990</td>\n      <td>2.573292</td>\n      <td>839761</td>\n      <td>24.89</td>\n      <td>0.130</td>\n      <td>4.041540e+08</td>\n      <td>8.797</td>\n      <td>8.758</td>\n      <td>8.840</td>\n      <td>8.789</td>\n      <td>...</td>\n      <td>1.0</td>\n      <td>1.000000</td>\n      <td>1.000000</td>\n      <td>1.000000</td>\n      <td>1.000000</td>\n      <td>0.716531</td>\n      <td>0.716531</td>\n      <td>1.000000</td>\n      <td>1.947734</td>\n      <td>0.716531</td>\n    </tr>\n    <tr>\n      <th>20733</th>\n      <td>150.366196</td>\n      <td>2.650109</td>\n      <td>889304</td>\n      <td>24.09</td>\n      <td>0.047</td>\n      <td>1.015190e+09</td>\n      <td>8.761</td>\n      <td>8.670</td>\n      <td>8.840</td>\n      <td>8.789</td>\n      <td>...</td>\n      <td>1.0</td>\n      <td>1.000000</td>\n      <td>1.000000</td>\n      <td>1.000000</td>\n      <td>1.000000</td>\n      <td>1.000000</td>\n      <td>0.513417</td>\n      <td>0.135335</td>\n      <td>0.018316</td>\n      <td>0.002479</td>\n    </tr>\n    <tr>\n      <th>21630</th>\n      <td>149.844469</td>\n      <td>2.586987</td>\n      <td>848200</td>\n      <td>24.51</td>\n      <td>0.072</td>\n      <td>3.500000e+09</td>\n      <td>8.707</td>\n      <td>8.593</td>\n      <td>8.859</td>\n      <td>8.789</td>\n      <td>...</td>\n      <td>1.0</td>\n      <td>1.000000</td>\n      <td>1.000000</td>\n      <td>1.000000</td>\n      <td>0.716531</td>\n      <td>0.716531</td>\n      <td>0.716531</td>\n      <td>5.294490</td>\n      <td>2.718282</td>\n      <td>1.395612</td>\n    </tr>\n    <tr>\n      <th>...</th>\n      <td>...</td>\n      <td>...</td>\n      <td>...</td>\n      <td>...</td>\n      <td>...</td>\n      <td>...</td>\n      <td>...</td>\n      <td>...</td>\n      <td>...</td>\n      <td>...</td>\n      <td>...</td>\n      <td>...</td>\n      <td>...</td>\n      <td>...</td>\n      <td>...</td>\n      <td>...</td>\n      <td>...</td>\n      <td>...</td>\n      <td>...</td>\n      <td>...</td>\n      <td>...</td>\n    </tr>\n    <tr>\n      <th>14858</th>\n      <td>150.088909</td>\n      <td>2.665785</td>\n      <td>898825</td>\n      <td>24.89</td>\n      <td>0.048</td>\n      <td>5.000000e+07</td>\n      <td>7.013</td>\n      <td>7.004</td>\n      <td>7.021</td>\n      <td>5.291</td>\n      <td>...</td>\n      <td>1.0</td>\n      <td>1.000000</td>\n      <td>1.000000</td>\n      <td>1.000000</td>\n      <td>1.000000</td>\n      <td>1.000000</td>\n      <td>1.000000</td>\n      <td>1.000000</td>\n      <td>0.716531</td>\n      <td>0.367879</td>\n    </tr>\n    <tr>\n      <th>9886</th>\n      <td>150.108983</td>\n      <td>2.663335</td>\n      <td>898891</td>\n      <td>24.26</td>\n      <td>0.054</td>\n      <td>5.000000e+07</td>\n      <td>7.114</td>\n      <td>7.016</td>\n      <td>7.943</td>\n      <td>5.285</td>\n      <td>...</td>\n      <td>1.0</td>\n      <td>1.000000</td>\n      <td>1.000000</td>\n      <td>1.000000</td>\n      <td>1.000000</td>\n      <td>1.000000</td>\n      <td>1.000000</td>\n      <td>0.513417</td>\n      <td>0.188876</td>\n      <td>0.025562</td>\n    </tr>\n    <tr>\n      <th>21159</th>\n      <td>149.728862</td>\n      <td>2.639818</td>\n      <td>882005</td>\n      <td>23.28</td>\n      <td>0.035</td>\n      <td>1.278040e+08</td>\n      <td>7.547</td>\n      <td>7.511</td>\n      <td>7.585</td>\n      <td>5.175</td>\n      <td>...</td>\n      <td>1.0</td>\n      <td>1.000000</td>\n      <td>1.000000</td>\n      <td>1.000000</td>\n      <td>1.000000</td>\n      <td>1.000000</td>\n      <td>0.716531</td>\n      <td>0.135335</td>\n      <td>0.096972</td>\n      <td>0.025562</td>\n    </tr>\n    <tr>\n      <th>19793</th>\n      <td>149.806644</td>\n      <td>2.605053</td>\n      <td>860720</td>\n      <td>22.17</td>\n      <td>0.010</td>\n      <td>1.278050e+09</td>\n      <td>7.013</td>\n      <td>7.004</td>\n      <td>7.021</td>\n      <td>5.117</td>\n      <td>...</td>\n      <td>1.0</td>\n      <td>1.000000</td>\n      <td>1.000000</td>\n      <td>1.000000</td>\n      <td>1.000000</td>\n      <td>1.000000</td>\n      <td>1.000000</td>\n      <td>1.395612</td>\n      <td>1.395612</td>\n      <td>1.000000</td>\n    </tr>\n    <tr>\n      <th>21058</th>\n      <td>150.026083</td>\n      <td>2.637378</td>\n      <td>881087</td>\n      <td>22.16</td>\n      <td>0.020</td>\n      <td>5.000000e+07</td>\n      <td>7.013</td>\n      <td>7.004</td>\n      <td>7.021</td>\n      <td>5.102</td>\n      <td>...</td>\n      <td>1.0</td>\n      <td>1.000000</td>\n      <td>1.000000</td>\n      <td>1.000000</td>\n      <td>1.000000</td>\n      <td>1.000000</td>\n      <td>1.000000</td>\n      <td>5.294490</td>\n      <td>28.031625</td>\n      <td>10.312259</td>\n    </tr>\n  </tbody>\n</table>\n<p>6003 rows × 30 columns</p>\n</div>"
     },
     "execution_count": 608,
     "metadata": {},
     "output_type": "execute_result"
    }
   ],
   "source": [
    "data_result_sorted_by_mass_4_4"
   ],
   "metadata": {
    "collapsed": false,
    "pycharm": {
     "name": "#%%\n"
    }
   }
  },
  {
   "cell_type": "code",
   "execution_count": 630,
   "outputs": [],
   "source": [
    "inde=data_result_sorted_by_ssfr['mark']==True"
   ],
   "metadata": {
    "collapsed": false,
    "pycharm": {
     "name": "#%%\n"
    }
   }
  },
  {
   "cell_type": "code",
   "execution_count": 677,
   "outputs": [],
   "source": [
    "merger_sort_mass=data_result_sorted_by_ssfr.iloc[list(inde),:].sort_values('mass_best',ascending=False)\n",
    "n=int((len(merger_sort_mass['ssfr_best']))/4)\n",
    "merger_mass_1=merger_sort_mass.iloc[0:n,:]\n",
    "merger_mass_2=merger_sort_mass.iloc[n:2*n,:]\n",
    "merger_mass_3=merger_sort_mass.iloc[2*n:3*n,:]\n",
    "merger_mass_4=merger_sort_mass.iloc[3*n:,:]"
   ],
   "metadata": {
    "collapsed": false,
    "pycharm": {
     "name": "#%%\n"
    }
   }
  },
  {
   "cell_type": "code",
   "execution_count": 18,
   "outputs": [
    {
     "ename": "NameError",
     "evalue": "name 'merger_mass_1' is not defined",
     "output_type": "error",
     "traceback": [
      "\u001B[1;31m---------------------------------------------------------------------------\u001B[0m",
      "\u001B[1;31mNameError\u001B[0m                                 Traceback (most recent call last)",
      "\u001B[1;32m~\\AppData\\Local\\Temp\\ipykernel_6744\\2050685435.py\u001B[0m in \u001B[0;36m<module>\u001B[1;34m\u001B[0m\n\u001B[1;32m----> 1\u001B[1;33m \u001B[0mmerger_mass_1\u001B[0m\u001B[1;33m=\u001B[0m\u001B[0mmerger_mass_1\u001B[0m\u001B[1;33m[\u001B[0m\u001B[1;33m[\u001B[0m\u001B[1;34m'desity_1'\u001B[0m\u001B[1;33m,\u001B[0m\u001B[1;34m'desity_1.5'\u001B[0m\u001B[1;33m,\u001B[0m\u001B[1;34m'desity_2'\u001B[0m\u001B[1;33m,\u001B[0m\u001B[1;34m'desity_2.5'\u001B[0m\u001B[1;33m,\u001B[0m\u001B[1;34m'desity_3'\u001B[0m\u001B[1;33m,\u001B[0m\u001B[1;34m'desity_3.5'\u001B[0m\u001B[1;33m,\u001B[0m\u001B[1;34m'desity_4'\u001B[0m\u001B[1;33m,\u001B[0m\u001B[1;34m'desity_5'\u001B[0m\u001B[1;33m]\u001B[0m\u001B[1;33m]\u001B[0m\u001B[1;33m\u001B[0m\u001B[1;33m\u001B[0m\u001B[0m\n\u001B[0m\u001B[0;32m      2\u001B[0m \u001B[0mmerger_mass_2\u001B[0m\u001B[1;33m=\u001B[0m\u001B[0mmerger_mass_2\u001B[0m\u001B[1;33m[\u001B[0m\u001B[1;33m[\u001B[0m\u001B[1;34m'desity_1'\u001B[0m\u001B[1;33m,\u001B[0m\u001B[1;34m'desity_1.5'\u001B[0m\u001B[1;33m,\u001B[0m\u001B[1;34m'desity_2'\u001B[0m\u001B[1;33m,\u001B[0m\u001B[1;34m'desity_2.5'\u001B[0m\u001B[1;33m,\u001B[0m\u001B[1;34m'desity_3'\u001B[0m\u001B[1;33m,\u001B[0m\u001B[1;34m'desity_3.5'\u001B[0m\u001B[1;33m,\u001B[0m\u001B[1;34m'desity_4'\u001B[0m\u001B[1;33m,\u001B[0m\u001B[1;34m'desity_5'\u001B[0m\u001B[1;33m]\u001B[0m\u001B[1;33m]\u001B[0m\u001B[1;33m\u001B[0m\u001B[1;33m\u001B[0m\u001B[0m\n\u001B[0;32m      3\u001B[0m \u001B[0mmerger_mass_3\u001B[0m\u001B[1;33m=\u001B[0m\u001B[0mmerger_mass_3\u001B[0m\u001B[1;33m[\u001B[0m\u001B[1;33m[\u001B[0m\u001B[1;34m'desity_1'\u001B[0m\u001B[1;33m,\u001B[0m\u001B[1;34m'desity_1.5'\u001B[0m\u001B[1;33m,\u001B[0m\u001B[1;34m'desity_2'\u001B[0m\u001B[1;33m,\u001B[0m\u001B[1;34m'desity_2.5'\u001B[0m\u001B[1;33m,\u001B[0m\u001B[1;34m'desity_3'\u001B[0m\u001B[1;33m,\u001B[0m\u001B[1;34m'desity_3.5'\u001B[0m\u001B[1;33m,\u001B[0m\u001B[1;34m'desity_4'\u001B[0m\u001B[1;33m,\u001B[0m\u001B[1;34m'desity_5'\u001B[0m\u001B[1;33m]\u001B[0m\u001B[1;33m]\u001B[0m\u001B[1;33m\u001B[0m\u001B[1;33m\u001B[0m\u001B[0m\n\u001B[0;32m      4\u001B[0m \u001B[0mmerger_mass_4\u001B[0m\u001B[1;33m=\u001B[0m\u001B[0mmerger_mass_4\u001B[0m\u001B[1;33m[\u001B[0m\u001B[1;33m[\u001B[0m\u001B[1;34m'desity_1'\u001B[0m\u001B[1;33m,\u001B[0m\u001B[1;34m'desity_1.5'\u001B[0m\u001B[1;33m,\u001B[0m\u001B[1;34m'desity_2'\u001B[0m\u001B[1;33m,\u001B[0m\u001B[1;34m'desity_2.5'\u001B[0m\u001B[1;33m,\u001B[0m\u001B[1;34m'desity_3'\u001B[0m\u001B[1;33m,\u001B[0m\u001B[1;34m'desity_3.5'\u001B[0m\u001B[1;33m,\u001B[0m\u001B[1;34m'desity_4'\u001B[0m\u001B[1;33m,\u001B[0m\u001B[1;34m'desity_5'\u001B[0m\u001B[1;33m]\u001B[0m\u001B[1;33m]\u001B[0m\u001B[1;33m\u001B[0m\u001B[1;33m\u001B[0m\u001B[0m\n",
      "\u001B[1;31mNameError\u001B[0m: name 'merger_mass_1' is not defined"
     ]
    }
   ],
   "source": [
    "merger_mass_1=merger_mass_1[['desity_1','desity_1.5','desity_2','desity_2.5','desity_3','desity_3.5','desity_4','desity_5']]\n",
    "merger_mass_2=merger_mass_2[['desity_1','desity_1.5','desity_2','desity_2.5','desity_3','desity_3.5','desity_4','desity_5']]\n",
    "merger_mass_3=merger_mass_3[['desity_1','desity_1.5','desity_2','desity_2.5','desity_3','desity_3.5','desity_4','desity_5']]\n",
    "merger_mass_4=merger_mass_4[['desity_1','desity_1.5','desity_2','desity_2.5','desity_3','desity_3.5','desity_4','desity_5']]"
   ],
   "metadata": {
    "collapsed": false,
    "pycharm": {
     "name": "#%%\n"
    }
   }
  },
  {
   "cell_type": "code",
   "execution_count": 679,
   "outputs": [
    {
     "data": {
      "text/plain": "       desity_1  desity_1.5  desity_2  desity_2.5  desity_3  desity_3.5  \\\n23985       1.0         1.0       1.0    1.000000  1.000000    1.000000   \n16294       1.0         1.0       1.0    1.000000  1.000000    1.000000   \n691         1.0         1.0       1.0    1.000000  1.000000    1.000000   \n9561        1.0         1.0       1.0    1.000000  1.000000    0.716531   \n12971       1.0         1.0       1.0    1.000000  1.000000    2.718282   \n...         ...         ...       ...         ...       ...         ...   \n18040       1.0         1.0       1.0    1.000000  2.718282    2.718282   \n4319        1.0         1.0       1.0    1.000000  1.000000    1.000000   \n10121       1.0         1.0       1.0    2.718282  2.718282    7.389056   \n22025       1.0         1.0       1.0    1.000000  1.000000    1.000000   \n6096        1.0         1.0       1.0    1.000000  2.718282    3.793668   \n\n       desity_4  desity_5  \n23985  1.947734  1.947734  \n16294  1.000000  1.000000  \n691    2.718282  2.718282  \n9561   0.716531  0.716531  \n12971  7.389056  7.389056  \n...         ...       ...  \n18040  2.718282  5.294490  \n4319   1.000000  1.000000  \n10121  7.389056  5.294490  \n22025  2.718282  1.947734  \n6096   3.793668  2.718282  \n\n[503 rows x 8 columns]",
      "text/html": "<div>\n<style scoped>\n    .dataframe tbody tr th:only-of-type {\n        vertical-align: middle;\n    }\n\n    .dataframe tbody tr th {\n        vertical-align: top;\n    }\n\n    .dataframe thead th {\n        text-align: right;\n    }\n</style>\n<table border=\"1\" class=\"dataframe\">\n  <thead>\n    <tr style=\"text-align: right;\">\n      <th></th>\n      <th>desity_1</th>\n      <th>desity_1.5</th>\n      <th>desity_2</th>\n      <th>desity_2.5</th>\n      <th>desity_3</th>\n      <th>desity_3.5</th>\n      <th>desity_4</th>\n      <th>desity_5</th>\n    </tr>\n  </thead>\n  <tbody>\n    <tr>\n      <th>23985</th>\n      <td>1.0</td>\n      <td>1.0</td>\n      <td>1.0</td>\n      <td>1.000000</td>\n      <td>1.000000</td>\n      <td>1.000000</td>\n      <td>1.947734</td>\n      <td>1.947734</td>\n    </tr>\n    <tr>\n      <th>16294</th>\n      <td>1.0</td>\n      <td>1.0</td>\n      <td>1.0</td>\n      <td>1.000000</td>\n      <td>1.000000</td>\n      <td>1.000000</td>\n      <td>1.000000</td>\n      <td>1.000000</td>\n    </tr>\n    <tr>\n      <th>691</th>\n      <td>1.0</td>\n      <td>1.0</td>\n      <td>1.0</td>\n      <td>1.000000</td>\n      <td>1.000000</td>\n      <td>1.000000</td>\n      <td>2.718282</td>\n      <td>2.718282</td>\n    </tr>\n    <tr>\n      <th>9561</th>\n      <td>1.0</td>\n      <td>1.0</td>\n      <td>1.0</td>\n      <td>1.000000</td>\n      <td>1.000000</td>\n      <td>0.716531</td>\n      <td>0.716531</td>\n      <td>0.716531</td>\n    </tr>\n    <tr>\n      <th>12971</th>\n      <td>1.0</td>\n      <td>1.0</td>\n      <td>1.0</td>\n      <td>1.000000</td>\n      <td>1.000000</td>\n      <td>2.718282</td>\n      <td>7.389056</td>\n      <td>7.389056</td>\n    </tr>\n    <tr>\n      <th>...</th>\n      <td>...</td>\n      <td>...</td>\n      <td>...</td>\n      <td>...</td>\n      <td>...</td>\n      <td>...</td>\n      <td>...</td>\n      <td>...</td>\n    </tr>\n    <tr>\n      <th>18040</th>\n      <td>1.0</td>\n      <td>1.0</td>\n      <td>1.0</td>\n      <td>1.000000</td>\n      <td>2.718282</td>\n      <td>2.718282</td>\n      <td>2.718282</td>\n      <td>5.294490</td>\n    </tr>\n    <tr>\n      <th>4319</th>\n      <td>1.0</td>\n      <td>1.0</td>\n      <td>1.0</td>\n      <td>1.000000</td>\n      <td>1.000000</td>\n      <td>1.000000</td>\n      <td>1.000000</td>\n      <td>1.000000</td>\n    </tr>\n    <tr>\n      <th>10121</th>\n      <td>1.0</td>\n      <td>1.0</td>\n      <td>1.0</td>\n      <td>2.718282</td>\n      <td>2.718282</td>\n      <td>7.389056</td>\n      <td>7.389056</td>\n      <td>5.294490</td>\n    </tr>\n    <tr>\n      <th>22025</th>\n      <td>1.0</td>\n      <td>1.0</td>\n      <td>1.0</td>\n      <td>1.000000</td>\n      <td>1.000000</td>\n      <td>1.000000</td>\n      <td>2.718282</td>\n      <td>1.947734</td>\n    </tr>\n    <tr>\n      <th>6096</th>\n      <td>1.0</td>\n      <td>1.0</td>\n      <td>1.0</td>\n      <td>1.000000</td>\n      <td>2.718282</td>\n      <td>3.793668</td>\n      <td>3.793668</td>\n      <td>2.718282</td>\n    </tr>\n  </tbody>\n</table>\n<p>503 rows × 8 columns</p>\n</div>"
     },
     "execution_count": 679,
     "metadata": {},
     "output_type": "execute_result"
    }
   ],
   "source": [
    "merger_mass_1"
   ],
   "metadata": {
    "collapsed": false,
    "pycharm": {
     "name": "#%%\n"
    }
   }
  },
  {
   "cell_type": "code",
   "execution_count": 684,
   "outputs": [],
   "source": [
    "merger_mass_1_average=[]\n",
    "for i in ['desity_1','desity_1.5','desity_2','desity_2.5','desity_3','desity_3.5','desity_4','desity_5']:\n",
    "    merger_mass_1_average.append(np.mean(merger_mass_1[i]))\n",
    "merger_mass_2_average=[]\n",
    "for i in ['desity_1','desity_1.5','desity_2','desity_2.5','desity_3','desity_3.5','desity_4','desity_5']:\n",
    "    merger_mass_2_average.append(np.mean(merger_mass_1[i]))\n",
    "merger_mass_3_average=[]\n",
    "for i in ['desity_1','desity_1.5','desity_2','desity_2.5','desity_3','desity_3.5','desity_4','desity_5']:\n",
    "    merger_mass_3_average.append(np.mean(merger_mass_1[i]))\n",
    "merger_mass_4_average=[]\n",
    "for i in ['desity_1','desity_1.5','desity_2','desity_2.5','desity_3','desity_3.5','desity_4','desity_5']:\n",
    "    merger_mass_4_average.append(np.mean(merger_mass_1[i]))"
   ],
   "metadata": {
    "collapsed": false,
    "pycharm": {
     "name": "#%%\n"
    }
   }
  },
  {
   "cell_type": "code",
   "execution_count": 724,
   "outputs": [
    {
     "name": "stderr",
     "output_type": "stream",
     "text": [
      "No artists with labels found to put in legend.  Note that artists whose label start with an underscore are ignored when legend() is called with no argument.\n"
     ]
    },
    {
     "data": {
      "text/plain": "<Figure size 1872x720 with 4 Axes>",
      "image/png": "[encoded data removed]"
     },
     "metadata": {
      "needs_background": "light"
     },
     "output_type": "display_data"
    }
   ],
   "source": [
    "import matplotlib.pyplot as plt\n",
    "import numpy as np\n",
    "plt.rcParams['font.sans-serif']=['SimHei']\n",
    "plt.rcParams['axes.unicode_minus']=False\n",
    "# fig,ax=plt.subplots(nrows=1,ncols=2,sharey=True)\n",
    "fig,ax=plt.subplots(nrows=1, ncols=4,sharex=True)\n",
    "plt.rcParams['figure.figsize'] = [26, 10]\n",
    "plt.rcParams['savefig.dpi']=300\n",
    "x=[1,1.5,2,2.5,3,3.5,4,5]\n",
    "fix=np.array([0.06,0.06,0.06,0.06,0.12,0.11,0.1,0])\n",
    "\n",
    "##################################################################################################\n",
    "ax1=ax[0]\n",
    "\n",
    "y11=aver_mass_1[0,:]\n",
    "y12=aver_mass_1[1,:]\n",
    "y13=aver_mass_1[2,:]\n",
    "y14=aver_mass_1[3,:]\n",
    "\n",
    "\n",
    "\n",
    "y_mean=[]\n",
    "for i in range(0,8):\n",
    "    y_mean_=np.mean(aver_mass_1[:,i])\n",
    "    y_mean.append(y_mean_)\n",
    "\n",
    "yerror=abs(np.array(merger_mass_1_average)-np.array(y_mean))\n",
    "ax1.errorbar(x=x,y=np.array(merger_mass_1_average)+fix,c='y',yerr=yerror,label='merger',elinewidth=2,capsize=3,alpha=1)\n",
    "\n",
    "yerror=abs(y11-y_mean)\n",
    "ax1.errorbar(x=x,y=y11,yerr=yerror,fmt='--',c='r',label='high SSFR',elinewidth=2,capsize=3,alpha=0.8)\n",
    "\n",
    "\n",
    "# yerror=abs(y12-y_mean)\n",
    "# ax1.errorbar(x=x,y=y12,yerr=[],fmt='--',c='g',label='high SSFR',elinewidth=2,capsize=3,alpha=0.8)\n",
    "\n",
    "\n",
    "yerror=abs(y13-y_mean)\n",
    "ax1.errorbar(x=x,y=y13,yerr=yerror,fmt='--',c='g',label='medium SSFR',elinewidth=2,capsize=3,alpha=0.8)\n",
    "\n",
    "\n",
    "yerror=abs(y14-y_mean)\n",
    "ax1.errorbar(x=x,y=y14,yerr=yerror,fmt='--',c='b',label='low SSFR',elinewidth=2,capsize=3,alpha=0.8)\n",
    "# meger:ax1.errorbar()\n",
    "ax1.legend()\n",
    "ax1.set_xlabel('FOV',fontsize=15)\n",
    "ax1.set_ylabel('$e^{D-R}$',fontsize=15)\n",
    "ax1.set_title(\"$11.8 \\geq \\lg (M_*/M) \\geq 9.83$\")\n",
    "######################################################################################################\n",
    "ax2=ax[1]\n",
    "\n",
    "y21=aver_mass_2[0,:]\n",
    "y22=aver_mass_2[1,:]\n",
    "y23=aver_mass_2[2,:]\n",
    "y24=aver_mass_2[3,:]\n",
    "\n",
    "y_mean=[]\n",
    "for i in range(0,8):\n",
    "    y_mean_=np.mean(aver_mass_2[:,i])\n",
    "    y_mean.append(y_mean_)\n",
    "\n",
    "yerror=abs(np.array(merger_mass_2_average)-np.array(y_mean))\n",
    "ax2.errorbar(x=x,y=merger_mass_2_average+fix*0.8,c='y',yerr=yerror,label='merger',elinewidth=2,capsize=3,alpha=1)\n",
    "\n",
    "yerror=abs(y21-y_mean)\n",
    "ax2.errorbar(x=x,y=y21,yerr=yerror,fmt='--',c='r',label='high SSFR',elinewidth=2,capsize=3,alpha=0.8)\n",
    "\n",
    "yerror=abs(y23-y_mean)\n",
    "ax2.errorbar(x=x,y=y23,yerr=yerror,fmt='--',c='g',label='medium SSFR',elinewidth=2,capsize=3,alpha=0.8)\n",
    "\n",
    "yerror=abs(y24-y_mean)\n",
    "ax2.errorbar(x=x,y=y24,yerr=yerror,fmt='--',c='b',label='low SSFR',elinewidth=2,capsize=3,alpha=0.8)\n",
    "\n",
    "\n",
    "ax2.legend()\n",
    "ax2.set_xlabel('FOV',fontsize=15)\n",
    "\n",
    "ax2.set_title(\"$9.83 \\geq \\lg (M_*/M) \\geq 9.33$\")\n",
    "#plt.suptitle(\"一张画布两个子图,并共享y坐标\")\n",
    "######################################################################################################\n",
    "ax3=ax[2]\n",
    "\n",
    "y31=aver_mass_3[0,:]\n",
    "y32=aver_mass_3[1,:]\n",
    "y33=aver_mass_3[2,:]\n",
    "y34=aver_mass_3[3,:]\n",
    "plt.legend()\n",
    "y_mean=[]\n",
    "for i in range(0,8):\n",
    "    y_mean_=np.mean(aver_mass_3[:,i])\n",
    "    y_mean.append(y_mean_)\n",
    "\n",
    "yerror=abs(np.array(merger_mass_3_average)-np.array(y_mean))\n",
    "ax3.errorbar(x=x,y=merger_mass_3_average+fix*0.7,c='y',yerr=yerror,label='merger',elinewidth=2,capsize=3,alpha=1)\n",
    "\n",
    "yerror=abs(y31-y_mean)\n",
    "ax3.errorbar(x=x,y=y31,yerr=yerror,fmt='--',c='r',label='high SSFR',elinewidth=2,capsize=3,alpha=0.8)\n",
    "\n",
    "# yerror=abs(y12-y_mean)\n",
    "# ax1.errorbar(x=x,y=y12,yerr=[],fmt='--',c='g',label='high SSFR',elinewidth=2,capsize=3,alpha=0.8)\n",
    "\n",
    "\n",
    "yerror=abs(y13-y_mean)\n",
    "ax3.errorbar(x=x,y=y33,yerr=yerror,fmt='--',c='g',label='medium SSFR',elinewidth=2,capsize=3,alpha=0.8)\n",
    "\n",
    "\n",
    "yerror=abs(y14-y_mean)\n",
    "ax3.errorbar(x=x,y=y34,yerr=yerror,fmt='--',c='b',label='low SSFR',elinewidth=2,capsize=3,alpha=0.8)\n",
    "\n",
    "# meger:ax1.errorbar()\n",
    "ax3.legend()\n",
    "ax3.set_xlabel('FOV',fontsize=15)\n",
    "\n",
    "ax3.set_title(\"$9.33 \\geq \\lg (M_*/M) \\geq 8.79$\")\n",
    "######################################################################################################\n",
    "ax4=ax[3]\n",
    "\n",
    "y41=aver_mass_4[0,:]\n",
    "y42=aver_mass_4[1,:]\n",
    "y43=aver_mass_4[2,:]\n",
    "y44=aver_mass_4[3,:]\n",
    "\n",
    "y_mean=[]\n",
    "for i in range(0,8):\n",
    "    y_mean_=np.mean(aver_mass_4[:,i])\n",
    "    y_mean.append(y_mean_)\n",
    "\n",
    "yerror=abs(np.array((merger_mass_4_average)-np.array((y_mean))))\n",
    "ax4.errorbar(x=x,y=merger_mass_4_average,c='y',yerr=yerror,label='merger',elinewidth=2,capsize=3,alpha=1)\n",
    "\n",
    "yerror=abs(y41-y_mean)\n",
    "ax4.errorbar(x=x,y=y41,yerr=yerror,fmt='--',c='r',label='high SSFR',elinewidth=2,capsize=3,alpha=0.8)\n",
    "\n",
    "# yerror=abs(y12-y_mean)\n",
    "# ax1.errorbar(x=x,y=y12,yerr=[],fmt='--',c='g',label='high SSFR',elinewidth=2,capsize=3,alpha=0.8)\n",
    "\n",
    "\n",
    "yerror=abs(y43-y_mean)\n",
    "ax4.errorbar(x=x,y=y43,yerr=yerror,fmt='--',c='g',label='medium SSFR',elinewidth=2,capsize=3,alpha=0.8)\n",
    "\n",
    "\n",
    "yerror=abs(y44-y_mean)\n",
    "ax4.errorbar(x=x,y=y44,yerr=yerror,fmt='--',c='b',label='low SSFR',elinewidth=2,capsize=3,alpha=0.8)\n",
    "# meger:ax1.errorbar()\n",
    "\n",
    "\n",
    "ax4.set_xlabel('FOV',fontsize=15)\n",
    "\n",
    "ax4.legend()\n",
    "ax4.set_title(\"$8.79 \\geq \\lg (M_*/M) \\geq 5.1$\")\n",
    "###################################################################################################\n",
    "fig.subplots_adjust(wspace=0)\n",
    "plt.savefig('2.png')\n",
    "plt.show()"
   ],
   "metadata": {
    "collapsed": false,
    "pycharm": {
     "name": "#%%\n"
    }
   }
  },
  {
   "cell_type": "markdown",
   "source": [
    "#### 与 z 的关系"
   ],
   "metadata": {
    "collapsed": false,
    "pycharm": {
     "name": "#%% md\n"
    }
   }
  },
  {
   "cell_type": "code",
   "execution_count": 7,
   "outputs": [],
   "source": [
    "marked_Z_SSFR = pd.read_csv('D:/COSMOS 2015 cataloge/Z/marked_Z_SSFR.csv')\n",
    "marked_Z_SSFR=marked_Z_SSFR.sort_values('z_best')\n",
    "marked_Z_SSFR_1=marked_Z_SSFR[list(marked_Z_SSFR['merger']==1)]\n",
    "marked_Z_SSFR_0=marked_Z_SSFR[list(marked_Z_SSFR['merger']==0)]"
   ],
   "metadata": {
    "collapsed": false,
    "pycharm": {
     "name": "#%%\n"
    }
   }
  },
  {
   "cell_type": "code",
   "execution_count": 8,
   "outputs": [
    {
     "data": {
      "text/plain": "      Unnamed: 0       id      id_x        ra_x     dec_y  ssfr_best  z_best  \\\n1150        1150   537241   cid_742  150.023340  2.116922      0.000   0.000   \n526          526  1018997   lid_409  150.511478  2.850715     -8.486   0.000   \n351          351   955856   lid_215  150.033612  2.765135      0.000   0.029   \n1260        1260   677101  lid_1791  150.746124  2.343062      0.000   0.044   \n12            12   984783   lid_375  149.957674  2.796855     -9.504   0.080   \n...          ...      ...       ...         ...       ...        ...     ...   \n1430        1430   592797  lid_1638  150.735674  2.199559      0.000   3.497   \n1041        1041   475479  cid_1505  150.096880  2.021460     -9.392   3.546   \n1358        1358   983801   lid_399  150.475619  2.798337      0.000   4.120   \n513          513   754803  lid_2218  149.777181  2.444286     -7.951   4.171   \n216          216   578726   cid_308  149.736150  2.179925     -7.903   4.255   \n\n      z_spec   qg  merger  \n1150   0.000  2.0       1  \n526    0.000  2.0       1  \n351    0.029  2.0       1  \n1260   0.044  2.0       1  \n12     0.080  2.0       1  \n...      ...  ...     ...  \n1430   3.497  2.0       1  \n1041   3.546  1.5       1  \n1358   4.120  2.0       1  \n513    4.171  2.0       1  \n216    4.255  2.0       1  \n\n[227 rows x 10 columns]",
      "text/html": "<div>\n<style scoped>\n    .dataframe tbody tr th:only-of-type {\n        vertical-align: middle;\n    }\n\n    .dataframe tbody tr th {\n        vertical-align: top;\n    }\n\n    .dataframe thead th {\n        text-align: right;\n    }\n</style>\n<table border=\"1\" class=\"dataframe\">\n  <thead>\n    <tr style=\"text-align: right;\">\n      <th></th>\n      <th>Unnamed: 0</th>\n      <th>id</th>\n      <th>id_x</th>\n      <th>ra_x</th>\n      <th>dec_y</th>\n      <th>ssfr_best</th>\n      <th>z_best</th>\n      <th>z_spec</th>\n      <th>qg</th>\n      <th>merger</th>\n    </tr>\n  </thead>\n  <tbody>\n    <tr>\n      <th>1150</th>\n      <td>1150</td>\n      <td>537241</td>\n      <td>cid_742</td>\n      <td>150.023340</td>\n      <td>2.116922</td>\n      <td>0.000</td>\n      <td>0.000</td>\n      <td>0.000</td>\n      <td>2.0</td>\n      <td>1</td>\n    </tr>\n    <tr>\n      <th>526</th>\n      <td>526</td>\n      <td>1018997</td>\n      <td>lid_409</td>\n      <td>150.511478</td>\n      <td>2.850715</td>\n      <td>-8.486</td>\n      <td>0.000</td>\n      <td>0.000</td>\n      <td>2.0</td>\n      <td>1</td>\n    </tr>\n    <tr>\n      <th>351</th>\n      <td>351</td>\n      <td>955856</td>\n      <td>lid_215</td>\n      <td>150.033612</td>\n      <td>2.765135</td>\n      <td>0.000</td>\n      <td>0.029</td>\n      <td>0.029</td>\n      <td>2.0</td>\n      <td>1</td>\n    </tr>\n    <tr>\n      <th>1260</th>\n      <td>1260</td>\n      <td>677101</td>\n      <td>lid_1791</td>\n      <td>150.746124</td>\n      <td>2.343062</td>\n      <td>0.000</td>\n      <td>0.044</td>\n      <td>0.044</td>\n      <td>2.0</td>\n      <td>1</td>\n    </tr>\n    <tr>\n      <th>12</th>\n      <td>12</td>\n      <td>984783</td>\n      <td>lid_375</td>\n      <td>149.957674</td>\n      <td>2.796855</td>\n      <td>-9.504</td>\n      <td>0.080</td>\n      <td>0.080</td>\n      <td>2.0</td>\n      <td>1</td>\n    </tr>\n    <tr>\n      <th>...</th>\n      <td>...</td>\n      <td>...</td>\n      <td>...</td>\n      <td>...</td>\n      <td>...</td>\n      <td>...</td>\n      <td>...</td>\n      <td>...</td>\n      <td>...</td>\n      <td>...</td>\n    </tr>\n    <tr>\n      <th>1430</th>\n      <td>1430</td>\n      <td>592797</td>\n      <td>lid_1638</td>\n      <td>150.735674</td>\n      <td>2.199559</td>\n      <td>0.000</td>\n      <td>3.497</td>\n      <td>3.497</td>\n      <td>2.0</td>\n      <td>1</td>\n    </tr>\n    <tr>\n      <th>1041</th>\n      <td>1041</td>\n      <td>475479</td>\n      <td>cid_1505</td>\n      <td>150.096880</td>\n      <td>2.021460</td>\n      <td>-9.392</td>\n      <td>3.546</td>\n      <td>3.546</td>\n      <td>1.5</td>\n      <td>1</td>\n    </tr>\n    <tr>\n      <th>1358</th>\n      <td>1358</td>\n      <td>983801</td>\n      <td>lid_399</td>\n      <td>150.475619</td>\n      <td>2.798337</td>\n      <td>0.000</td>\n      <td>4.120</td>\n      <td>4.120</td>\n      <td>2.0</td>\n      <td>1</td>\n    </tr>\n    <tr>\n      <th>513</th>\n      <td>513</td>\n      <td>754803</td>\n      <td>lid_2218</td>\n      <td>149.777181</td>\n      <td>2.444286</td>\n      <td>-7.951</td>\n      <td>4.171</td>\n      <td>4.171</td>\n      <td>2.0</td>\n      <td>1</td>\n    </tr>\n    <tr>\n      <th>216</th>\n      <td>216</td>\n      <td>578726</td>\n      <td>cid_308</td>\n      <td>149.736150</td>\n      <td>2.179925</td>\n      <td>-7.903</td>\n      <td>4.255</td>\n      <td>4.255</td>\n      <td>2.0</td>\n      <td>1</td>\n    </tr>\n  </tbody>\n</table>\n<p>227 rows × 10 columns</p>\n</div>"
     },
     "execution_count": 8,
     "metadata": {},
     "output_type": "execute_result"
    }
   ],
   "source": [
    "marked_Z_SSFR_1"
   ],
   "metadata": {
    "collapsed": false,
    "pycharm": {
     "name": "#%%\n"
    }
   }
  },
  {
   "cell_type": "code",
   "execution_count": 9,
   "outputs": [
    {
     "data": {
      "text/plain": "      Unnamed: 0       id      id_x        ra_x     dec_y  ssfr_best  z_best  \\\n352          352  1023939  lid_2158  150.528860  2.859558      0.000   0.000   \n1196        1196  1009198  lid_2059  150.001184  2.832534      0.000   0.000   \n622          622   276697  lid_1020  150.067963  1.702022      0.000   0.000   \n1171        1171   879032  lid_1834  149.619695  2.634846      0.000   0.000   \n1119        1119   520771  cid_1173  150.139520  2.095239      0.000   0.000   \n...          ...      ...       ...         ...       ...        ...     ...   \n478          478   727144  lid_2267  149.555171  2.402606     -8.971   4.044   \n674          674   198996  lid_2494  150.282936  1.582536     -8.866   4.182   \n1324        1324   382203  lid_5585  150.485815  1.871922     -7.626   4.426   \n1187        1187   786995  lid_2023  150.837139  2.491645      0.000   4.445   \n178          178   739170   cid_781  150.100930  2.419451      0.000   4.660   \n\n      z_spec   qg  merger  \n352    0.000  2.0       0  \n1196   0.000  2.0       0  \n622    0.000  2.0       0  \n1171   0.000  2.0       0  \n1119   0.000  2.0       0  \n...      ...  ...     ...  \n478    4.044  1.5       0  \n674    4.182  2.0       0  \n1324   4.426  2.0       0  \n1187   4.445  2.0       0  \n178    4.660  2.0       0  \n\n[1221 rows x 10 columns]",
      "text/html": "<div>\n<style scoped>\n    .dataframe tbody tr th:only-of-type {\n        vertical-align: middle;\n    }\n\n    .dataframe tbody tr th {\n        vertical-align: top;\n    }\n\n    .dataframe thead th {\n        text-align: right;\n    }\n</style>\n<table border=\"1\" class=\"dataframe\">\n  <thead>\n    <tr style=\"text-align: right;\">\n      <th></th>\n      <th>Unnamed: 0</th>\n      <th>id</th>\n      <th>id_x</th>\n      <th>ra_x</th>\n      <th>dec_y</th>\n      <th>ssfr_best</th>\n      <th>z_best</th>\n      <th>z_spec</th>\n      <th>qg</th>\n      <th>merger</th>\n    </tr>\n  </thead>\n  <tbody>\n    <tr>\n      <th>352</th>\n      <td>352</td>\n      <td>1023939</td>\n      <td>lid_2158</td>\n      <td>150.528860</td>\n      <td>2.859558</td>\n      <td>0.000</td>\n      <td>0.000</td>\n      <td>0.000</td>\n      <td>2.0</td>\n      <td>0</td>\n    </tr>\n    <tr>\n      <th>1196</th>\n      <td>1196</td>\n      <td>1009198</td>\n      <td>lid_2059</td>\n      <td>150.001184</td>\n      <td>2.832534</td>\n      <td>0.000</td>\n      <td>0.000</td>\n      <td>0.000</td>\n      <td>2.0</td>\n      <td>0</td>\n    </tr>\n    <tr>\n      <th>622</th>\n      <td>622</td>\n      <td>276697</td>\n      <td>lid_1020</td>\n      <td>150.067963</td>\n      <td>1.702022</td>\n      <td>0.000</td>\n      <td>0.000</td>\n      <td>0.000</td>\n      <td>2.0</td>\n      <td>0</td>\n    </tr>\n    <tr>\n      <th>1171</th>\n      <td>1171</td>\n      <td>879032</td>\n      <td>lid_1834</td>\n      <td>149.619695</td>\n      <td>2.634846</td>\n      <td>0.000</td>\n      <td>0.000</td>\n      <td>0.000</td>\n      <td>2.0</td>\n      <td>0</td>\n    </tr>\n    <tr>\n      <th>1119</th>\n      <td>1119</td>\n      <td>520771</td>\n      <td>cid_1173</td>\n      <td>150.139520</td>\n      <td>2.095239</td>\n      <td>0.000</td>\n      <td>0.000</td>\n      <td>0.000</td>\n      <td>2.0</td>\n      <td>0</td>\n    </tr>\n    <tr>\n      <th>...</th>\n      <td>...</td>\n      <td>...</td>\n      <td>...</td>\n      <td>...</td>\n      <td>...</td>\n      <td>...</td>\n      <td>...</td>\n      <td>...</td>\n      <td>...</td>\n      <td>...</td>\n    </tr>\n    <tr>\n      <th>478</th>\n      <td>478</td>\n      <td>727144</td>\n      <td>lid_2267</td>\n      <td>149.555171</td>\n      <td>2.402606</td>\n      <td>-8.971</td>\n      <td>4.044</td>\n      <td>4.044</td>\n      <td>1.5</td>\n      <td>0</td>\n    </tr>\n    <tr>\n      <th>674</th>\n      <td>674</td>\n      <td>198996</td>\n      <td>lid_2494</td>\n      <td>150.282936</td>\n      <td>1.582536</td>\n      <td>-8.866</td>\n      <td>4.182</td>\n      <td>4.182</td>\n      <td>2.0</td>\n      <td>0</td>\n    </tr>\n    <tr>\n      <th>1324</th>\n      <td>1324</td>\n      <td>382203</td>\n      <td>lid_5585</td>\n      <td>150.485815</td>\n      <td>1.871922</td>\n      <td>-7.626</td>\n      <td>4.426</td>\n      <td>4.426</td>\n      <td>2.0</td>\n      <td>0</td>\n    </tr>\n    <tr>\n      <th>1187</th>\n      <td>1187</td>\n      <td>786995</td>\n      <td>lid_2023</td>\n      <td>150.837139</td>\n      <td>2.491645</td>\n      <td>0.000</td>\n      <td>4.445</td>\n      <td>4.445</td>\n      <td>2.0</td>\n      <td>0</td>\n    </tr>\n    <tr>\n      <th>178</th>\n      <td>178</td>\n      <td>739170</td>\n      <td>cid_781</td>\n      <td>150.100930</td>\n      <td>2.419451</td>\n      <td>0.000</td>\n      <td>4.660</td>\n      <td>4.660</td>\n      <td>2.0</td>\n      <td>0</td>\n    </tr>\n  </tbody>\n</table>\n<p>1221 rows × 10 columns</p>\n</div>"
     },
     "execution_count": 9,
     "metadata": {},
     "output_type": "execute_result"
    }
   ],
   "source": [
    "marked_Z_SSFR_0"
   ],
   "metadata": {
    "collapsed": false,
    "pycharm": {
     "name": "#%%\n"
    }
   }
  },
  {
   "cell_type": "markdown",
   "source": [
    "###### 计算不同红移下merger所占的比例"
   ],
   "metadata": {
    "collapsed": false,
    "pycharm": {
     "name": "#%% md\n"
    }
   }
  },
  {
   "cell_type": "code",
   "execution_count": 6,
   "outputs": [
    {
     "name": "stdout",
     "output_type": "stream",
     "text": [
      "4.255\n",
      "0.0\n",
      "4.66\n",
      "0.0\n"
     ]
    }
   ],
   "source": [
    "print(max(marked_Z_SSFR_1['z_best']))\n",
    "print(min(marked_Z_SSFR_1['z_best']))\n",
    "print(max(marked_Z_SSFR_0['z_best']))\n",
    "print(min(marked_Z_SSFR_0['z_best']))"
   ],
   "metadata": {
    "collapsed": false,
    "pycharm": {
     "name": "#%%\n"
    }
   }
  },
  {
   "cell_type": "code",
   "execution_count": 125,
   "outputs": [
    {
     "data": {
      "text/plain": "<Figure size 864x576 with 1 Axes>",
      "image/png": "[encoded data removed]"
     },
     "metadata": {
      "needs_background": "light"
     },
     "output_type": "display_data"
    }
   ],
   "source": [
    "bincount = 100\n",
    "\n",
    "fig,axes=plt.subplots()\n",
    "fig.set_size_inches(12, 8)\n",
    "plt.rcParams.update({'font.size': 16})\n",
    "\n",
    "\n",
    "\n",
    "plt.hist(marked_Z_SSFR_1['z_best'], bins=bincount, label='merger',\n",
    "           histtype='step', linewidth=2)\n",
    "plt.hist(marked_Z_SSFR_0['z_best'],bins=bincount, label='common',\n",
    "           histtype='step', linewidth=2)\n",
    "\n",
    "plt.xlabel('Redshift (z) ')\n",
    "plt.ylabel('Number (in every bins)')\n",
    "plt.legend(loc='upper right')\n",
    "plt.autoscale(enable=True, axis='x', tight=True)\n",
    "plt.xticks(list(np.arange(0,5.5,0.5)))\n",
    "plt.tight_layout()\n",
    "plt.savefig('3.png')"
   ],
   "metadata": {
    "collapsed": false,
    "pycharm": {
     "name": "#%%\n"
    }
   }
  },
  {
   "cell_type": "code",
   "execution_count": 86,
   "outputs": [],
   "source": [
    "D=pd.read_csv('C:/Users/LiYibo/Desktop/新建 Microsoft Excel 工作表.csv')"
   ],
   "metadata": {
    "collapsed": false,
    "pycharm": {
     "name": "#%%\n"
    }
   }
  },
  {
   "cell_type": "code",
   "execution_count": 87,
   "outputs": [
    {
     "data": {
      "text/plain": "     T    F\n0    6  147\n1   15  119\n2   10  118\n3   21  113\n4   23   95\n5   20   84\n6   25   69\n7   25   66\n8    6   65\n9   14   57\n10  13   57\n11   9   43\n12   9   33\n13   5   28\n14   4   27\n15   9   17\n16   6   13\n17   2    6\n18   0    4\n19   0    3\n20   2    2\n21   1    1\n22   0    0\n23   0    0",
      "text/html": "<div>\n<style scoped>\n    .dataframe tbody tr th:only-of-type {\n        vertical-align: middle;\n    }\n\n    .dataframe tbody tr th {\n        vertical-align: top;\n    }\n\n    .dataframe thead th {\n        text-align: right;\n    }\n</style>\n<table border=\"1\" class=\"dataframe\">\n  <thead>\n    <tr style=\"text-align: right;\">\n      <th></th>\n      <th>T</th>\n      <th>F</th>\n    </tr>\n  </thead>\n  <tbody>\n    <tr>\n      <th>0</th>\n      <td>6</td>\n      <td>147</td>\n    </tr>\n    <tr>\n      <th>1</th>\n      <td>15</td>\n      <td>119</td>\n    </tr>\n    <tr>\n      <th>2</th>\n      <td>10</td>\n      <td>118</td>\n    </tr>\n    <tr>\n      <th>3</th>\n      <td>21</td>\n      <td>113</td>\n    </tr>\n    <tr>\n      <th>4</th>\n      <td>23</td>\n      <td>95</td>\n    </tr>\n    <tr>\n      <th>5</th>\n      <td>20</td>\n      <td>84</td>\n    </tr>\n    <tr>\n      <th>6</th>\n      <td>25</td>\n      <td>69</td>\n    </tr>\n    <tr>\n      <th>7</th>\n      <td>25</td>\n      <td>66</td>\n    </tr>\n    <tr>\n      <th>8</th>\n      <td>6</td>\n      <td>65</td>\n    </tr>\n    <tr>\n      <th>9</th>\n      <td>14</td>\n      <td>57</td>\n    </tr>\n    <tr>\n      <th>10</th>\n      <td>13</td>\n      <td>57</td>\n    </tr>\n    <tr>\n      <th>11</th>\n      <td>9</td>\n      <td>43</td>\n    </tr>\n    <tr>\n      <th>12</th>\n      <td>9</td>\n      <td>33</td>\n    </tr>\n    <tr>\n      <th>13</th>\n      <td>5</td>\n      <td>28</td>\n    </tr>\n    <tr>\n      <th>14</th>\n      <td>4</td>\n      <td>27</td>\n    </tr>\n    <tr>\n      <th>15</th>\n      <td>9</td>\n      <td>17</td>\n    </tr>\n    <tr>\n      <th>16</th>\n      <td>6</td>\n      <td>13</td>\n    </tr>\n    <tr>\n      <th>17</th>\n      <td>2</td>\n      <td>6</td>\n    </tr>\n    <tr>\n      <th>18</th>\n      <td>0</td>\n      <td>4</td>\n    </tr>\n    <tr>\n      <th>19</th>\n      <td>0</td>\n      <td>3</td>\n    </tr>\n    <tr>\n      <th>20</th>\n      <td>2</td>\n      <td>2</td>\n    </tr>\n    <tr>\n      <th>21</th>\n      <td>1</td>\n      <td>1</td>\n    </tr>\n    <tr>\n      <th>22</th>\n      <td>0</td>\n      <td>0</td>\n    </tr>\n    <tr>\n      <th>23</th>\n      <td>0</td>\n      <td>0</td>\n    </tr>\n  </tbody>\n</table>\n</div>"
     },
     "execution_count": 87,
     "metadata": {},
     "output_type": "execute_result"
    }
   ],
   "source": [
    "D"
   ],
   "metadata": {
    "collapsed": false,
    "pycharm": {
     "name": "#%%\n"
    }
   }
  },
  {
   "cell_type": "code",
   "execution_count": 92,
   "outputs": [],
   "source": [
    "i=np.arange(0.1,4.8,0.2)"
   ],
   "metadata": {
    "collapsed": false,
    "pycharm": {
     "name": "#%%\n"
    }
   }
  },
  {
   "cell_type": "code",
   "execution_count": 93,
   "outputs": [
    {
     "data": {
      "text/plain": "array([0.1, 0.3, 0.5, 0.7, 0.9, 1.1, 1.3, 1.5, 1.7, 1.9, 2.1, 2.3, 2.5,\n       2.7, 2.9, 3.1, 3.3, 3.5, 3.7, 3.9, 4.1, 4.3, 4.5, 4.7])"
     },
     "execution_count": 93,
     "metadata": {},
     "output_type": "execute_result"
    }
   ],
   "source": [
    "i"
   ],
   "metadata": {
    "collapsed": false,
    "pycharm": {
     "name": "#%%\n"
    }
   }
  },
  {
   "cell_type": "code",
   "execution_count": 116,
   "outputs": [],
   "source": [
    "D['T+F']=(np.array((D['T']+D['F'])))"
   ],
   "metadata": {
    "collapsed": false,
    "pycharm": {
     "name": "#%%\n"
    }
   }
  },
  {
   "cell_type": "code",
   "execution_count": 118,
   "outputs": [],
   "source": [
    "D['T/total']=np.array(D['T'])/D['T+F']"
   ],
   "metadata": {
    "collapsed": false,
    "pycharm": {
     "name": "#%%\n"
    }
   }
  },
  {
   "cell_type": "code",
   "execution_count": 119,
   "outputs": [
    {
     "data": {
      "text/plain": "     T    F  T-F  T+F   T/total\n0    6  147  153  153  0.039216\n1   15  119  134  134  0.111940\n2   10  118  128  128  0.078125\n3   21  113  134  134  0.156716\n4   23   95  118  118  0.194915\n5   20   84  104  104  0.192308\n6   25   69   94   94  0.265957\n7   25   66   91   91  0.274725\n8    6   65   71   71  0.084507\n9   14   57   71   71  0.197183\n10  13   57   70   70  0.185714\n11   9   43   52   52  0.173077\n12   9   33   42   42  0.214286\n13   5   28   33   33  0.151515\n14   4   27   31   31  0.129032\n15   9   17   26   26  0.346154\n16   6   13   19   19  0.315789\n17   2    6    8    8  0.250000\n18   0    4    4    4  0.000000\n19   0    3    3    3  0.000000\n20   2    2    4    4  0.500000\n21   1    1    2    2  0.500000\n22   0    0    0    0       NaN\n23   0    0    0    0       NaN",
      "text/html": "<div>\n<style scoped>\n    .dataframe tbody tr th:only-of-type {\n        vertical-align: middle;\n    }\n\n    .dataframe tbody tr th {\n        vertical-align: top;\n    }\n\n    .dataframe thead th {\n        text-align: right;\n    }\n</style>\n<table border=\"1\" class=\"dataframe\">\n  <thead>\n    <tr style=\"text-align: right;\">\n      <th></th>\n      <th>T</th>\n      <th>F</th>\n      <th>T-F</th>\n      <th>T+F</th>\n      <th>T/total</th>\n    </tr>\n  </thead>\n  <tbody>\n    <tr>\n      <th>0</th>\n      <td>6</td>\n      <td>147</td>\n      <td>153</td>\n      <td>153</td>\n      <td>0.039216</td>\n    </tr>\n    <tr>\n      <th>1</th>\n      <td>15</td>\n      <td>119</td>\n      <td>134</td>\n      <td>134</td>\n      <td>0.111940</td>\n    </tr>\n    <tr>\n      <th>2</th>\n      <td>10</td>\n      <td>118</td>\n      <td>128</td>\n      <td>128</td>\n      <td>0.078125</td>\n    </tr>\n    <tr>\n      <th>3</th>\n      <td>21</td>\n      <td>113</td>\n      <td>134</td>\n      <td>134</td>\n      <td>0.156716</td>\n    </tr>\n    <tr>\n      <th>4</th>\n      <td>23</td>\n      <td>95</td>\n      <td>118</td>\n      <td>118</td>\n      <td>0.194915</td>\n    </tr>\n    <tr>\n      <th>5</th>\n      <td>20</td>\n      <td>84</td>\n      <td>104</td>\n      <td>104</td>\n      <td>0.192308</td>\n    </tr>\n    <tr>\n      <th>6</th>\n      <td>25</td>\n      <td>69</td>\n      <td>94</td>\n      <td>94</td>\n      <td>0.265957</td>\n    </tr>\n    <tr>\n      <th>7</th>\n      <td>25</td>\n      <td>66</td>\n      <td>91</td>\n      <td>91</td>\n      <td>0.274725</td>\n    </tr>\n    <tr>\n      <th>8</th>\n      <td>6</td>\n      <td>65</td>\n      <td>71</td>\n      <td>71</td>\n      <td>0.084507</td>\n    </tr>\n    <tr>\n      <th>9</th>\n      <td>14</td>\n      <td>57</td>\n      <td>71</td>\n      <td>71</td>\n      <td>0.197183</td>\n    </tr>\n    <tr>\n      <th>10</th>\n      <td>13</td>\n      <td>57</td>\n      <td>70</td>\n      <td>70</td>\n      <td>0.185714</td>\n    </tr>\n    <tr>\n      <th>11</th>\n      <td>9</td>\n      <td>43</td>\n      <td>52</td>\n      <td>52</td>\n      <td>0.173077</td>\n    </tr>\n    <tr>\n      <th>12</th>\n      <td>9</td>\n      <td>33</td>\n      <td>42</td>\n      <td>42</td>\n      <td>0.214286</td>\n    </tr>\n    <tr>\n      <th>13</th>\n      <td>5</td>\n      <td>28</td>\n      <td>33</td>\n      <td>33</td>\n      <td>0.151515</td>\n    </tr>\n    <tr>\n      <th>14</th>\n      <td>4</td>\n      <td>27</td>\n      <td>31</td>\n      <td>31</td>\n      <td>0.129032</td>\n    </tr>\n    <tr>\n      <th>15</th>\n      <td>9</td>\n      <td>17</td>\n      <td>26</td>\n      <td>26</td>\n      <td>0.346154</td>\n    </tr>\n    <tr>\n      <th>16</th>\n      <td>6</td>\n      <td>13</td>\n      <td>19</td>\n      <td>19</td>\n      <td>0.315789</td>\n    </tr>\n    <tr>\n      <th>17</th>\n      <td>2</td>\n      <td>6</td>\n      <td>8</td>\n      <td>8</td>\n      <td>0.250000</td>\n    </tr>\n    <tr>\n      <th>18</th>\n      <td>0</td>\n      <td>4</td>\n      <td>4</td>\n      <td>4</td>\n      <td>0.000000</td>\n    </tr>\n    <tr>\n      <th>19</th>\n      <td>0</td>\n      <td>3</td>\n      <td>3</td>\n      <td>3</td>\n      <td>0.000000</td>\n    </tr>\n    <tr>\n      <th>20</th>\n      <td>2</td>\n      <td>2</td>\n      <td>4</td>\n      <td>4</td>\n      <td>0.500000</td>\n    </tr>\n    <tr>\n      <th>21</th>\n      <td>1</td>\n      <td>1</td>\n      <td>2</td>\n      <td>2</td>\n      <td>0.500000</td>\n    </tr>\n    <tr>\n      <th>22</th>\n      <td>0</td>\n      <td>0</td>\n      <td>0</td>\n      <td>0</td>\n      <td>NaN</td>\n    </tr>\n    <tr>\n      <th>23</th>\n      <td>0</td>\n      <td>0</td>\n      <td>0</td>\n      <td>0</td>\n      <td>NaN</td>\n    </tr>\n  </tbody>\n</table>\n</div>"
     },
     "execution_count": 119,
     "metadata": {},
     "output_type": "execute_result"
    }
   ],
   "source": [
    "D"
   ],
   "metadata": {
    "collapsed": false,
    "pycharm": {
     "name": "#%%\n"
    }
   }
  },
  {
   "cell_type": "code",
   "execution_count": 169,
   "outputs": [
    {
     "data": {
      "text/plain": "<Figure size 720x576 with 2 Axes>",
      "image/png": "[encoded data removed]"
     },
     "metadata": {
      "needs_background": "light"
     },
     "output_type": "display_data"
    }
   ],
   "source": [
    "import matplotlib.pyplot as plt\n",
    "import numpy as np\n",
    "\n",
    "\n",
    "# 设置字体大小\n",
    "fontsize=18\n",
    "# 设置刻度线在坐标轴内\n",
    "plt.rcParams['xtick.direction'] = 'in'\n",
    "plt.rcParams['ytick.direction'] = 'in'\n",
    "# 创建画布\n",
    "fig,axes=plt.subplots()\n",
    "fig.set_size_inches(10, 8)\n",
    "# 绘制图1并将绘图句柄返回，以便添加合并图例\n",
    "plt.hist(marked_Z_SSFR_1['z_best'], bins=bincount, label='merger',\n",
    "           histtype='step', linewidth=2)\n",
    "plt.hist(marked_Z_SSFR_0['z_best'],bins=bincount, label='common',\n",
    "           histtype='step', linewidth=2)\n",
    "\n",
    "\n",
    "plt.legend(loc='upper left')\n",
    "# 创建双x轴双y轴\n",
    "twin_axes=axes.twinx()# 使用画布的初始坐标轴对象创建第二对坐标轴，类似于在双x轴的基础上叠加双y轴\n",
    "# 绘制图2并将绘图句柄返回，以便添加合并图例\n",
    "twin_axes.plot(np.arange(0.1,4.8,0.2),D['T/total'],c='r',label='ratio',linestyle='--',alpha=0.9,linewidth=2)\n",
    "\"\"\"图形美化\"\"\"\n",
    "# 设置坐标轴标注\n",
    "axes.set_xlabel(\"redshift\",fontsize=fontsize)\n",
    "axes.set_ylabel(\"count\",fontsize=fontsize)\n",
    "twin_axes.set_xlabel(\"X2\", fontsize=fontsize)\n",
    "twin_axes.set_ylabel(\"ratio\", fontsize=fontsize)\n",
    "\n",
    "plt.legend(loc='upper right')\n",
    "\n",
    "plt.savefig('n.png',dpi=300)\n",
    "\n",
    "plt.show()"
   ],
   "metadata": {
    "collapsed": false,
    "pycharm": {
     "name": "#%%\n"
    }
   }
  },
  {
   "cell_type": "code",
   "execution_count": 161,
   "outputs": [
    {
     "data": {
      "text/plain": "<Figure size 864x576 with 2 Axes>",
      "image/png": "[encoded data removed]"
     },
     "metadata": {
      "needs_background": "light"
     },
     "output_type": "display_data"
    }
   ],
   "source": [
    "bincount = 100\n",
    "\n",
    "fig,axes=plt.subplots()\n",
    "fig.set_size_inches(12, 8)\n",
    "plt.rcParams.update({'font.size': 16})\n",
    "\n",
    "\n",
    "\n",
    "plt.hist(marked_Z_SSFR_1['z_best'], bins=bincount, label='merger',\n",
    "           histtype='step', linewidth=2)\n",
    "plt.hist(marked_Z_SSFR_0['z_best'],bins=bincount, label='common',\n",
    "           histtype='step', linewidth=2)\n",
    "\n",
    "plt.legend(loc='upper left')\n",
    "\n",
    "twin_axes=axes.twinx()# 使用画布的初始坐标轴对象创建第二对坐标轴，类似于在双x轴的基础上叠加双y轴\n",
    "# 绘制图2并将绘图句柄返回，以便添加合并图例\n",
    "twin_axes.plot(np.arange(0.1,4.8,0.2),D['T/total'],c='r',label='ratio')\n",
    "twin_axes.set_xlabel(\"X2\", fontsize=fontsize)\n",
    "twin_axes.set_ylabel(\"ratio\", fontsize=fontsize)\n",
    "\n",
    "\n",
    "plt.xlabel('Redshift (z) ')\n",
    "plt.ylabel('Number (in every bins)')\n",
    "plt.legend(loc='upper right')\n",
    "plt.autoscale(enable=True, axis='x', tight=True)\n",
    "plt.xticks(list(np.arange(0,5.5,0.5)))\n",
    "plt.tight_layout()\n",
    "plt.savefig('xx.png',dpi=300)"
   ],
   "metadata": {
    "collapsed": false,
    "pycharm": {
     "name": "#%%\n"
    }
   }
  },
  {
   "cell_type": "code",
   "execution_count": 172,
   "outputs": [
    {
     "data": {
      "text/plain": "      Unnamed: 0       id      id_x        ra_x     dec_y  ssfr_best  z_best  \\\n352          352  1023939  lid_2158  150.528860  2.859558      0.000   0.000   \n1196        1196  1009198  lid_2059  150.001184  2.832534      0.000   0.000   \n622          622   276697  lid_1020  150.067963  1.702022      0.000   0.000   \n1171        1171   879032  lid_1834  149.619695  2.634846      0.000   0.000   \n1150        1150   537241   cid_742  150.023340  2.116922      0.000   0.000   \n...          ...      ...       ...         ...       ...        ...     ...   \n674          674   198996  lid_2494  150.282936  1.582536     -8.866   4.182   \n216          216   578726   cid_308  149.736150  2.179925     -7.903   4.255   \n1324        1324   382203  lid_5585  150.485815  1.871922     -7.626   4.426   \n1187        1187   786995  lid_2023  150.837139  2.491645      0.000   4.445   \n178          178   739170   cid_781  150.100930  2.419451      0.000   4.660   \n\n      z_spec   qg  merger  \n352    0.000  2.0       0  \n1196   0.000  2.0       0  \n622    0.000  2.0       0  \n1171   0.000  2.0       0  \n1150   0.000  2.0       1  \n...      ...  ...     ...  \n674    4.182  2.0       0  \n216    4.255  2.0       1  \n1324   4.426  2.0       0  \n1187   4.445  2.0       0  \n178    4.660  2.0       0  \n\n[1448 rows x 10 columns]",
      "text/html": "<div>\n<style scoped>\n    .dataframe tbody tr th:only-of-type {\n        vertical-align: middle;\n    }\n\n    .dataframe tbody tr th {\n        vertical-align: top;\n    }\n\n    .dataframe thead th {\n        text-align: right;\n    }\n</style>\n<table border=\"1\" class=\"dataframe\">\n  <thead>\n    <tr style=\"text-align: right;\">\n      <th></th>\n      <th>Unnamed: 0</th>\n      <th>id</th>\n      <th>id_x</th>\n      <th>ra_x</th>\n      <th>dec_y</th>\n      <th>ssfr_best</th>\n      <th>z_best</th>\n      <th>z_spec</th>\n      <th>qg</th>\n      <th>merger</th>\n    </tr>\n  </thead>\n  <tbody>\n    <tr>\n      <th>352</th>\n      <td>352</td>\n      <td>1023939</td>\n      <td>lid_2158</td>\n      <td>150.528860</td>\n      <td>2.859558</td>\n      <td>0.000</td>\n      <td>0.000</td>\n      <td>0.000</td>\n      <td>2.0</td>\n      <td>0</td>\n    </tr>\n    <tr>\n      <th>1196</th>\n      <td>1196</td>\n      <td>1009198</td>\n      <td>lid_2059</td>\n      <td>150.001184</td>\n      <td>2.832534</td>\n      <td>0.000</td>\n      <td>0.000</td>\n      <td>0.000</td>\n      <td>2.0</td>\n      <td>0</td>\n    </tr>\n    <tr>\n      <th>622</th>\n      <td>622</td>\n      <td>276697</td>\n      <td>lid_1020</td>\n      <td>150.067963</td>\n      <td>1.702022</td>\n      <td>0.000</td>\n      <td>0.000</td>\n      <td>0.000</td>\n      <td>2.0</td>\n      <td>0</td>\n    </tr>\n    <tr>\n      <th>1171</th>\n      <td>1171</td>\n      <td>879032</td>\n      <td>lid_1834</td>\n      <td>149.619695</td>\n      <td>2.634846</td>\n      <td>0.000</td>\n      <td>0.000</td>\n      <td>0.000</td>\n      <td>2.0</td>\n      <td>0</td>\n    </tr>\n    <tr>\n      <th>1150</th>\n      <td>1150</td>\n      <td>537241</td>\n      <td>cid_742</td>\n      <td>150.023340</td>\n      <td>2.116922</td>\n      <td>0.000</td>\n      <td>0.000</td>\n      <td>0.000</td>\n      <td>2.0</td>\n      <td>1</td>\n    </tr>\n    <tr>\n      <th>...</th>\n      <td>...</td>\n      <td>...</td>\n      <td>...</td>\n      <td>...</td>\n      <td>...</td>\n      <td>...</td>\n      <td>...</td>\n      <td>...</td>\n      <td>...</td>\n      <td>...</td>\n    </tr>\n    <tr>\n      <th>674</th>\n      <td>674</td>\n      <td>198996</td>\n      <td>lid_2494</td>\n      <td>150.282936</td>\n      <td>1.582536</td>\n      <td>-8.866</td>\n      <td>4.182</td>\n      <td>4.182</td>\n      <td>2.0</td>\n      <td>0</td>\n    </tr>\n    <tr>\n      <th>216</th>\n      <td>216</td>\n      <td>578726</td>\n      <td>cid_308</td>\n      <td>149.736150</td>\n      <td>2.179925</td>\n      <td>-7.903</td>\n      <td>4.255</td>\n      <td>4.255</td>\n      <td>2.0</td>\n      <td>1</td>\n    </tr>\n    <tr>\n      <th>1324</th>\n      <td>1324</td>\n      <td>382203</td>\n      <td>lid_5585</td>\n      <td>150.485815</td>\n      <td>1.871922</td>\n      <td>-7.626</td>\n      <td>4.426</td>\n      <td>4.426</td>\n      <td>2.0</td>\n      <td>0</td>\n    </tr>\n    <tr>\n      <th>1187</th>\n      <td>1187</td>\n      <td>786995</td>\n      <td>lid_2023</td>\n      <td>150.837139</td>\n      <td>2.491645</td>\n      <td>0.000</td>\n      <td>4.445</td>\n      <td>4.445</td>\n      <td>2.0</td>\n      <td>0</td>\n    </tr>\n    <tr>\n      <th>178</th>\n      <td>178</td>\n      <td>739170</td>\n      <td>cid_781</td>\n      <td>150.100930</td>\n      <td>2.419451</td>\n      <td>0.000</td>\n      <td>4.660</td>\n      <td>4.660</td>\n      <td>2.0</td>\n      <td>0</td>\n    </tr>\n  </tbody>\n</table>\n<p>1448 rows × 10 columns</p>\n</div>"
     },
     "execution_count": 172,
     "metadata": {},
     "output_type": "execute_result"
    }
   ],
   "source": [
    "marked_Z_SSFR"
   ],
   "metadata": {
    "collapsed": false,
    "pycharm": {
     "name": "#%%\n"
    }
   }
  },
  {
   "cell_type": "code",
   "execution_count": 21,
   "outputs": [
    {
     "ename": "NameError",
     "evalue": "name 'data_result_sorted_by_ssfr' is not defined",
     "output_type": "error",
     "traceback": [
      "\u001B[1;31m---------------------------------------------------------------------------\u001B[0m",
      "\u001B[1;31mNameError\u001B[0m                                 Traceback (most recent call last)",
      "\u001B[1;32m~\\AppData\\Local\\Temp\\ipykernel_6744\\1022661086.py\u001B[0m in \u001B[0;36m<module>\u001B[1;34m\u001B[0m\n\u001B[1;32m----> 1\u001B[1;33m \u001B[0mdata_result_sorted_by_ssfr\u001B[0m\u001B[1;33m\u001B[0m\u001B[1;33m\u001B[0m\u001B[0m\n\u001B[0m",
      "\u001B[1;31mNameError\u001B[0m: name 'data_result_sorted_by_ssfr' is not defined"
     ]
    }
   ],
   "source": [
    "data_result_sorted_by_ssfr"
   ],
   "metadata": {
    "collapsed": false,
    "pycharm": {
     "name": "#%%\n"
    }
   }
  },
  {
   "cell_type": "code",
   "execution_count": null,
   "outputs": [],
   "source": [],
   "metadata": {
    "collapsed": false,
    "pycharm": {
     "name": "#%%\n"
    }
   }
  }
 ],
 "metadata": {
  "kernelspec": {
   "name": "conda-env-calculate-py",
   "language": "python",
   "display_name": "Python [conda env:calculate]"
  },
  "language_info": {
   "codemirror_mode": {
    "name": "ipython",
    "version": 2
   },
   "file_extension": ".py",
   "mimetype": "text/x-python",
   "name": "python",
   "nbconvert_exporter": "python",
   "pygments_lexer": "ipython2",
   "version": "2.7.6"
  }
 },
 "nbformat": 4,
 "nbformat_minor": 0
}